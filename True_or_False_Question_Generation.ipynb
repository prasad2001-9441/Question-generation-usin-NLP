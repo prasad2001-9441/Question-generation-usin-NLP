{
  "nbformat": 4,
  "nbformat_minor": 0,
  "metadata": {
    "colab": {
      "provenance": []
    },
    "kernelspec": {
      "name": "python3",
      "display_name": "Python 3"
    },
    "language_info": {
      "name": "python"
    },
    "widgets": {
      "application/vnd.jupyter.widget-state+json": {
        "b37bbaa87f874d919f2606673ac6c48c": {
          "model_module": "@jupyter-widgets/controls",
          "model_name": "HBoxModel",
          "model_module_version": "1.5.0",
          "state": {
            "_dom_classes": [],
            "_model_module": "@jupyter-widgets/controls",
            "_model_module_version": "1.5.0",
            "_model_name": "HBoxModel",
            "_view_count": null,
            "_view_module": "@jupyter-widgets/controls",
            "_view_module_version": "1.5.0",
            "_view_name": "HBoxView",
            "box_style": "",
            "children": [
              "IPY_MODEL_1408c5d6bf59472e8a31d810d9b692ed",
              "IPY_MODEL_12ea010b7e814dd4972f5ba221ce5923",
              "IPY_MODEL_45133d23853e4d049c49c134641a4a88"
            ],
            "layout": "IPY_MODEL_027baacc8f99404db3394cfe454f307c"
          }
        },
        "1408c5d6bf59472e8a31d810d9b692ed": {
          "model_module": "@jupyter-widgets/controls",
          "model_name": "HTMLModel",
          "model_module_version": "1.5.0",
          "state": {
            "_dom_classes": [],
            "_model_module": "@jupyter-widgets/controls",
            "_model_module_version": "1.5.0",
            "_model_name": "HTMLModel",
            "_view_count": null,
            "_view_module": "@jupyter-widgets/controls",
            "_view_module_version": "1.5.0",
            "_view_name": "HTMLView",
            "description": "",
            "description_tooltip": null,
            "layout": "IPY_MODEL_13efe85dff424eb39bd8cf92daa9f827",
            "placeholder": "​",
            "style": "IPY_MODEL_143784b58ea541efb641fef02c4e5004",
            "value": "Downloading: 100%"
          }
        },
        "12ea010b7e814dd4972f5ba221ce5923": {
          "model_module": "@jupyter-widgets/controls",
          "model_name": "FloatProgressModel",
          "model_module_version": "1.5.0",
          "state": {
            "_dom_classes": [],
            "_model_module": "@jupyter-widgets/controls",
            "_model_module_version": "1.5.0",
            "_model_name": "FloatProgressModel",
            "_view_count": null,
            "_view_module": "@jupyter-widgets/controls",
            "_view_module_version": "1.5.0",
            "_view_name": "ProgressView",
            "bar_style": "success",
            "description": "",
            "description_tooltip": null,
            "layout": "IPY_MODEL_ecf5d7f16696477292c0acaa018cc2ea",
            "max": 1042301,
            "min": 0,
            "orientation": "horizontal",
            "style": "IPY_MODEL_93a228ac43164fd99b836507cb151f7e",
            "value": 1042301
          }
        },
        "45133d23853e4d049c49c134641a4a88": {
          "model_module": "@jupyter-widgets/controls",
          "model_name": "HTMLModel",
          "model_module_version": "1.5.0",
          "state": {
            "_dom_classes": [],
            "_model_module": "@jupyter-widgets/controls",
            "_model_module_version": "1.5.0",
            "_model_name": "HTMLModel",
            "_view_count": null,
            "_view_module": "@jupyter-widgets/controls",
            "_view_module_version": "1.5.0",
            "_view_name": "HTMLView",
            "description": "",
            "description_tooltip": null,
            "layout": "IPY_MODEL_c98738479ddd40c5bf982fd1bb5b89d3",
            "placeholder": "​",
            "style": "IPY_MODEL_1d0d06ce52de4c758328231e12756194",
            "value": " 1.04M/1.04M [00:00&lt;00:00, 12.4MB/s]"
          }
        },
        "027baacc8f99404db3394cfe454f307c": {
          "model_module": "@jupyter-widgets/base",
          "model_name": "LayoutModel",
          "model_module_version": "1.2.0",
          "state": {
            "_model_module": "@jupyter-widgets/base",
            "_model_module_version": "1.2.0",
            "_model_name": "LayoutModel",
            "_view_count": null,
            "_view_module": "@jupyter-widgets/base",
            "_view_module_version": "1.2.0",
            "_view_name": "LayoutView",
            "align_content": null,
            "align_items": null,
            "align_self": null,
            "border": null,
            "bottom": null,
            "display": null,
            "flex": null,
            "flex_flow": null,
            "grid_area": null,
            "grid_auto_columns": null,
            "grid_auto_flow": null,
            "grid_auto_rows": null,
            "grid_column": null,
            "grid_gap": null,
            "grid_row": null,
            "grid_template_areas": null,
            "grid_template_columns": null,
            "grid_template_rows": null,
            "height": null,
            "justify_content": null,
            "justify_items": null,
            "left": null,
            "margin": null,
            "max_height": null,
            "max_width": null,
            "min_height": null,
            "min_width": null,
            "object_fit": null,
            "object_position": null,
            "order": null,
            "overflow": null,
            "overflow_x": null,
            "overflow_y": null,
            "padding": null,
            "right": null,
            "top": null,
            "visibility": null,
            "width": null
          }
        },
        "13efe85dff424eb39bd8cf92daa9f827": {
          "model_module": "@jupyter-widgets/base",
          "model_name": "LayoutModel",
          "model_module_version": "1.2.0",
          "state": {
            "_model_module": "@jupyter-widgets/base",
            "_model_module_version": "1.2.0",
            "_model_name": "LayoutModel",
            "_view_count": null,
            "_view_module": "@jupyter-widgets/base",
            "_view_module_version": "1.2.0",
            "_view_name": "LayoutView",
            "align_content": null,
            "align_items": null,
            "align_self": null,
            "border": null,
            "bottom": null,
            "display": null,
            "flex": null,
            "flex_flow": null,
            "grid_area": null,
            "grid_auto_columns": null,
            "grid_auto_flow": null,
            "grid_auto_rows": null,
            "grid_column": null,
            "grid_gap": null,
            "grid_row": null,
            "grid_template_areas": null,
            "grid_template_columns": null,
            "grid_template_rows": null,
            "height": null,
            "justify_content": null,
            "justify_items": null,
            "left": null,
            "margin": null,
            "max_height": null,
            "max_width": null,
            "min_height": null,
            "min_width": null,
            "object_fit": null,
            "object_position": null,
            "order": null,
            "overflow": null,
            "overflow_x": null,
            "overflow_y": null,
            "padding": null,
            "right": null,
            "top": null,
            "visibility": null,
            "width": null
          }
        },
        "143784b58ea541efb641fef02c4e5004": {
          "model_module": "@jupyter-widgets/controls",
          "model_name": "DescriptionStyleModel",
          "model_module_version": "1.5.0",
          "state": {
            "_model_module": "@jupyter-widgets/controls",
            "_model_module_version": "1.5.0",
            "_model_name": "DescriptionStyleModel",
            "_view_count": null,
            "_view_module": "@jupyter-widgets/base",
            "_view_module_version": "1.2.0",
            "_view_name": "StyleView",
            "description_width": ""
          }
        },
        "ecf5d7f16696477292c0acaa018cc2ea": {
          "model_module": "@jupyter-widgets/base",
          "model_name": "LayoutModel",
          "model_module_version": "1.2.0",
          "state": {
            "_model_module": "@jupyter-widgets/base",
            "_model_module_version": "1.2.0",
            "_model_name": "LayoutModel",
            "_view_count": null,
            "_view_module": "@jupyter-widgets/base",
            "_view_module_version": "1.2.0",
            "_view_name": "LayoutView",
            "align_content": null,
            "align_items": null,
            "align_self": null,
            "border": null,
            "bottom": null,
            "display": null,
            "flex": null,
            "flex_flow": null,
            "grid_area": null,
            "grid_auto_columns": null,
            "grid_auto_flow": null,
            "grid_auto_rows": null,
            "grid_column": null,
            "grid_gap": null,
            "grid_row": null,
            "grid_template_areas": null,
            "grid_template_columns": null,
            "grid_template_rows": null,
            "height": null,
            "justify_content": null,
            "justify_items": null,
            "left": null,
            "margin": null,
            "max_height": null,
            "max_width": null,
            "min_height": null,
            "min_width": null,
            "object_fit": null,
            "object_position": null,
            "order": null,
            "overflow": null,
            "overflow_x": null,
            "overflow_y": null,
            "padding": null,
            "right": null,
            "top": null,
            "visibility": null,
            "width": null
          }
        },
        "93a228ac43164fd99b836507cb151f7e": {
          "model_module": "@jupyter-widgets/controls",
          "model_name": "ProgressStyleModel",
          "model_module_version": "1.5.0",
          "state": {
            "_model_module": "@jupyter-widgets/controls",
            "_model_module_version": "1.5.0",
            "_model_name": "ProgressStyleModel",
            "_view_count": null,
            "_view_module": "@jupyter-widgets/base",
            "_view_module_version": "1.2.0",
            "_view_name": "StyleView",
            "bar_color": null,
            "description_width": ""
          }
        },
        "c98738479ddd40c5bf982fd1bb5b89d3": {
          "model_module": "@jupyter-widgets/base",
          "model_name": "LayoutModel",
          "model_module_version": "1.2.0",
          "state": {
            "_model_module": "@jupyter-widgets/base",
            "_model_module_version": "1.2.0",
            "_model_name": "LayoutModel",
            "_view_count": null,
            "_view_module": "@jupyter-widgets/base",
            "_view_module_version": "1.2.0",
            "_view_name": "LayoutView",
            "align_content": null,
            "align_items": null,
            "align_self": null,
            "border": null,
            "bottom": null,
            "display": null,
            "flex": null,
            "flex_flow": null,
            "grid_area": null,
            "grid_auto_columns": null,
            "grid_auto_flow": null,
            "grid_auto_rows": null,
            "grid_column": null,
            "grid_gap": null,
            "grid_row": null,
            "grid_template_areas": null,
            "grid_template_columns": null,
            "grid_template_rows": null,
            "height": null,
            "justify_content": null,
            "justify_items": null,
            "left": null,
            "margin": null,
            "max_height": null,
            "max_width": null,
            "min_height": null,
            "min_width": null,
            "object_fit": null,
            "object_position": null,
            "order": null,
            "overflow": null,
            "overflow_x": null,
            "overflow_y": null,
            "padding": null,
            "right": null,
            "top": null,
            "visibility": null,
            "width": null
          }
        },
        "1d0d06ce52de4c758328231e12756194": {
          "model_module": "@jupyter-widgets/controls",
          "model_name": "DescriptionStyleModel",
          "model_module_version": "1.5.0",
          "state": {
            "_model_module": "@jupyter-widgets/controls",
            "_model_module_version": "1.5.0",
            "_model_name": "DescriptionStyleModel",
            "_view_count": null,
            "_view_module": "@jupyter-widgets/base",
            "_view_module_version": "1.2.0",
            "_view_name": "StyleView",
            "description_width": ""
          }
        },
        "80d0796be865422fb8ccbc1b60d6d291": {
          "model_module": "@jupyter-widgets/controls",
          "model_name": "HBoxModel",
          "model_module_version": "1.5.0",
          "state": {
            "_dom_classes": [],
            "_model_module": "@jupyter-widgets/controls",
            "_model_module_version": "1.5.0",
            "_model_name": "HBoxModel",
            "_view_count": null,
            "_view_module": "@jupyter-widgets/controls",
            "_view_module_version": "1.5.0",
            "_view_name": "HBoxView",
            "box_style": "",
            "children": [
              "IPY_MODEL_1c5c98da4cb043a6b2f69035e0642db1",
              "IPY_MODEL_9d46d7dbc92a419e80ef720607b113d1",
              "IPY_MODEL_250d5f9df06e49b1ab899d36f6269a63"
            ],
            "layout": "IPY_MODEL_4e1befa7096a4da4b936960e99ae3cef"
          }
        },
        "1c5c98da4cb043a6b2f69035e0642db1": {
          "model_module": "@jupyter-widgets/controls",
          "model_name": "HTMLModel",
          "model_module_version": "1.5.0",
          "state": {
            "_dom_classes": [],
            "_model_module": "@jupyter-widgets/controls",
            "_model_module_version": "1.5.0",
            "_model_name": "HTMLModel",
            "_view_count": null,
            "_view_module": "@jupyter-widgets/controls",
            "_view_module_version": "1.5.0",
            "_view_name": "HTMLView",
            "description": "",
            "description_tooltip": null,
            "layout": "IPY_MODEL_178e5ecb27254ac7bb65b617669f0b15",
            "placeholder": "​",
            "style": "IPY_MODEL_9b7f559ccd264d08b4be15e456435de4",
            "value": "Downloading: 100%"
          }
        },
        "9d46d7dbc92a419e80ef720607b113d1": {
          "model_module": "@jupyter-widgets/controls",
          "model_name": "FloatProgressModel",
          "model_module_version": "1.5.0",
          "state": {
            "_dom_classes": [],
            "_model_module": "@jupyter-widgets/controls",
            "_model_module_version": "1.5.0",
            "_model_name": "FloatProgressModel",
            "_view_count": null,
            "_view_module": "@jupyter-widgets/controls",
            "_view_module_version": "1.5.0",
            "_view_name": "ProgressView",
            "bar_style": "success",
            "description": "",
            "description_tooltip": null,
            "layout": "IPY_MODEL_5dd3e4d82be0404e80727eb6fef3cc3b",
            "max": 456318,
            "min": 0,
            "orientation": "horizontal",
            "style": "IPY_MODEL_a02c899a8cd84f98a594dda21e5a9dc2",
            "value": 456318
          }
        },
        "250d5f9df06e49b1ab899d36f6269a63": {
          "model_module": "@jupyter-widgets/controls",
          "model_name": "HTMLModel",
          "model_module_version": "1.5.0",
          "state": {
            "_dom_classes": [],
            "_model_module": "@jupyter-widgets/controls",
            "_model_module_version": "1.5.0",
            "_model_name": "HTMLModel",
            "_view_count": null,
            "_view_module": "@jupyter-widgets/controls",
            "_view_module_version": "1.5.0",
            "_view_name": "HTMLView",
            "description": "",
            "description_tooltip": null,
            "layout": "IPY_MODEL_1724da678b934aa89ccbfd55fa8ed4b0",
            "placeholder": "​",
            "style": "IPY_MODEL_66520d0f78fa499590cdbb937da666f1",
            "value": " 456k/456k [00:00&lt;00:00, 8.13MB/s]"
          }
        },
        "4e1befa7096a4da4b936960e99ae3cef": {
          "model_module": "@jupyter-widgets/base",
          "model_name": "LayoutModel",
          "model_module_version": "1.2.0",
          "state": {
            "_model_module": "@jupyter-widgets/base",
            "_model_module_version": "1.2.0",
            "_model_name": "LayoutModel",
            "_view_count": null,
            "_view_module": "@jupyter-widgets/base",
            "_view_module_version": "1.2.0",
            "_view_name": "LayoutView",
            "align_content": null,
            "align_items": null,
            "align_self": null,
            "border": null,
            "bottom": null,
            "display": null,
            "flex": null,
            "flex_flow": null,
            "grid_area": null,
            "grid_auto_columns": null,
            "grid_auto_flow": null,
            "grid_auto_rows": null,
            "grid_column": null,
            "grid_gap": null,
            "grid_row": null,
            "grid_template_areas": null,
            "grid_template_columns": null,
            "grid_template_rows": null,
            "height": null,
            "justify_content": null,
            "justify_items": null,
            "left": null,
            "margin": null,
            "max_height": null,
            "max_width": null,
            "min_height": null,
            "min_width": null,
            "object_fit": null,
            "object_position": null,
            "order": null,
            "overflow": null,
            "overflow_x": null,
            "overflow_y": null,
            "padding": null,
            "right": null,
            "top": null,
            "visibility": null,
            "width": null
          }
        },
        "178e5ecb27254ac7bb65b617669f0b15": {
          "model_module": "@jupyter-widgets/base",
          "model_name": "LayoutModel",
          "model_module_version": "1.2.0",
          "state": {
            "_model_module": "@jupyter-widgets/base",
            "_model_module_version": "1.2.0",
            "_model_name": "LayoutModel",
            "_view_count": null,
            "_view_module": "@jupyter-widgets/base",
            "_view_module_version": "1.2.0",
            "_view_name": "LayoutView",
            "align_content": null,
            "align_items": null,
            "align_self": null,
            "border": null,
            "bottom": null,
            "display": null,
            "flex": null,
            "flex_flow": null,
            "grid_area": null,
            "grid_auto_columns": null,
            "grid_auto_flow": null,
            "grid_auto_rows": null,
            "grid_column": null,
            "grid_gap": null,
            "grid_row": null,
            "grid_template_areas": null,
            "grid_template_columns": null,
            "grid_template_rows": null,
            "height": null,
            "justify_content": null,
            "justify_items": null,
            "left": null,
            "margin": null,
            "max_height": null,
            "max_width": null,
            "min_height": null,
            "min_width": null,
            "object_fit": null,
            "object_position": null,
            "order": null,
            "overflow": null,
            "overflow_x": null,
            "overflow_y": null,
            "padding": null,
            "right": null,
            "top": null,
            "visibility": null,
            "width": null
          }
        },
        "9b7f559ccd264d08b4be15e456435de4": {
          "model_module": "@jupyter-widgets/controls",
          "model_name": "DescriptionStyleModel",
          "model_module_version": "1.5.0",
          "state": {
            "_model_module": "@jupyter-widgets/controls",
            "_model_module_version": "1.5.0",
            "_model_name": "DescriptionStyleModel",
            "_view_count": null,
            "_view_module": "@jupyter-widgets/base",
            "_view_module_version": "1.2.0",
            "_view_name": "StyleView",
            "description_width": ""
          }
        },
        "5dd3e4d82be0404e80727eb6fef3cc3b": {
          "model_module": "@jupyter-widgets/base",
          "model_name": "LayoutModel",
          "model_module_version": "1.2.0",
          "state": {
            "_model_module": "@jupyter-widgets/base",
            "_model_module_version": "1.2.0",
            "_model_name": "LayoutModel",
            "_view_count": null,
            "_view_module": "@jupyter-widgets/base",
            "_view_module_version": "1.2.0",
            "_view_name": "LayoutView",
            "align_content": null,
            "align_items": null,
            "align_self": null,
            "border": null,
            "bottom": null,
            "display": null,
            "flex": null,
            "flex_flow": null,
            "grid_area": null,
            "grid_auto_columns": null,
            "grid_auto_flow": null,
            "grid_auto_rows": null,
            "grid_column": null,
            "grid_gap": null,
            "grid_row": null,
            "grid_template_areas": null,
            "grid_template_columns": null,
            "grid_template_rows": null,
            "height": null,
            "justify_content": null,
            "justify_items": null,
            "left": null,
            "margin": null,
            "max_height": null,
            "max_width": null,
            "min_height": null,
            "min_width": null,
            "object_fit": null,
            "object_position": null,
            "order": null,
            "overflow": null,
            "overflow_x": null,
            "overflow_y": null,
            "padding": null,
            "right": null,
            "top": null,
            "visibility": null,
            "width": null
          }
        },
        "a02c899a8cd84f98a594dda21e5a9dc2": {
          "model_module": "@jupyter-widgets/controls",
          "model_name": "ProgressStyleModel",
          "model_module_version": "1.5.0",
          "state": {
            "_model_module": "@jupyter-widgets/controls",
            "_model_module_version": "1.5.0",
            "_model_name": "ProgressStyleModel",
            "_view_count": null,
            "_view_module": "@jupyter-widgets/base",
            "_view_module_version": "1.2.0",
            "_view_name": "StyleView",
            "bar_color": null,
            "description_width": ""
          }
        },
        "1724da678b934aa89ccbfd55fa8ed4b0": {
          "model_module": "@jupyter-widgets/base",
          "model_name": "LayoutModel",
          "model_module_version": "1.2.0",
          "state": {
            "_model_module": "@jupyter-widgets/base",
            "_model_module_version": "1.2.0",
            "_model_name": "LayoutModel",
            "_view_count": null,
            "_view_module": "@jupyter-widgets/base",
            "_view_module_version": "1.2.0",
            "_view_name": "LayoutView",
            "align_content": null,
            "align_items": null,
            "align_self": null,
            "border": null,
            "bottom": null,
            "display": null,
            "flex": null,
            "flex_flow": null,
            "grid_area": null,
            "grid_auto_columns": null,
            "grid_auto_flow": null,
            "grid_auto_rows": null,
            "grid_column": null,
            "grid_gap": null,
            "grid_row": null,
            "grid_template_areas": null,
            "grid_template_columns": null,
            "grid_template_rows": null,
            "height": null,
            "justify_content": null,
            "justify_items": null,
            "left": null,
            "margin": null,
            "max_height": null,
            "max_width": null,
            "min_height": null,
            "min_width": null,
            "object_fit": null,
            "object_position": null,
            "order": null,
            "overflow": null,
            "overflow_x": null,
            "overflow_y": null,
            "padding": null,
            "right": null,
            "top": null,
            "visibility": null,
            "width": null
          }
        },
        "66520d0f78fa499590cdbb937da666f1": {
          "model_module": "@jupyter-widgets/controls",
          "model_name": "DescriptionStyleModel",
          "model_module_version": "1.5.0",
          "state": {
            "_model_module": "@jupyter-widgets/controls",
            "_model_module_version": "1.5.0",
            "_model_name": "DescriptionStyleModel",
            "_view_count": null,
            "_view_module": "@jupyter-widgets/base",
            "_view_module_version": "1.2.0",
            "_view_name": "StyleView",
            "description_width": ""
          }
        },
        "0fe276a7b483453b8201815f6bb61d6e": {
          "model_module": "@jupyter-widgets/controls",
          "model_name": "HBoxModel",
          "model_module_version": "1.5.0",
          "state": {
            "_dom_classes": [],
            "_model_module": "@jupyter-widgets/controls",
            "_model_module_version": "1.5.0",
            "_model_name": "HBoxModel",
            "_view_count": null,
            "_view_module": "@jupyter-widgets/controls",
            "_view_module_version": "1.5.0",
            "_view_name": "HBoxView",
            "box_style": "",
            "children": [
              "IPY_MODEL_093e690e80814de29808cf5405b15cc3",
              "IPY_MODEL_4ac23285f1284149a78060df2b90c495",
              "IPY_MODEL_80c04e86a0f546eb86ac355181ed0eea"
            ],
            "layout": "IPY_MODEL_19e1663ee03e41e982072a6f7d4ce362"
          }
        },
        "093e690e80814de29808cf5405b15cc3": {
          "model_module": "@jupyter-widgets/controls",
          "model_name": "HTMLModel",
          "model_module_version": "1.5.0",
          "state": {
            "_dom_classes": [],
            "_model_module": "@jupyter-widgets/controls",
            "_model_module_version": "1.5.0",
            "_model_name": "HTMLModel",
            "_view_count": null,
            "_view_module": "@jupyter-widgets/controls",
            "_view_module_version": "1.5.0",
            "_view_name": "HTMLView",
            "description": "",
            "description_tooltip": null,
            "layout": "IPY_MODEL_2130a174fffa4f4da5444c3a03981e56",
            "placeholder": "​",
            "style": "IPY_MODEL_0009a1e78b1d4c99927ab877d0741c60",
            "value": "Downloading: 100%"
          }
        },
        "4ac23285f1284149a78060df2b90c495": {
          "model_module": "@jupyter-widgets/controls",
          "model_name": "FloatProgressModel",
          "model_module_version": "1.5.0",
          "state": {
            "_dom_classes": [],
            "_model_module": "@jupyter-widgets/controls",
            "_model_module_version": "1.5.0",
            "_model_name": "FloatProgressModel",
            "_view_count": null,
            "_view_module": "@jupyter-widgets/controls",
            "_view_module_version": "1.5.0",
            "_view_name": "ProgressView",
            "bar_style": "success",
            "description": "",
            "description_tooltip": null,
            "layout": "IPY_MODEL_63dd8546f3c64d55bf34fe72f9964ffd",
            "max": 665,
            "min": 0,
            "orientation": "horizontal",
            "style": "IPY_MODEL_e95d85fc3db04b00a6235798b8073d18",
            "value": 665
          }
        },
        "80c04e86a0f546eb86ac355181ed0eea": {
          "model_module": "@jupyter-widgets/controls",
          "model_name": "HTMLModel",
          "model_module_version": "1.5.0",
          "state": {
            "_dom_classes": [],
            "_model_module": "@jupyter-widgets/controls",
            "_model_module_version": "1.5.0",
            "_model_name": "HTMLModel",
            "_view_count": null,
            "_view_module": "@jupyter-widgets/controls",
            "_view_module_version": "1.5.0",
            "_view_name": "HTMLView",
            "description": "",
            "description_tooltip": null,
            "layout": "IPY_MODEL_6b7cd5ef338b4011ae07ea96e8c96278",
            "placeholder": "​",
            "style": "IPY_MODEL_4e5e358b3b4b4828bd64203f39d95fe0",
            "value": " 665/665 [00:00&lt;00:00, 19.0kB/s]"
          }
        },
        "19e1663ee03e41e982072a6f7d4ce362": {
          "model_module": "@jupyter-widgets/base",
          "model_name": "LayoutModel",
          "model_module_version": "1.2.0",
          "state": {
            "_model_module": "@jupyter-widgets/base",
            "_model_module_version": "1.2.0",
            "_model_name": "LayoutModel",
            "_view_count": null,
            "_view_module": "@jupyter-widgets/base",
            "_view_module_version": "1.2.0",
            "_view_name": "LayoutView",
            "align_content": null,
            "align_items": null,
            "align_self": null,
            "border": null,
            "bottom": null,
            "display": null,
            "flex": null,
            "flex_flow": null,
            "grid_area": null,
            "grid_auto_columns": null,
            "grid_auto_flow": null,
            "grid_auto_rows": null,
            "grid_column": null,
            "grid_gap": null,
            "grid_row": null,
            "grid_template_areas": null,
            "grid_template_columns": null,
            "grid_template_rows": null,
            "height": null,
            "justify_content": null,
            "justify_items": null,
            "left": null,
            "margin": null,
            "max_height": null,
            "max_width": null,
            "min_height": null,
            "min_width": null,
            "object_fit": null,
            "object_position": null,
            "order": null,
            "overflow": null,
            "overflow_x": null,
            "overflow_y": null,
            "padding": null,
            "right": null,
            "top": null,
            "visibility": null,
            "width": null
          }
        },
        "2130a174fffa4f4da5444c3a03981e56": {
          "model_module": "@jupyter-widgets/base",
          "model_name": "LayoutModel",
          "model_module_version": "1.2.0",
          "state": {
            "_model_module": "@jupyter-widgets/base",
            "_model_module_version": "1.2.0",
            "_model_name": "LayoutModel",
            "_view_count": null,
            "_view_module": "@jupyter-widgets/base",
            "_view_module_version": "1.2.0",
            "_view_name": "LayoutView",
            "align_content": null,
            "align_items": null,
            "align_self": null,
            "border": null,
            "bottom": null,
            "display": null,
            "flex": null,
            "flex_flow": null,
            "grid_area": null,
            "grid_auto_columns": null,
            "grid_auto_flow": null,
            "grid_auto_rows": null,
            "grid_column": null,
            "grid_gap": null,
            "grid_row": null,
            "grid_template_areas": null,
            "grid_template_columns": null,
            "grid_template_rows": null,
            "height": null,
            "justify_content": null,
            "justify_items": null,
            "left": null,
            "margin": null,
            "max_height": null,
            "max_width": null,
            "min_height": null,
            "min_width": null,
            "object_fit": null,
            "object_position": null,
            "order": null,
            "overflow": null,
            "overflow_x": null,
            "overflow_y": null,
            "padding": null,
            "right": null,
            "top": null,
            "visibility": null,
            "width": null
          }
        },
        "0009a1e78b1d4c99927ab877d0741c60": {
          "model_module": "@jupyter-widgets/controls",
          "model_name": "DescriptionStyleModel",
          "model_module_version": "1.5.0",
          "state": {
            "_model_module": "@jupyter-widgets/controls",
            "_model_module_version": "1.5.0",
            "_model_name": "DescriptionStyleModel",
            "_view_count": null,
            "_view_module": "@jupyter-widgets/base",
            "_view_module_version": "1.2.0",
            "_view_name": "StyleView",
            "description_width": ""
          }
        },
        "63dd8546f3c64d55bf34fe72f9964ffd": {
          "model_module": "@jupyter-widgets/base",
          "model_name": "LayoutModel",
          "model_module_version": "1.2.0",
          "state": {
            "_model_module": "@jupyter-widgets/base",
            "_model_module_version": "1.2.0",
            "_model_name": "LayoutModel",
            "_view_count": null,
            "_view_module": "@jupyter-widgets/base",
            "_view_module_version": "1.2.0",
            "_view_name": "LayoutView",
            "align_content": null,
            "align_items": null,
            "align_self": null,
            "border": null,
            "bottom": null,
            "display": null,
            "flex": null,
            "flex_flow": null,
            "grid_area": null,
            "grid_auto_columns": null,
            "grid_auto_flow": null,
            "grid_auto_rows": null,
            "grid_column": null,
            "grid_gap": null,
            "grid_row": null,
            "grid_template_areas": null,
            "grid_template_columns": null,
            "grid_template_rows": null,
            "height": null,
            "justify_content": null,
            "justify_items": null,
            "left": null,
            "margin": null,
            "max_height": null,
            "max_width": null,
            "min_height": null,
            "min_width": null,
            "object_fit": null,
            "object_position": null,
            "order": null,
            "overflow": null,
            "overflow_x": null,
            "overflow_y": null,
            "padding": null,
            "right": null,
            "top": null,
            "visibility": null,
            "width": null
          }
        },
        "e95d85fc3db04b00a6235798b8073d18": {
          "model_module": "@jupyter-widgets/controls",
          "model_name": "ProgressStyleModel",
          "model_module_version": "1.5.0",
          "state": {
            "_model_module": "@jupyter-widgets/controls",
            "_model_module_version": "1.5.0",
            "_model_name": "ProgressStyleModel",
            "_view_count": null,
            "_view_module": "@jupyter-widgets/base",
            "_view_module_version": "1.2.0",
            "_view_name": "StyleView",
            "bar_color": null,
            "description_width": ""
          }
        },
        "6b7cd5ef338b4011ae07ea96e8c96278": {
          "model_module": "@jupyter-widgets/base",
          "model_name": "LayoutModel",
          "model_module_version": "1.2.0",
          "state": {
            "_model_module": "@jupyter-widgets/base",
            "_model_module_version": "1.2.0",
            "_model_name": "LayoutModel",
            "_view_count": null,
            "_view_module": "@jupyter-widgets/base",
            "_view_module_version": "1.2.0",
            "_view_name": "LayoutView",
            "align_content": null,
            "align_items": null,
            "align_self": null,
            "border": null,
            "bottom": null,
            "display": null,
            "flex": null,
            "flex_flow": null,
            "grid_area": null,
            "grid_auto_columns": null,
            "grid_auto_flow": null,
            "grid_auto_rows": null,
            "grid_column": null,
            "grid_gap": null,
            "grid_row": null,
            "grid_template_areas": null,
            "grid_template_columns": null,
            "grid_template_rows": null,
            "height": null,
            "justify_content": null,
            "justify_items": null,
            "left": null,
            "margin": null,
            "max_height": null,
            "max_width": null,
            "min_height": null,
            "min_width": null,
            "object_fit": null,
            "object_position": null,
            "order": null,
            "overflow": null,
            "overflow_x": null,
            "overflow_y": null,
            "padding": null,
            "right": null,
            "top": null,
            "visibility": null,
            "width": null
          }
        },
        "4e5e358b3b4b4828bd64203f39d95fe0": {
          "model_module": "@jupyter-widgets/controls",
          "model_name": "DescriptionStyleModel",
          "model_module_version": "1.5.0",
          "state": {
            "_model_module": "@jupyter-widgets/controls",
            "_model_module_version": "1.5.0",
            "_model_name": "DescriptionStyleModel",
            "_view_count": null,
            "_view_module": "@jupyter-widgets/base",
            "_view_module_version": "1.2.0",
            "_view_name": "StyleView",
            "description_width": ""
          }
        },
        "6c20a0e0725144689913edcc3d221c1b": {
          "model_module": "@jupyter-widgets/controls",
          "model_name": "HBoxModel",
          "model_module_version": "1.5.0",
          "state": {
            "_dom_classes": [],
            "_model_module": "@jupyter-widgets/controls",
            "_model_module_version": "1.5.0",
            "_model_name": "HBoxModel",
            "_view_count": null,
            "_view_module": "@jupyter-widgets/controls",
            "_view_module_version": "1.5.0",
            "_view_name": "HBoxView",
            "box_style": "",
            "children": [
              "IPY_MODEL_727a874e3f3743a6afc65d91757efdd8",
              "IPY_MODEL_73439c6d9ef64778b3974f99a4e4188d",
              "IPY_MODEL_3453c2984edc4cd385f7ed6e2ed9c19e"
            ],
            "layout": "IPY_MODEL_d202dfd0c3954e39a0d7f6c89a419104"
          }
        },
        "727a874e3f3743a6afc65d91757efdd8": {
          "model_module": "@jupyter-widgets/controls",
          "model_name": "HTMLModel",
          "model_module_version": "1.5.0",
          "state": {
            "_dom_classes": [],
            "_model_module": "@jupyter-widgets/controls",
            "_model_module_version": "1.5.0",
            "_model_name": "HTMLModel",
            "_view_count": null,
            "_view_module": "@jupyter-widgets/controls",
            "_view_module_version": "1.5.0",
            "_view_name": "HTMLView",
            "description": "",
            "description_tooltip": null,
            "layout": "IPY_MODEL_167d35cba04d43b6a824c3f39d381223",
            "placeholder": "​",
            "style": "IPY_MODEL_fc6c113361eb4805b5fd362c4553e63e",
            "value": "Downloading: 100%"
          }
        },
        "73439c6d9ef64778b3974f99a4e4188d": {
          "model_module": "@jupyter-widgets/controls",
          "model_name": "FloatProgressModel",
          "model_module_version": "1.5.0",
          "state": {
            "_dom_classes": [],
            "_model_module": "@jupyter-widgets/controls",
            "_model_module_version": "1.5.0",
            "_model_name": "FloatProgressModel",
            "_view_count": null,
            "_view_module": "@jupyter-widgets/controls",
            "_view_module_version": "1.5.0",
            "_view_name": "ProgressView",
            "bar_style": "success",
            "description": "",
            "description_tooltip": null,
            "layout": "IPY_MODEL_f5ad09266ce04f10838295d21a9cb315",
            "max": 497933648,
            "min": 0,
            "orientation": "horizontal",
            "style": "IPY_MODEL_76cb1d7a5efe4d04b69ed36184da982f",
            "value": 497933648
          }
        },
        "3453c2984edc4cd385f7ed6e2ed9c19e": {
          "model_module": "@jupyter-widgets/controls",
          "model_name": "HTMLModel",
          "model_module_version": "1.5.0",
          "state": {
            "_dom_classes": [],
            "_model_module": "@jupyter-widgets/controls",
            "_model_module_version": "1.5.0",
            "_model_name": "HTMLModel",
            "_view_count": null,
            "_view_module": "@jupyter-widgets/controls",
            "_view_module_version": "1.5.0",
            "_view_name": "HTMLView",
            "description": "",
            "description_tooltip": null,
            "layout": "IPY_MODEL_860fec6829f84abe8b8041cb7dcd42f4",
            "placeholder": "​",
            "style": "IPY_MODEL_aa44a1bd79c24a709c02fdef356c9dfa",
            "value": " 498M/498M [00:12&lt;00:00, 48.6MB/s]"
          }
        },
        "d202dfd0c3954e39a0d7f6c89a419104": {
          "model_module": "@jupyter-widgets/base",
          "model_name": "LayoutModel",
          "model_module_version": "1.2.0",
          "state": {
            "_model_module": "@jupyter-widgets/base",
            "_model_module_version": "1.2.0",
            "_model_name": "LayoutModel",
            "_view_count": null,
            "_view_module": "@jupyter-widgets/base",
            "_view_module_version": "1.2.0",
            "_view_name": "LayoutView",
            "align_content": null,
            "align_items": null,
            "align_self": null,
            "border": null,
            "bottom": null,
            "display": null,
            "flex": null,
            "flex_flow": null,
            "grid_area": null,
            "grid_auto_columns": null,
            "grid_auto_flow": null,
            "grid_auto_rows": null,
            "grid_column": null,
            "grid_gap": null,
            "grid_row": null,
            "grid_template_areas": null,
            "grid_template_columns": null,
            "grid_template_rows": null,
            "height": null,
            "justify_content": null,
            "justify_items": null,
            "left": null,
            "margin": null,
            "max_height": null,
            "max_width": null,
            "min_height": null,
            "min_width": null,
            "object_fit": null,
            "object_position": null,
            "order": null,
            "overflow": null,
            "overflow_x": null,
            "overflow_y": null,
            "padding": null,
            "right": null,
            "top": null,
            "visibility": null,
            "width": null
          }
        },
        "167d35cba04d43b6a824c3f39d381223": {
          "model_module": "@jupyter-widgets/base",
          "model_name": "LayoutModel",
          "model_module_version": "1.2.0",
          "state": {
            "_model_module": "@jupyter-widgets/base",
            "_model_module_version": "1.2.0",
            "_model_name": "LayoutModel",
            "_view_count": null,
            "_view_module": "@jupyter-widgets/base",
            "_view_module_version": "1.2.0",
            "_view_name": "LayoutView",
            "align_content": null,
            "align_items": null,
            "align_self": null,
            "border": null,
            "bottom": null,
            "display": null,
            "flex": null,
            "flex_flow": null,
            "grid_area": null,
            "grid_auto_columns": null,
            "grid_auto_flow": null,
            "grid_auto_rows": null,
            "grid_column": null,
            "grid_gap": null,
            "grid_row": null,
            "grid_template_areas": null,
            "grid_template_columns": null,
            "grid_template_rows": null,
            "height": null,
            "justify_content": null,
            "justify_items": null,
            "left": null,
            "margin": null,
            "max_height": null,
            "max_width": null,
            "min_height": null,
            "min_width": null,
            "object_fit": null,
            "object_position": null,
            "order": null,
            "overflow": null,
            "overflow_x": null,
            "overflow_y": null,
            "padding": null,
            "right": null,
            "top": null,
            "visibility": null,
            "width": null
          }
        },
        "fc6c113361eb4805b5fd362c4553e63e": {
          "model_module": "@jupyter-widgets/controls",
          "model_name": "DescriptionStyleModel",
          "model_module_version": "1.5.0",
          "state": {
            "_model_module": "@jupyter-widgets/controls",
            "_model_module_version": "1.5.0",
            "_model_name": "DescriptionStyleModel",
            "_view_count": null,
            "_view_module": "@jupyter-widgets/base",
            "_view_module_version": "1.2.0",
            "_view_name": "StyleView",
            "description_width": ""
          }
        },
        "f5ad09266ce04f10838295d21a9cb315": {
          "model_module": "@jupyter-widgets/base",
          "model_name": "LayoutModel",
          "model_module_version": "1.2.0",
          "state": {
            "_model_module": "@jupyter-widgets/base",
            "_model_module_version": "1.2.0",
            "_model_name": "LayoutModel",
            "_view_count": null,
            "_view_module": "@jupyter-widgets/base",
            "_view_module_version": "1.2.0",
            "_view_name": "LayoutView",
            "align_content": null,
            "align_items": null,
            "align_self": null,
            "border": null,
            "bottom": null,
            "display": null,
            "flex": null,
            "flex_flow": null,
            "grid_area": null,
            "grid_auto_columns": null,
            "grid_auto_flow": null,
            "grid_auto_rows": null,
            "grid_column": null,
            "grid_gap": null,
            "grid_row": null,
            "grid_template_areas": null,
            "grid_template_columns": null,
            "grid_template_rows": null,
            "height": null,
            "justify_content": null,
            "justify_items": null,
            "left": null,
            "margin": null,
            "max_height": null,
            "max_width": null,
            "min_height": null,
            "min_width": null,
            "object_fit": null,
            "object_position": null,
            "order": null,
            "overflow": null,
            "overflow_x": null,
            "overflow_y": null,
            "padding": null,
            "right": null,
            "top": null,
            "visibility": null,
            "width": null
          }
        },
        "76cb1d7a5efe4d04b69ed36184da982f": {
          "model_module": "@jupyter-widgets/controls",
          "model_name": "ProgressStyleModel",
          "model_module_version": "1.5.0",
          "state": {
            "_model_module": "@jupyter-widgets/controls",
            "_model_module_version": "1.5.0",
            "_model_name": "ProgressStyleModel",
            "_view_count": null,
            "_view_module": "@jupyter-widgets/base",
            "_view_module_version": "1.2.0",
            "_view_name": "StyleView",
            "bar_color": null,
            "description_width": ""
          }
        },
        "860fec6829f84abe8b8041cb7dcd42f4": {
          "model_module": "@jupyter-widgets/base",
          "model_name": "LayoutModel",
          "model_module_version": "1.2.0",
          "state": {
            "_model_module": "@jupyter-widgets/base",
            "_model_module_version": "1.2.0",
            "_model_name": "LayoutModel",
            "_view_count": null,
            "_view_module": "@jupyter-widgets/base",
            "_view_module_version": "1.2.0",
            "_view_name": "LayoutView",
            "align_content": null,
            "align_items": null,
            "align_self": null,
            "border": null,
            "bottom": null,
            "display": null,
            "flex": null,
            "flex_flow": null,
            "grid_area": null,
            "grid_auto_columns": null,
            "grid_auto_flow": null,
            "grid_auto_rows": null,
            "grid_column": null,
            "grid_gap": null,
            "grid_row": null,
            "grid_template_areas": null,
            "grid_template_columns": null,
            "grid_template_rows": null,
            "height": null,
            "justify_content": null,
            "justify_items": null,
            "left": null,
            "margin": null,
            "max_height": null,
            "max_width": null,
            "min_height": null,
            "min_width": null,
            "object_fit": null,
            "object_position": null,
            "order": null,
            "overflow": null,
            "overflow_x": null,
            "overflow_y": null,
            "padding": null,
            "right": null,
            "top": null,
            "visibility": null,
            "width": null
          }
        },
        "aa44a1bd79c24a709c02fdef356c9dfa": {
          "model_module": "@jupyter-widgets/controls",
          "model_name": "DescriptionStyleModel",
          "model_module_version": "1.5.0",
          "state": {
            "_model_module": "@jupyter-widgets/controls",
            "_model_module_version": "1.5.0",
            "_model_name": "DescriptionStyleModel",
            "_view_count": null,
            "_view_module": "@jupyter-widgets/base",
            "_view_module_version": "1.2.0",
            "_view_name": "StyleView",
            "description_width": ""
          }
        }
      }
    }
  },
  "cells": [
    {
      "cell_type": "markdown",
      "source": [
        "# Split a sentence at ending noun phrase or verb phrase"
      ],
      "metadata": {
        "id": "2UpSz5iLcUzS"
      }
    },
    {
      "cell_type": "code",
      "source": [
        "!pip install allennlp==0.9.0\n",
        "!pip install overrides==4.1.2"
      ],
      "metadata": {
        "colab": {
          "base_uri": "https://localhost:8080/"
        },
        "id": "ZOv4s9RTcYr1",
        "outputId": "f06d4183-939c-4a55-b7ad-4d6781a3c808"
      },
      "execution_count": null,
      "outputs": [
        {
          "output_type": "stream",
          "name": "stdout",
          "text": [
            "Looking in indexes: https://pypi.org/simple, https://us-python.pkg.dev/colab-wheels/public/simple/\n",
            "Requirement already satisfied: allennlp==0.9.0 in /usr/local/lib/python3.8/dist-packages (0.9.0)\n",
            "Requirement already satisfied: overrides in /usr/local/lib/python3.8/dist-packages (from allennlp==0.9.0) (4.1.2)\n",
            "Requirement already satisfied: tensorboardX>=1.2 in /usr/local/lib/python3.8/dist-packages (from allennlp==0.9.0) (2.6)\n",
            "Requirement already satisfied: h5py in /usr/local/lib/python3.8/dist-packages (from allennlp==0.9.0) (3.1.0)\n",
            "Requirement already satisfied: flask>=1.0.2 in /usr/local/lib/python3.8/dist-packages (from allennlp==0.9.0) (2.2.3)\n",
            "Requirement already satisfied: pytorch-transformers==1.1.0 in /usr/local/lib/python3.8/dist-packages (from allennlp==0.9.0) (1.1.0)\n",
            "Requirement already satisfied: flaky in /usr/local/lib/python3.8/dist-packages (from allennlp==0.9.0) (3.7.0)\n",
            "Requirement already satisfied: unidecode in /usr/local/lib/python3.8/dist-packages (from allennlp==0.9.0) (1.3.6)\n",
            "Requirement already satisfied: numpy in /usr/local/lib/python3.8/dist-packages (from allennlp==0.9.0) (1.22.4)\n",
            "Requirement already satisfied: word2number>=1.1 in /usr/local/lib/python3.8/dist-packages (from allennlp==0.9.0) (1.1)\n",
            "Requirement already satisfied: jsonnet>=0.10.0 in /usr/local/lib/python3.8/dist-packages (from allennlp==0.9.0) (0.19.1)\n",
            "Requirement already satisfied: pytest in /usr/local/lib/python3.8/dist-packages (from allennlp==0.9.0) (3.6.4)\n",
            "Requirement already satisfied: boto3 in /usr/local/lib/python3.8/dist-packages (from allennlp==0.9.0) (1.26.82)\n",
            "Requirement already satisfied: matplotlib>=2.2.3 in /usr/local/lib/python3.8/dist-packages (from allennlp==0.9.0) (3.5.3)\n",
            "Requirement already satisfied: torch>=1.2.0 in /usr/local/lib/python3.8/dist-packages (from allennlp==0.9.0) (1.13.1+cu116)\n",
            "Requirement already satisfied: tqdm>=4.19 in /usr/local/lib/python3.8/dist-packages (from allennlp==0.9.0) (4.64.1)\n",
            "Requirement already satisfied: spacy<2.2,>=2.1.0 in /usr/local/lib/python3.8/dist-packages (from allennlp==0.9.0) (2.1.9)\n",
            "Requirement already satisfied: requests>=2.18 in /usr/local/lib/python3.8/dist-packages (from allennlp==0.9.0) (2.25.1)\n",
            "Requirement already satisfied: responses>=0.7 in /usr/local/lib/python3.8/dist-packages (from allennlp==0.9.0) (0.22.0)\n",
            "Requirement already satisfied: parsimonious>=0.8.0 in /usr/local/lib/python3.8/dist-packages (from allennlp==0.9.0) (0.10.0)\n",
            "Requirement already satisfied: numpydoc>=0.8.0 in /usr/local/lib/python3.8/dist-packages (from allennlp==0.9.0) (1.5.0)\n",
            "Requirement already satisfied: sqlparse>=0.2.4 in /usr/local/lib/python3.8/dist-packages (from allennlp==0.9.0) (0.4.3)\n",
            "Requirement already satisfied: scikit-learn in /usr/local/lib/python3.8/dist-packages (from allennlp==0.9.0) (1.0.2)\n",
            "Requirement already satisfied: ftfy in /usr/local/lib/python3.8/dist-packages (from allennlp==0.9.0) (6.1.1)\n",
            "Requirement already satisfied: pytorch-pretrained-bert>=0.6.0 in /usr/local/lib/python3.8/dist-packages (from allennlp==0.9.0) (0.6.2)\n",
            "Requirement already satisfied: scipy in /usr/local/lib/python3.8/dist-packages (from allennlp==0.9.0) (1.7.3)\n",
            "Requirement already satisfied: conllu==1.3.1 in /usr/local/lib/python3.8/dist-packages (from allennlp==0.9.0) (1.3.1)\n",
            "Requirement already satisfied: gevent>=1.3.6 in /usr/local/lib/python3.8/dist-packages (from allennlp==0.9.0) (22.10.2)\n",
            "Requirement already satisfied: flask-cors>=3.0.7 in /usr/local/lib/python3.8/dist-packages (from allennlp==0.9.0) (3.0.10)\n",
            "Requirement already satisfied: jsonpickle in /usr/local/lib/python3.8/dist-packages (from allennlp==0.9.0) (3.0.1)\n",
            "Requirement already satisfied: nltk in /usr/local/lib/python3.8/dist-packages (from allennlp==0.9.0) (3.7)\n",
            "Requirement already satisfied: editdistance in /usr/local/lib/python3.8/dist-packages (from allennlp==0.9.0) (0.5.3)\n",
            "Requirement already satisfied: pytz>=2017.3 in /usr/local/lib/python3.8/dist-packages (from allennlp==0.9.0) (2022.7.1)\n",
            "Requirement already satisfied: sentencepiece in /usr/local/lib/python3.8/dist-packages (from pytorch-transformers==1.1.0->allennlp==0.9.0) (0.1.97)\n",
            "Requirement already satisfied: regex in /usr/local/lib/python3.8/dist-packages (from pytorch-transformers==1.1.0->allennlp==0.9.0) (2022.6.2)\n",
            "Requirement already satisfied: itsdangerous>=2.0 in /usr/local/lib/python3.8/dist-packages (from flask>=1.0.2->allennlp==0.9.0) (2.1.2)\n",
            "Requirement already satisfied: click>=8.0 in /usr/local/lib/python3.8/dist-packages (from flask>=1.0.2->allennlp==0.9.0) (8.1.3)\n",
            "Requirement already satisfied: Jinja2>=3.0 in /usr/local/lib/python3.8/dist-packages (from flask>=1.0.2->allennlp==0.9.0) (3.1.2)\n",
            "Requirement already satisfied: importlib-metadata>=3.6.0 in /usr/local/lib/python3.8/dist-packages (from flask>=1.0.2->allennlp==0.9.0) (6.0.0)\n",
            "Requirement already satisfied: Werkzeug>=2.2.2 in /usr/local/lib/python3.8/dist-packages (from flask>=1.0.2->allennlp==0.9.0) (2.2.3)\n",
            "Requirement already satisfied: Six in /usr/local/lib/python3.8/dist-packages (from flask-cors>=3.0.7->allennlp==0.9.0) (1.15.0)\n",
            "Requirement already satisfied: zope.interface in /usr/local/lib/python3.8/dist-packages (from gevent>=1.3.6->allennlp==0.9.0) (5.5.2)\n",
            "Requirement already satisfied: greenlet>=2.0.0 in /usr/local/lib/python3.8/dist-packages (from gevent>=1.3.6->allennlp==0.9.0) (2.0.2)\n",
            "Requirement already satisfied: zope.event in /usr/local/lib/python3.8/dist-packages (from gevent>=1.3.6->allennlp==0.9.0) (4.6)\n",
            "Requirement already satisfied: setuptools in /usr/local/lib/python3.8/dist-packages (from gevent>=1.3.6->allennlp==0.9.0) (57.4.0)\n",
            "Requirement already satisfied: cycler>=0.10 in /usr/local/lib/python3.8/dist-packages (from matplotlib>=2.2.3->allennlp==0.9.0) (0.11.0)\n",
            "Requirement already satisfied: fonttools>=4.22.0 in /usr/local/lib/python3.8/dist-packages (from matplotlib>=2.2.3->allennlp==0.9.0) (4.38.0)\n",
            "Requirement already satisfied: kiwisolver>=1.0.1 in /usr/local/lib/python3.8/dist-packages (from matplotlib>=2.2.3->allennlp==0.9.0) (1.4.4)\n",
            "Requirement already satisfied: pyparsing>=2.2.1 in /usr/local/lib/python3.8/dist-packages (from matplotlib>=2.2.3->allennlp==0.9.0) (3.0.9)\n",
            "Requirement already satisfied: python-dateutil>=2.7 in /usr/local/lib/python3.8/dist-packages (from matplotlib>=2.2.3->allennlp==0.9.0) (2.8.2)\n",
            "Requirement already satisfied: packaging>=20.0 in /usr/local/lib/python3.8/dist-packages (from matplotlib>=2.2.3->allennlp==0.9.0) (23.0)\n",
            "Requirement already satisfied: pillow>=6.2.0 in /usr/local/lib/python3.8/dist-packages (from matplotlib>=2.2.3->allennlp==0.9.0) (8.4.0)\n",
            "Requirement already satisfied: sphinx>=4.2 in /usr/local/lib/python3.8/dist-packages (from numpydoc>=0.8.0->allennlp==0.9.0) (6.1.3)\n",
            "Requirement already satisfied: urllib3<1.27,>=1.21.1 in /usr/local/lib/python3.8/dist-packages (from requests>=2.18->allennlp==0.9.0) (1.26.14)\n",
            "Requirement already satisfied: idna<3,>=2.5 in /usr/local/lib/python3.8/dist-packages (from requests>=2.18->allennlp==0.9.0) (2.10)\n",
            "Requirement already satisfied: chardet<5,>=3.0.2 in /usr/local/lib/python3.8/dist-packages (from requests>=2.18->allennlp==0.9.0) (4.0.0)\n",
            "Requirement already satisfied: certifi>=2017.4.17 in /usr/local/lib/python3.8/dist-packages (from requests>=2.18->allennlp==0.9.0) (2022.12.7)\n",
            "Requirement already satisfied: types-toml in /usr/local/lib/python3.8/dist-packages (from responses>=0.7->allennlp==0.9.0) (0.10.8.5)\n",
            "Requirement already satisfied: toml in /usr/local/lib/python3.8/dist-packages (from responses>=0.7->allennlp==0.9.0) (0.10.2)\n",
            "Requirement already satisfied: blis<0.3.0,>=0.2.2 in /usr/local/lib/python3.8/dist-packages (from spacy<2.2,>=2.1.0->allennlp==0.9.0) (0.2.4)\n",
            "Requirement already satisfied: plac<1.0.0,>=0.9.6 in /usr/local/lib/python3.8/dist-packages (from spacy<2.2,>=2.1.0->allennlp==0.9.0) (0.9.6)\n",
            "Requirement already satisfied: cymem<2.1.0,>=2.0.2 in /usr/local/lib/python3.8/dist-packages (from spacy<2.2,>=2.1.0->allennlp==0.9.0) (2.0.7)\n",
            "Requirement already satisfied: srsly<1.1.0,>=0.0.6 in /usr/local/lib/python3.8/dist-packages (from spacy<2.2,>=2.1.0->allennlp==0.9.0) (1.0.6)\n",
            "Requirement already satisfied: preshed<2.1.0,>=2.0.1 in /usr/local/lib/python3.8/dist-packages (from spacy<2.2,>=2.1.0->allennlp==0.9.0) (2.0.1)\n",
            "Requirement already satisfied: thinc<7.1.0,>=7.0.8 in /usr/local/lib/python3.8/dist-packages (from spacy<2.2,>=2.1.0->allennlp==0.9.0) (7.0.8)\n",
            "Requirement already satisfied: murmurhash<1.1.0,>=0.28.0 in /usr/local/lib/python3.8/dist-packages (from spacy<2.2,>=2.1.0->allennlp==0.9.0) (1.0.9)\n",
            "Requirement already satisfied: wasabi<1.1.0,>=0.2.0 in /usr/local/lib/python3.8/dist-packages (from spacy<2.2,>=2.1.0->allennlp==0.9.0) (0.10.1)\n",
            "Requirement already satisfied: protobuf<4,>=3.8.0 in /usr/local/lib/python3.8/dist-packages (from tensorboardX>=1.2->allennlp==0.9.0) (3.19.6)\n",
            "Requirement already satisfied: typing-extensions in /usr/local/lib/python3.8/dist-packages (from torch>=1.2.0->allennlp==0.9.0) (4.5.0)\n",
            "Requirement already satisfied: botocore<1.30.0,>=1.29.82 in /usr/local/lib/python3.8/dist-packages (from boto3->allennlp==0.9.0) (1.29.82)\n",
            "Requirement already satisfied: jmespath<2.0.0,>=0.7.1 in /usr/local/lib/python3.8/dist-packages (from boto3->allennlp==0.9.0) (1.0.1)\n",
            "Requirement already satisfied: s3transfer<0.7.0,>=0.6.0 in /usr/local/lib/python3.8/dist-packages (from boto3->allennlp==0.9.0) (0.6.0)\n",
            "Requirement already satisfied: wcwidth>=0.2.5 in /usr/local/lib/python3.8/dist-packages (from ftfy->allennlp==0.9.0) (0.2.6)\n",
            "Requirement already satisfied: joblib in /usr/local/lib/python3.8/dist-packages (from nltk->allennlp==0.9.0) (1.2.0)\n",
            "Requirement already satisfied: typing-utils>=0.0.3 in /usr/local/lib/python3.8/dist-packages (from overrides->allennlp==0.9.0) (0.1.0)\n",
            "Requirement already satisfied: py>=1.5.0 in /usr/local/lib/python3.8/dist-packages (from pytest->allennlp==0.9.0) (1.11.0)\n",
            "Requirement already satisfied: attrs>=17.4.0 in /usr/local/lib/python3.8/dist-packages (from pytest->allennlp==0.9.0) (22.2.0)\n",
            "Requirement already satisfied: atomicwrites>=1.0 in /usr/local/lib/python3.8/dist-packages (from pytest->allennlp==0.9.0) (1.4.1)\n",
            "Requirement already satisfied: more-itertools>=4.0.0 in /usr/local/lib/python3.8/dist-packages (from pytest->allennlp==0.9.0) (9.0.0)\n",
            "Requirement already satisfied: pluggy<0.8,>=0.5 in /usr/local/lib/python3.8/dist-packages (from pytest->allennlp==0.9.0) (0.7.1)\n",
            "Requirement already satisfied: threadpoolctl>=2.0.0 in /usr/local/lib/python3.8/dist-packages (from scikit-learn->allennlp==0.9.0) (3.1.0)\n",
            "Requirement already satisfied: zipp>=0.5 in /usr/local/lib/python3.8/dist-packages (from importlib-metadata>=3.6.0->flask>=1.0.2->allennlp==0.9.0) (3.15.0)\n",
            "Requirement already satisfied: MarkupSafe>=2.0 in /usr/local/lib/python3.8/dist-packages (from Jinja2>=3.0->flask>=1.0.2->allennlp==0.9.0) (2.1.2)\n",
            "Requirement already satisfied: sphinxcontrib-devhelp in /usr/local/lib/python3.8/dist-packages (from sphinx>=4.2->numpydoc>=0.8.0->allennlp==0.9.0) (1.0.2)\n",
            "Requirement already satisfied: sphinxcontrib-serializinghtml>=1.1.5 in /usr/local/lib/python3.8/dist-packages (from sphinx>=4.2->numpydoc>=0.8.0->allennlp==0.9.0) (1.1.5)\n",
            "Requirement already satisfied: sphinxcontrib-jsmath in /usr/local/lib/python3.8/dist-packages (from sphinx>=4.2->numpydoc>=0.8.0->allennlp==0.9.0) (1.0.1)\n",
            "Requirement already satisfied: Pygments>=2.13 in /usr/local/lib/python3.8/dist-packages (from sphinx>=4.2->numpydoc>=0.8.0->allennlp==0.9.0) (2.14.0)\n",
            "Requirement already satisfied: babel>=2.9 in /usr/local/lib/python3.8/dist-packages (from sphinx>=4.2->numpydoc>=0.8.0->allennlp==0.9.0) (2.11.0)\n",
            "Requirement already satisfied: sphinxcontrib-htmlhelp>=2.0.0 in /usr/local/lib/python3.8/dist-packages (from sphinx>=4.2->numpydoc>=0.8.0->allennlp==0.9.0) (2.0.1)\n",
            "Requirement already satisfied: imagesize>=1.3 in /usr/local/lib/python3.8/dist-packages (from sphinx>=4.2->numpydoc>=0.8.0->allennlp==0.9.0) (1.4.1)\n",
            "Requirement already satisfied: sphinxcontrib-qthelp in /usr/local/lib/python3.8/dist-packages (from sphinx>=4.2->numpydoc>=0.8.0->allennlp==0.9.0) (1.0.3)\n",
            "Requirement already satisfied: snowballstemmer>=2.0 in /usr/local/lib/python3.8/dist-packages (from sphinx>=4.2->numpydoc>=0.8.0->allennlp==0.9.0) (2.2.0)\n",
            "Requirement already satisfied: docutils<0.20,>=0.18 in /usr/local/lib/python3.8/dist-packages (from sphinx>=4.2->numpydoc>=0.8.0->allennlp==0.9.0) (0.19)\n",
            "Requirement already satisfied: alabaster<0.8,>=0.7 in /usr/local/lib/python3.8/dist-packages (from sphinx>=4.2->numpydoc>=0.8.0->allennlp==0.9.0) (0.7.13)\n",
            "Requirement already satisfied: sphinxcontrib-applehelp in /usr/local/lib/python3.8/dist-packages (from sphinx>=4.2->numpydoc>=0.8.0->allennlp==0.9.0) (1.0.4)\n",
            "Looking in indexes: https://pypi.org/simple, https://us-python.pkg.dev/colab-wheels/public/simple/\n",
            "Requirement already satisfied: overrides==4.1.2 in /usr/local/lib/python3.8/dist-packages (4.1.2)\n",
            "Requirement already satisfied: typing-utils>=0.0.3 in /usr/local/lib/python3.8/dist-packages (from overrides==4.1.2) (0.1.0)\n"
          ]
        }
      ]
    },
    {
      "cell_type": "code",
      "source": [
        "!python -m spacy download en_core_web_sm"
      ],
      "metadata": {
        "colab": {
          "base_uri": "https://localhost:8080/"
        },
        "id": "ExfQf0uUg83h",
        "outputId": "0b763d1c-75d7-4bee-9189-2528f9753b31"
      },
      "execution_count": null,
      "outputs": [
        {
          "output_type": "stream",
          "name": "stdout",
          "text": [
            "Looking in indexes: https://pypi.org/simple, https://us-python.pkg.dev/colab-wheels/public/simple/\n",
            "Collecting en_core_web_sm==2.1.0\n",
            "  Downloading https://github.com/explosion/spacy-models/releases/download/en_core_web_sm-2.1.0/en_core_web_sm-2.1.0.tar.gz (11.1 MB)\n",
            "\u001b[?25l     \u001b[90m━━━━━━━━━━━━━━━━━━━━━━━━━━━━━━━━━━━━━━━━\u001b[0m \u001b[32m0.0/11.1 MB\u001b[0m \u001b[31m?\u001b[0m eta \u001b[36m-:--:--\u001b[0m\r\u001b[2K     \u001b[91m━━━━━━━━━━━━━━━━━━━━━━\u001b[0m\u001b[90m╺\u001b[0m\u001b[90m━━━━━━━━━━━━━━━━━\u001b[0m \u001b[32m6.2/11.1 MB\u001b[0m \u001b[31m186.9 MB/s\u001b[0m eta \u001b[36m0:00:01\u001b[0m\r\u001b[2K     \u001b[90m━━━━━━━━━━━━━━━━━━━━━━━━━━━━━━━━━━━━━━━\u001b[0m \u001b[32m11.1/11.1 MB\u001b[0m \u001b[31m222.2 MB/s\u001b[0m eta \u001b[36m0:00:00\u001b[0m\n",
            "\u001b[?25h  Preparing metadata (setup.py) ... \u001b[?25l\u001b[?25hdone\n",
            "Building wheels for collected packages: en_core_web_sm\n",
            "  Building wheel for en_core_web_sm (setup.py) ... \u001b[?25l\u001b[?25hdone\n",
            "  Created wheel for en_core_web_sm: filename=en_core_web_sm-2.1.0-py3-none-any.whl size=11074432 sha256=6ed638cd824e5437321f48e75cfdedd7137521d88e24e781ac66c4b3ee7e7154\n",
            "  Stored in directory: /tmp/pip-ephem-wheel-cache-0lxrj3ln/wheels/83/63/50/6467284e1c2d50ffcf02e6582680fd16c6375748a94f75c1a0\n",
            "Successfully built en_core_web_sm\n",
            "Installing collected packages: en_core_web_sm\n",
            "  Attempting uninstall: en_core_web_sm\n",
            "    Found existing installation: en-core-web-sm 3.4.1\n",
            "    Uninstalling en-core-web-sm-3.4.1:\n",
            "      Successfully uninstalled en-core-web-sm-3.4.1\n",
            "Successfully installed en_core_web_sm-2.1.0\n",
            "\u001b[38;5;2m✔ Download and installation successful\u001b[0m\n",
            "You can now load the model via spacy.load('en_core_web_sm')\n"
          ]
        }
      ]
    },
    {
      "cell_type": "code",
      "source": [
        "import spacy\n",
        "nlp = spacy.load(\"en_core_web_sm\")"
      ],
      "metadata": {
        "id": "ZhzIuIa1cbTF"
      },
      "execution_count": null,
      "outputs": []
    },
    {
      "cell_type": "code",
      "source": [
        "from allennlp.predictors.predictor import Predictor\n",
        "predictor = Predictor.from_path(\"https://s3-us-west-2.amazonaws.com/allennlp/models/elmo-constituency-parser-2018.03.14.tar.gz\")"
      ],
      "metadata": {
        "colab": {
          "base_uri": "https://localhost:8080/"
        },
        "id": "MS2VTTyGgDUl",
        "outputId": "e535d785-9711-4eed-e374-4ae63ef4f55a"
      },
      "execution_count": null,
      "outputs": [
        {
          "output_type": "stream",
          "name": "stderr",
          "text": [
            "100%|██████████| 710802195/710802195 [00:24<00:00, 29121459.29B/s]\n"
          ]
        }
      ]
    },
    {
      "cell_type": "code",
      "source": [
        "test_sentence = \"The old woman was sitting under a tree and sipping coffee.\"\n",
        "test_sentence = test_sentence.rstrip('?:!.,;')\n",
        "print (test_sentence)\n",
        "parser_output = predictor.predict(sentence=test_sentence)\n",
        "print (parser_output)"
      ],
      "metadata": {
        "colab": {
          "base_uri": "https://localhost:8080/"
        },
        "id": "yEFWYFIEhD6j",
        "outputId": "4cc6476d-e9bc-42bf-a502-302de448541f"
      },
      "execution_count": null,
      "outputs": [
        {
          "output_type": "stream",
          "name": "stderr",
          "text": [
            "WARNING:allennlp.data.fields.sequence_label_field:Your label namespace was 'pos'. We recommend you use a namespace ending with 'labels' or 'tags', so we don't add UNK and PAD tokens by default to your vocabulary.  See documentation for `non_padded_namespaces` parameter in Vocabulary.\n"
          ]
        },
        {
          "output_type": "stream",
          "name": "stdout",
          "text": [
            "The old woman was sitting under a tree and sipping coffee\n",
            "{'class_probabilities': [[1.0, 2.2363744189846102e-10, 2.1188745168967873e-15, 6.991602223116022e-15, 5.0569417021375206e-15, 3.1639062030019982e-12, 6.667734940568604e-14, 4.159836104050685e-12, 6.377996047968182e-11, 2.791652759653873e-12, 6.6356713553832394e-15, 2.2516466772690147e-13, 1.8319347150352883e-09, 5.116836926497177e-14, 1.8848752419975412e-11, 1.332261991698891e-12, 7.699951312949323e-15, 6.26575961254483e-12, 3.366688872130652e-12, 2.0015255728852988e-13, 3.2307917192248015e-12, 1.2262410531427292e-10, 9.285493485222673e-10, 3.8636899669236557e-13, 8.740583127067603e-14, 1.0080902313001211e-13, 7.664704374660269e-13, 3.5253200098700477e-12, 2.2905963015023775e-14, 6.031364643832582e-13, 1.7653349268509366e-11, 4.3048311443305565e-11, 2.1692920029736662e-11, 4.342108270161127e-13, 9.326480560067907e-13, 1.3978112937962361e-11, 4.3535772317922217e-13, 8.126977823347259e-13, 3.139907171073597e-12, 7.455647210719007e-12, 1.1649049780348975e-11, 1.4411506927061724e-12, 7.82211101446606e-13, 1.8880722181015275e-13, 3.6443643242067836e-12, 1.399929109267839e-12, 1.020587260536221e-11, 3.236774563653011e-12, 1.3852354593252292e-12, 8.221572728173143e-12, 7.627326504763832e-13, 2.5616132479089337e-12, 1.770064346831579e-12, 9.154398159655353e-13, 8.197751830661681e-13, 8.837969960907854e-13, 2.175734419018749e-12, 2.550457403865253e-13, 2.466759977705346e-13, 1.1473977150344705e-12, 1.4796833463365244e-12, 4.2392668151911006e-13, 1.3138580935018185e-12, 5.045702896298854e-13, 2.9726230157955946e-12, 4.097310598444315e-13, 2.2186965535197362e-13, 5.080555659335573e-13, 3.6496562608005767e-13, 2.1276687009463835e-13, 1.507972078370473e-13, 3.1924679913530873e-13, 5.179278772353413e-13, 9.625173515203159e-14, 9.439910875555513e-13, 8.838728360327508e-13, 7.444559834042519e-13, 1.7161248008594476e-13, 7.917939307683364e-13, 1.2752481362565682e-12, 1.212265151543518e-13, 1.0315319697593375e-13, 1.2125247637537195e-12, 3.652253738155309e-13, 4.4990972210799673e-13, 5.820554541818845e-13, 7.414160702479827e-14, 1.022821489505589e-13, 2.1397393947832077e-13, 3.2027630330819234e-13, 2.8100351906479304e-12, 2.802647165994071e-13, 8.641306122264894e-14, 6.454155786206339e-13, 6.985278241250503e-13, 3.4705373882885915e-13, 7.659092544215484e-13, 1.6625733450549574e-13, 2.692721913499785e-12, 2.6284378319696433e-13, 5.418631038658916e-13, 7.986401253864961e-14, 4.3927782554043296e-14, 4.055040266244536e-13, 1.0233444137659059e-13, 1.32078972325117e-13, 2.0928652691085126e-13, 1.9241068970315273e-13, 5.250795458155988e-13, 2.237693672935484e-13, 3.1706086459646135e-14, 1.844384291561224e-13, 4.1904294704325773e-13, 3.5770044153234093e-13, 4.3254089817246905e-14, 3.0850411743450767e-13, 8.607222871720097e-14], [1.0, 1.1349600458673142e-13, 1.3410943820496932e-18, 7.024979210641081e-19, 2.4667748770148884e-16, 7.565118914339489e-15, 3.730445860969042e-16, 4.721166152791244e-14, 1.1151345818971592e-10, 7.485626672184686e-16, 1.9517721531931182e-18, 1.025261384850814e-16, 2.1660080413293814e-12, 1.396354823936273e-17, 2.1219016940656615e-13, 7.627329460908818e-16, 6.055224134706219e-17, 3.0985661644600303e-15, 1.939417881526755e-15, 2.221458253622282e-16, 1.3072625393208831e-14, 1.8955071887094554e-11, 9.713449662662743e-12, 5.346736660865161e-16, 6.475993045210713e-17, 5.405206498181178e-15, 4.126845824163443e-14, 6.474246357394357e-15, 1.2058891756193234e-16, 5.222660627773391e-16, 2.5998553997315637e-15, 3.284220497553475e-14, 1.2497068538428607e-13, 1.5162738906381599e-15, 1.2057248035819527e-14, 5.915840733949906e-15, 2.1958300012536822e-15, 4.104714039097814e-15, 5.880381817195473e-15, 1.9811250215199042e-14, 4.9340560256223506e-14, 1.0735030452188512e-14, 8.110679283138827e-15, 3.103663185220133e-16, 1.9754687049047294e-14, 4.058982306759081e-15, 4.380562685052207e-14, 1.6570386962523262e-14, 6.6974683381160714e-15, 5.366676070553411e-14, 1.0855766952006613e-15, 8.461195069239813e-15, 1.0352567124415936e-14, 1.401821316497501e-15, 3.1629118693311505e-15, 3.312996578463956e-15, 5.027992233582737e-15, 2.3408025489124527e-16, 2.565010846561686e-16, 6.268809950982614e-15, 3.909222223003311e-15, 5.785215971505558e-16, 2.3957477762558263e-15, 7.075201092757351e-16, 4.9763003539106485e-15, 1.2523685998224658e-15, 3.058834231184495e-16, 1.3694213533529584e-15, 6.045902537121686e-16, 2.68437817056011e-16, 3.9045405130851585e-16, 5.911461467733483e-16, 7.15674442519393e-16, 1.112460779792684e-16, 2.2920897899949763e-15, 1.5739892333564102e-15, 1.9465109354270625e-15, 3.8317523249496363e-16, 2.047136755494979e-15, 4.93821478798678e-15, 2.32591118030413e-16, 1.0527305309813729e-16, 3.1946698873807928e-15, 2.5710748083706387e-16, 3.295122542150555e-16, 1.175473043046589e-15, 1.0866823908341834e-16, 4.8252704221831563e-17, 4.422466749617681e-16, 4.087259019395508e-16, 3.903381083799045e-15, 3.080732415151183e-16, 1.8667703538000362e-16, 6.863618085884739e-16, 1.524090945950133e-15, 5.10728574063229e-16, 1.7400686773904554e-15, 2.3637470832667956e-16, 6.386284526920839e-15, 7.008154199817436e-16, 1.0647097209076964e-15, 3.5924377240817147e-16, 8.338877900063016e-17, 7.781771625159654e-16, 1.2829867762228998e-16, 2.396788515050206e-16, 6.148307761653547e-16, 3.372337800924461e-16, 1.2730856492837667e-15, 4.504723442614526e-16, 5.397515624308566e-17, 2.4863971893314223e-16, 7.395368958907635e-16, 4.1034437014351695e-16, 6.511019181068659e-17, 4.458734318138946e-16, 1.2586803717080496e-16], [1.3645327534561602e-08, 0.9999869465827942, 3.27663637274512e-19, 1.495590325448055e-16, 1.7561278820021897e-10, 3.005959738934527e-13, 6.665117947574767e-14, 1.6757262895003566e-12, 5.845316591868155e-11, 1.534657297075359e-11, 3.6423693379993016e-13, 1.9891945035599434e-10, 2.2147641522401312e-14, 1.2325642283618314e-16, 5.767928452568571e-13, 9.543071289252157e-16, 1.0077502661564111e-13, 1.3054413102508988e-05, 2.238252777564398e-10, 3.0713886888309025e-15, 4.502805124747232e-14, 8.251160865668794e-11, 4.0484710028820814e-10, 1.528795201544142e-09, 4.6163343059204415e-14, 1.2619733036345337e-10, 2.270221987829557e-12, 3.5923809093467776e-14, 1.3937729153118091e-15, 3.944179103329906e-14, 1.3133454393465804e-11, 2.3132688473093133e-11, 6.248700287671966e-14, 2.7684279313433535e-09, 7.526592467766574e-15, 6.640172300897973e-10, 7.48154749957708e-12, 9.19588502568125e-11, 2.1756375867543198e-10, 1.8079153625560895e-12, 2.2733471355396162e-11, 2.0069565800917566e-11, 4.145163379210004e-11, 2.7656091934787075e-13, 5.387564526448951e-12, 3.426384881117378e-13, 2.6439202389927363e-13, 9.517641015588385e-12, 4.2446369336035517e-11, 1.0428807990792155e-11, 1.9218088492117813e-12, 1.3225383461989981e-11, 2.979361765978461e-12, 1.6846537999239825e-13, 6.40165047707808e-12, 4.916364190754585e-12, 3.2468481028780083e-12, 3.2678208554924593e-13, 4.863859965828499e-13, 2.5715431520301202e-11, 1.781400981587522e-12, 4.4916988965054694e-13, 1.1842840076659034e-11, 4.3437662863334003e-13, 1.5827163798304289e-12, 1.3230246976095317e-12, 6.357744192220238e-13, 4.699724225239177e-13, 4.818815702370416e-13, 2.3215321809030853e-13, 6.325485382881191e-13, 1.241618028009761e-12, 6.735755616465999e-13, 9.26338338176104e-14, 3.397763027965933e-13, 1.3015470862534628e-12, 1.1328890299824868e-12, 4.190992171360097e-12, 1.4848540420223794e-13, 1.1023418506131422e-12, 1.0653408493918604e-13, 1.9500326104305438e-13, 1.1569576676903615e-12, 1.138816010893759e-13, 1.4679076910158878e-13, 4.1869952600512295e-13, 7.309906803129596e-13, 3.0310034538662267e-13, 1.0973909498127044e-12, 8.490791620144322e-13, 2.088843204309243e-12, 7.735658901636411e-13, 2.478092871963794e-13, 9.240306002994414e-13, 2.4893203275609677e-13, 1.173974003947087e-12, 6.304359161449224e-13, 8.175752826480864e-13, 6.484054829516972e-13, 2.847033047682912e-13, 9.804879347666273e-13, 3.2090562845921156e-13, 7.858226873033725e-13, 5.886707679474135e-13, 3.625644164235997e-13, 2.721003489799395e-13, 3.493098009194756e-13, 3.988657548779223e-13, 9.145953308933863e-13, 5.2165150861037055e-14, 2.384959363246203e-13, 6.054788289668045e-13, 9.580837642339524e-13, 2.849303909133183e-13, 3.9196707132208713e-14, 2.1548201049013949e-13, 9.926059540282806e-13], [1.0, 5.007364300979589e-09, 1.2952751728796406e-17, 1.803732176631901e-17, 2.4138783420030174e-12, 9.749428632235802e-18, 1.9327053995296488e-14, 3.9766977146145355e-14, 4.067036150131459e-14, 2.470479604308601e-13, 1.734210703406363e-15, 6.976097285016532e-15, 9.749922028927578e-16, 1.5480195473007282e-17, 6.78343535856496e-12, 1.9227842720250486e-15, 1.2494768293405396e-15, 6.308368410978815e-11, 1.6102792927200071e-12, 6.48296386166882e-17, 3.538968769286287e-16, 9.670035768221535e-14, 2.8614315235840626e-13, 4.1354106825128994e-14, 8.897039260381302e-15, 5.329182191024517e-13, 1.6904549930544556e-15, 3.1205078668619657e-13, 1.1560710122359005e-15, 1.6440557140499912e-14, 8.482884533700386e-14, 1.7127640451752857e-12, 4.4559650497970164e-15, 1.2562125818738057e-12, 1.6910806327651213e-15, 5.64373808104035e-12, 2.7897405522822605e-13, 2.0265778638561827e-11, 4.5795087015056135e-14, 3.1550700637164586e-13, 3.93933827615503e-13, 2.9371419711524474e-14, 7.610418236358649e-15, 8.300005969926741e-16, 2.6961198471540677e-15, 1.538947797965855e-15, 7.431802027078882e-14, 5.144364480843405e-14, 1.829071562178125e-13, 2.291187259449018e-13, 5.4133807896386554e-14, 1.0946452078108848e-13, 2.8975682530435476e-14, 7.823564760172774e-15, 8.628492885465189e-14, 1.7404212972063973e-14, 1.9009423416339703e-14, 1.0969960969340123e-14, 8.58683631333899e-15, 9.041703339816506e-14, 7.53028044921892e-15, 1.9795337854251922e-15, 1.8437934013772195e-13, 6.74137683203584e-15, 1.2072528510187995e-14, 1.1304204405491406e-14, 5.588285893466617e-15, 3.634508685901533e-15, 6.2685469472524916e-15, 5.8548204804297066e-15, 1.095386141411166e-14, 1.3015974135630569e-14, 1.7150865417540212e-14, 2.8081664242080506e-15, 3.488306352282468e-15, 4.574285811649549e-15, 9.223091040899689e-15, 1.5891300319918755e-14, 2.0261059862058386e-15, 1.0815058972078045e-14, 2.106206080379415e-15, 2.4275320523268334e-15, 6.2107314428882284e-15, 5.574783870650028e-16, 1.432713370413518e-14, 4.178222099359384e-15, 3.890284683885073e-15, 4.432687313857047e-15, 1.7785085148445132e-15, 1.5313589968573432e-14, 8.15380003641765e-15, 1.1702300573338507e-14, 4.257169805208221e-15, 7.384012258788205e-15, 2.2167949137311734e-15, 5.9356426701908174e-15, 8.70414444730308e-15, 1.1184233199941149e-14, 1.1380223918441585e-14, 8.506601117410327e-15, 4.495569430498607e-14, 3.307591872985763e-15, 4.098799631543611e-15, 3.3526758368780836e-15, 6.984618012949436e-15, 4.984507679653069e-15, 1.3573086763281035e-15, 6.264841601624728e-15, 1.3555578168744815e-14, 1.4489043840244602e-15, 7.698012454533058e-15, 4.669045081524782e-15, 4.6428120476318425e-15, 7.0389428945380646e-15, 6.767499963403873e-16, 1.1027309123275738e-15, 5.889608547089914e-15], [1.0, 3.4236823970881748e-15, 3.028070731247952e-22, 5.782436327231638e-31, 2.5717769027309614e-19, 4.938133188177383e-25, 3.3948584682760324e-25, 1.3121509662840286e-22, 5.679482573371381e-19, 2.0154859854442595e-20, 2.1990649469957327e-23, 2.213256226514522e-21, 1.0322593936881409e-22, 2.323382227302804e-25, 8.774402099693262e-19, 1.8600746921710732e-23, 2.5789716814802145e-24, 7.631621322672225e-20, 1.604859428528432e-18, 1.898323954224253e-24, 3.76376821747333e-22, 4.754201890422291e-22, 3.557613664828501e-20, 3.712899437078803e-23, 7.365748099925105e-24, 4.529557023809417e-22, 5.105945501729477e-22, 2.9373833825579405e-21, 7.1029793212568915e-22, 3.7251570733684894e-23, 8.774493638860268e-21, 2.050979439574206e-18, 3.8655812564737955e-22, 1.317755342126016e-20, 9.829286648668543e-22, 2.9111895654335516e-22, 3.532526100799206e-21, 8.230031436644817e-19, 1.3091168179159313e-21, 3.7235716219833537e-20, 1.4563259469664777e-20, 2.4358837296681433e-20, 1.0207554161746412e-21, 4.015993444158376e-24, 1.9973346752994473e-24, 2.73410922487316e-23, 5.913366857594984e-20, 1.3915396306225152e-21, 1.0568728359050913e-20, 8.133493126058314e-20, 9.156800523669652e-22, 2.7586586519742845e-21, 9.123294256254678e-22, 7.33225133039543e-23, 1.0766735122077578e-21, 8.110186322752513e-22, 9.201199887334898e-22, 2.701555144125223e-23, 8.569589126565449e-23, 1.5083427433835095e-21, 2.3526030906805604e-22, 1.1477180224093745e-22, 2.80304335418629e-20, 2.0117660809223423e-22, 8.74892030816949e-22, 1.9298032814085854e-21, 5.534906226318807e-23, 3.391768046515261e-23, 9.361936165898814e-23, 1.0774288749234995e-22, 1.1371976471596022e-22, 3.489358723297749e-22, 3.2191371338958056e-22, 4.907210235123172e-23, 3.6747700029971267e-23, 9.049529576947016e-23, 6.546142981753787e-22, 4.1755465418049875e-22, 4.527291983269474e-23, 2.283877276182216e-22, 5.982990895625739e-24, 6.763553299668188e-23, 4.7032790888329745e-22, 4.072146535544271e-24, 1.8628663762513418e-22, 6.39035267173899e-23, 6.081456198271064e-23, 1.0819594608743648e-22, 1.4194332410492636e-23, 6.429749016434451e-22, 4.565413970504205e-22, 2.5330992620694316e-22, 1.7378989128418827e-23, 1.1777714771966328e-22, 1.0282153771436159e-22, 3.649721144901463e-23, 5.1905684411898355e-22, 7.545893165102281e-23, 4.278351399844369e-22, 1.0644013103903176e-22, 6.61220232017474e-21, 5.40163922043439e-23, 7.938555307107643e-23, 1.359723254727818e-23, 2.1539260104546243e-22, 8.42769135128919e-23, 9.312066746053457e-24, 3.016610412452391e-22, 1.1835505585923116e-21, 2.6382187642224765e-23, 1.2334136864830883e-22, 2.0724538445585914e-22, 4.389996548732019e-22, 6.673980857561856e-22, 6.620091528761238e-24, 1.5175001689374516e-23, 7.133959466726731e-23], [1.0, 5.414677513475883e-23, 4.004997590886591e-22, 7.082486884306739e-25, 1.9248669543174505e-24, 6.247051138203413e-26, 2.8910685636406224e-23, 2.265905131495109e-22, 5.298198048256196e-21, 1.8090611400232202e-22, 2.003698317614252e-25, 1.59752329768384e-26, 1.5450650200042273e-23, 2.628552082411421e-25, 2.770291848690592e-20, 5.50689535329622e-23, 4.521382470921473e-26, 7.98445950405436e-27, 1.1188327128505674e-22, 6.201236838119822e-23, 3.650821132547703e-23, 7.159258551501531e-23, 1.1785765697038397e-21, 1.475192233550647e-26, 7.550467769491657e-24, 2.0325983601365402e-25, 3.0440385144812466e-24, 8.106575505703102e-20, 2.41082935585703e-22, 1.3330888493215322e-22, 8.034649546307363e-22, 7.606451767595885e-20, 6.449892863639196e-22, 5.269646067139724e-25, 3.0197898374447937e-21, 1.8816847478086976e-23, 1.0202487655250976e-22, 2.0994764326391182e-22, 1.4707155896619616e-24, 7.265131359021077e-21, 2.0825026703136587e-22, 1.8803357956607697e-23, 1.1077219343778051e-24, 4.0117957673702756e-25, 1.2119161618535936e-24, 1.2840692062204977e-23, 2.0921392941576427e-20, 4.177631595840795e-23, 6.167783455939934e-23, 8.559433141945017e-22, 8.696836492654306e-24, 4.125654181884507e-23, 2.3186652532415576e-23, 6.793856286936986e-24, 1.636077638133567e-23, 8.427879889045538e-24, 6.257006148675327e-23, 4.505632702711364e-24, 2.654389150602059e-24, 4.9406232276247134e-24, 7.421451935025477e-24, 2.6518186473423963e-24, 4.9854573483120444e-23, 1.4569961152288104e-23, 6.846909391623633e-23, 2.743805272031412e-23, 2.5371391765372495e-24, 4.7415731108539164e-24, 3.4592039787702605e-24, 1.1445126912248443e-23, 5.780714337752588e-24, 5.259526559447549e-24, 5.041990276223803e-24, 2.038555221395187e-24, 5.08570421442572e-24, 2.8153183529889558e-24, 1.7699397606848825e-23, 1.8287787656808737e-24, 2.4202546028437384e-23, 3.779561970102324e-24, 6.8061740541491725e-25, 3.5325073006661125e-24, 1.9955763832278001e-23, 1.8047366272205496e-25, 1.972643250079939e-23, 1.2764011035128195e-24, 8.6351781382261e-25, 1.7669975461666797e-24, 6.915861711753694e-25, 1.4553407695052946e-23, 2.9415853227448035e-23, 5.528973045678459e-24, 6.617311385716013e-25, 2.2665166959118816e-24, 4.5610052162315424e-24, 1.4618722616992078e-24, 5.520651194217101e-23, 1.6894552801966225e-23, 1.1786922987540792e-23, 6.922833467218811e-24, 4.969280335500858e-23, 1.0244675265930426e-24, 1.2267493106696906e-24, 5.678533874952603e-25, 1.4696787897742297e-23, 1.4731018939002552e-24, 2.240051201402622e-24, 7.347086806351197e-24, 6.21743522906154e-24, 3.1405349386362753e-24, 2.087702439081814e-24, 2.890769348699272e-24, 4.575451625988855e-24, 6.0309051237175055e-24, 3.4810572993895324e-25, 5.294530684394921e-25, 3.058214936593747e-24], [1.0, 3.5904275377391645e-29, 1.0151304949631368e-25, 1.24800546276519e-29, 6.582327808130031e-29, 9.54968225184296e-30, 6.1994702685553485e-28, 3.618839698873116e-27, 4.2874495535453365e-23, 3.8415347376013687e-28, 3.993781083331169e-31, 6.60135293029131e-32, 3.4594528643858577e-25, 7.286330133515465e-30, 1.0458346801250359e-22, 7.348673051557201e-27, 6.18118676860119e-30, 5.382262315183466e-31, 3.9272672683345234e-28, 4.025064787204292e-28, 1.396731195767272e-27, 2.234086032452567e-24, 5.107028801023268e-25, 2.180245561100066e-31, 1.3837849983846038e-28, 3.166390125205458e-29, 1.8844456541263778e-28, 1.34880670169853e-24, 1.6477248957630287e-26, 6.346901746542147e-27, 3.715243662983374e-27, 1.4249926692534794e-25, 3.3216482319669964e-25, 1.855328060964984e-29, 8.596494371586325e-25, 2.869066023355929e-28, 5.225282132203808e-27, 1.4227433063379516e-26, 6.326300699854269e-29, 2.13273032372899e-25, 3.7734048213739244e-27, 9.093350454797249e-28, 9.475768521232747e-29, 1.8189431818070328e-29, 1.0250126572119415e-28, 1.2836404931363563e-27, 5.012094025637737e-24, 1.1567344209388705e-27, 4.1536579258848125e-28, 1.14044536384057e-25, 5.1169859358729475e-28, 1.0801751426790807e-27, 9.874203343309498e-28, 2.3465549701713526e-28, 4.671686858606314e-28, 3.3917465583756113e-28, 4.9266882647419446e-27, 2.017799962463322e-29, 4.5360251357327167e-29, 2.254998908768857e-28, 2.4486562202430975e-28, 1.3860249752805477e-28, 1.1400701195020655e-27, 2.8111273098739555e-28, 5.858381527242558e-27, 4.735146731756359e-28, 8.796543585508409e-29, 5.901556832142837e-28, 1.8533483855380863e-28, 1.0821501838370498e-28, 5.417946674939966e-29, 9.459299412795805e-29, 8.70793455803269e-29, 6.780608314435774e-29, 4.183441469509789e-28, 1.5805250014760792e-28, 8.890330475639613e-28, 2.213787709355582e-29, 5.899328531197181e-28, 3.8352386318719238e-28, 2.2661305731988274e-29, 7.81396482239053e-29, 8.732488961117412e-28, 1.0374310534933504e-29, 4.535577537576579e-28, 8.96976593767835e-29, 2.3454618845572913e-29, 1.3526212250279202e-29, 1.0808418153663925e-29, 1.857198439867538e-28, 1.723069047043006e-27, 1.1655838764403354e-28, 1.1052330410273108e-29, 5.93182029343583e-29, 3.0877844982315084e-28, 8.591722741482149e-29, 1.3107818534706279e-27, 1.1690482632984234e-28, 5.383338195321813e-28, 1.4591615630655454e-28, 1.1291157188678825e-27, 2.6809733253441307e-29, 2.0454360039223405e-29, 3.000784224112461e-29, 1.9996864408730832e-28, 5.171812828047277e-29, 4.5331190880025686e-29, 1.0113564898293992e-28, 1.9079393512942286e-28, 2.248050635011994e-28, 4.649123867084088e-29, 5.660355652949588e-29, 1.0492081151032783e-28, 2.5501654875981864e-28, 6.681264634932527e-30, 1.9650666464165073e-29, 1.863286063680503e-29], [1.0, 3.1214202229901122e-12, 5.126310487213459e-11, 5.297781630672435e-18, 8.050299316053611e-10, 3.9485491157113806e-15, 1.4140945697933317e-14, 3.5631876911795536e-17, 3.645150153941401e-12, 5.986531350870672e-16, 2.828763698975445e-13, 1.0121963648605594e-16, 2.0793009456951643e-17, 1.636394696765281e-17, 9.1119928442851e-14, 6.152712084825085e-18, 3.238735167099098e-14, 1.2118391956150026e-14, 1.8764437432258058e-13, 2.8621656216284595e-15, 7.46925352531426e-16, 6.724787691763864e-14, 2.040133232977196e-14, 8.791574341085722e-15, 6.166417326065844e-16, 1.1654187407868569e-14, 8.907804202107957e-15, 1.2745337579862163e-15, 8.534318542662012e-13, 5.011906654397904e-15, 7.000118800587485e-14, 4.4339434467771666e-13, 2.9081144061599267e-15, 5.47074213187726e-13, 6.955480841893541e-14, 1.1963645812950244e-14, 4.590337441753856e-13, 7.12914319592195e-12, 4.561060662727594e-15, 1.01580159214687e-12, 6.777449847677032e-15, 3.3860565582964283e-14, 2.7494496344362615e-14, 1.1640009346880953e-15, 5.108710661807809e-15, 5.3841132602121776e-15, 8.652018337884648e-12, 2.5680141606948537e-14, 4.205169741068604e-13, 1.2184272688009479e-12, 2.6737931598072757e-14, 1.642328783277129e-14, 1.5228713879126762e-14, 4.492299057465082e-16, 4.9846435437378087e-14, 6.097323472129771e-15, 1.0521419754319292e-13, 1.3066393771815881e-14, 3.1302274089954488e-15, 1.8801686891959692e-14, 2.3167562364519688e-15, 2.78677016020217e-15, 1.679894830013129e-13, 1.2435621041489812e-14, 1.5233303103634986e-14, 2.007362544687464e-14, 2.428458282854656e-15, 9.98963468234115e-15, 7.577480513171718e-15, 4.642582078186663e-15, 1.594062326019561e-15, 8.936121360567616e-15, 2.8301695873206387e-15, 3.0371395468833853e-15, 1.0806269522942624e-15, 2.9679500841033914e-15, 1.1801914189034455e-14, 2.1849560463867157e-14, 5.030409242097727e-15, 1.771378826769237e-15, 6.827450837828164e-16, 2.7287335802386736e-15, 1.1726834035622781e-14, 2.1417736291093337e-16, 4.758174546916089e-15, 2.094835933611947e-15, 2.9019196307001824e-15, 4.026995801571917e-15, 9.51963388760163e-16, 1.3549865778548532e-14, 1.071882586487459e-14, 6.487645995103446e-15, 7.564509262375702e-16, 9.854207666602343e-16, 1.7366865807111873e-15, 2.2177169090942597e-15, 9.588192734352394e-15, 1.1611630778532618e-14, 4.255221629429536e-15, 5.4469144005039796e-15, 2.1682047840086358e-14, 7.580860174631263e-16, 8.253218834535728e-15, 1.1878963694048495e-15, 1.8031535737195875e-14, 1.5088882927336944e-15, 1.07217652809598e-15, 1.588242341463153e-14, 9.812836883392548e-15, 2.414547037245425e-15, 7.204574258143012e-15, 5.278283269716331e-15, 5.594407400576424e-15, 9.324621492155273e-15, 8.323786419920905e-16, 3.4960178461133896e-16, 1.3890882937179008e-15], [1.0, 1.1892657040432045e-15, 4.50096027956974e-24, 1.7639996035559037e-25, 2.1424274326654956e-16, 3.261504736995848e-25, 6.447221470118465e-19, 3.885630844266697e-21, 1.6683195670706427e-17, 7.418449547929131e-17, 9.867546094600465e-19, 1.29520470226133e-19, 1.7128844150028954e-20, 1.4266646658585522e-22, 4.4296553594223506e-14, 1.0483327130683641e-19, 2.1440325587434493e-21, 1.90407670235199e-15, 7.525072136270481e-18, 3.354109341512948e-22, 1.3238013538571824e-20, 1.0973052427839364e-15, 1.2612746582631997e-18, 2.0682869272715653e-19, 1.7374508714021534e-20, 1.3928814925441628e-16, 7.608250885428188e-20, 2.3070702558814383e-17, 8.428475426017527e-20, 3.769233801253871e-19, 1.7690599499990364e-18, 1.2002025074313683e-17, 1.7315431216179056e-19, 4.475156301752737e-18, 1.7986654679053453e-20, 1.1808380438553794e-17, 1.746017800060606e-17, 1.2488382723774283e-15, 4.100810752458189e-18, 7.478968397649226e-18, 1.6366943015831478e-17, 1.2648255378377367e-18, 5.55958817195459e-20, 3.0687372808403388e-21, 1.1545959857838487e-20, 3.540730456161896e-20, 3.526540198602943e-18, 6.801730401143379e-19, 4.0252387045147316e-18, 1.5336307405453682e-17, 1.3439162053118413e-18, 1.8006307456431947e-18, 7.570213760441761e-19, 4.172447902227731e-19, 1.6197619144441873e-18, 7.369729995377284e-19, 2.5798737084581485e-19, 2.4610567097892073e-19, 8.18384968455204e-20, 1.3459787801692423e-18, 1.3237818537204763e-19, 5.2220923428018454e-20, 6.822054642384113e-18, 1.4979142294084284e-19, 4.85982827041682e-19, 3.39968982862004e-19, 3.3772743972425893e-20, 6.998976141850623e-20, 5.939523859527559e-20, 1.3981123035644914e-19, 1.3496285336763735e-19, 1.2993368571619444e-19, 1.6944931849937726e-19, 3.6843904028121896e-20, 3.807266790337235e-20, 8.577942439061885e-20, 1.332623121998961e-19, 1.6439574901986404e-19, 1.0087097600630511e-20, 3.3601206100428e-19, 1.6824990984234964e-20, 6.651595827495297e-20, 4.983962877201741e-20, 3.358348844100674e-21, 2.2021838162482603e-19, 2.5266180111643946e-19, 3.702410661703628e-20, 8.707044653166098e-20, 2.0623375276510057e-20, 9.715225954677653e-20, 2.6846917092353953e-19, 1.0204021195802015e-19, 4.129723118860572e-20, 9.751576018955384e-20, 5.0907422007595334e-20, 8.72586495080624e-20, 6.206597731854087e-19, 1.6820442460218202e-19, 1.5924121180683106e-19, 9.235741665323341e-20, 8.0537483913642275e-19, 2.059263873128775e-20, 1.2481213233008701e-19, 3.22414258634371e-20, 2.910204279425108e-20, 1.1277772716729737e-19, 2.476849849504832e-20, 3.4450038165514605e-19, 5.083079664853937e-19, 7.53730269956072e-20, 4.900763694097965e-20, 1.037551060018589e-19, 4.342399332283625e-20, 1.5518551941408942e-19, 2.591204984250874e-20, 1.150085912740874e-20, 6.982042849982868e-20], [1.0, 1.7729035628747947e-26, 1.498622890548839e-19, 6.0587976491153826e-27, 6.179844949854146e-22, 6.855317623354113e-25, 5.332825937038875e-23, 6.1171678525643284e-24, 1.547208377802907e-20, 2.4026478585279296e-23, 4.055015237696039e-25, 2.883992577463213e-26, 8.222832630792198e-22, 1.853938128398217e-25, 7.814638621095489e-17, 8.208098981002076e-23, 1.5756941420927662e-24, 1.5494496272445815e-24, 6.352046059498001e-24, 1.1612286538064775e-23, 2.2336441914595526e-23, 3.6598921565017245e-19, 4.602748169684547e-22, 8.046591544804248e-27, 1.7002969900475275e-24, 1.740593567030809e-22, 3.608934827291002e-23, 1.2282507647767272e-19, 1.5942894949413792e-20, 2.676323080972931e-22, 1.6275627997403561e-22, 3.1423715014869385e-22, 5.874845323040266e-22, 3.8655332148446675e-24, 1.9070812196710576e-20, 6.920140296088386e-24, 1.3031279373847872e-21, 2.766395052523643e-20, 3.5928342551015316e-24, 2.5842653912759515e-20, 8.257751779642859e-23, 2.0003780217856994e-23, 6.2075054424170704e-24, 1.4531320772998116e-24, 3.01038827206246e-24, 2.2676767553160544e-23, 4.596701600575819e-19, 4.825037308307813e-22, 7.260885293110619e-23, 2.6288095519380722e-20, 8.126409594367182e-23, 1.530249044690037e-22, 9.078158285830573e-23, 1.657094312598284e-23, 8.861066289068647e-23, 3.6524928865780474e-23, 9.852292735672919e-23, 1.9884638555341465e-23, 2.624826193748449e-24, 1.3019340658244948e-23, 2.617018916255567e-23, 5.522396706742084e-24, 2.441891542861013e-22, 1.843115918202813e-23, 3.7006416745713722e-22, 1.713182480731679e-23, 3.1768515309147087e-24, 1.9600640740852848e-23, 1.6125754207286794e-23, 1.414012662225128e-23, 7.673321022566252e-24, 9.770360222107035e-24, 7.933828137019197e-24, 3.8797299501254774e-24, 2.664423776860832e-23, 8.403417312374635e-24, 1.7556904083816943e-23, 4.634085290491217e-24, 2.0939486002863087e-23, 2.5633486067966745e-23, 3.4999265564195795e-24, 5.861698798282577e-24, 2.0986106104639838e-23, 5.397679178133226e-25, 4.769348903326748e-23, 1.3908641700501415e-23, 1.3917604738106536e-24, 3.5856595651685465e-24, 1.752771820247603e-24, 2.0040290278272433e-23, 3.3785448444775845e-23, 8.129785130180622e-24, 2.126427423703887e-24, 2.7338471652804453e-24, 1.2443203984725835e-23, 4.076498286727923e-24, 1.9117190806076134e-22, 8.806134748794487e-24, 2.0015917631744725e-23, 1.3063866334318338e-23, 8.314394516992625e-23, 2.2053561127148702e-24, 4.999433596969845e-24, 7.584151637106529e-25, 1.9532494202694426e-23, 6.1679917941050025e-24, 1.4587638539097975e-24, 1.2751802426543768e-23, 2.2473788909081746e-23, 4.661922614114656e-24, 8.334937086053304e-24, 3.150566291122292e-24, 4.867255219134633e-24, 1.6555968968279935e-23, 1.3612069048753123e-24, 2.813439680743172e-24, 2.2164549912208773e-24], [3.887586899509188e-06, 2.0623634744421082e-10, 5.227858701495336e-10, 5.261009647413635e-17, 0.9999960064888, 1.6998913388022174e-09, 1.0007565887093506e-09, 2.0625866364528973e-15, 1.724060894048307e-09, 1.3019572331590505e-14, 2.253207220803688e-08, 3.723566153492324e-15, 3.4505454117356345e-16, 1.173756742537215e-15, 1.6462295068797594e-11, 3.3638444427436644e-16, 3.570744810943438e-10, 2.08888982500266e-12, 5.841596195481358e-13, 1.5877893617954886e-12, 5.032563450170502e-13, 4.08803702001137e-09, 2.637387920903511e-12, 3.032257062628163e-13, 1.3179652241259148e-14, 1.8999692485976993e-08, 2.5275004311708926e-11, 1.951300449345994e-13, 8.671426243722635e-09, 6.610053476796551e-11, 3.964999769484612e-12, 1.2580528285788262e-10, 8.81431090767569e-14, 1.3168987678113808e-08, 1.981243728105264e-12, 9.356341656302503e-13, 4.1177014575843884e-10, 1.3563066225685816e-08, 4.16284368087716e-12, 4.939498809974907e-10, 9.904646547376217e-13, 6.2529361029295405e-12, 5.530963465005811e-10, 6.024169444535099e-12, 3.855558580734275e-11, 1.133795418661876e-10, 5.11671238712097e-09, 3.5740768677960943e-10, 1.371992630616603e-09, 1.5251895746359878e-08, 3.2259098170506206e-11, 9.644666315589134e-11, 5.897556748513111e-11, 1.7603607373878338e-12, 4.0907860432426446e-11, 1.976134707259991e-11, 8.004071017087e-11, 1.3162929635157639e-09, 8.076758879760337e-12, 2.4871573550688808e-11, 1.7250666173307394e-10, 5.1859727449865556e-12, 7.627045661706688e-10, 1.2407901095468077e-10, 4.389769103774199e-11, 4.599997466270267e-12, 1.0240247885762166e-11, 1.2486262891686639e-11, 6.351017801942138e-12, 6.746350873776397e-12, 2.411213806743917e-12, 5.67924179906143e-12, 6.77795059661479e-12, 2.0969896825928647e-12, 6.007634927723826e-12, 5.229748058221961e-12, 4.5560586553472504e-12, 7.73219682725923e-11, 5.293153415575347e-11, 2.5462004466653143e-12, 2.6450100790165187e-12, 1.3869140211286712e-12, 1.9086617703001352e-11, 3.834923643832727e-13, 4.729624678012634e-12, 6.49616124781538e-12, 2.625322268606789e-12, 1.2158919704408078e-12, 2.417453390246571e-12, 7.085464159839461e-12, 1.3014055111337797e-11, 1.3193178320658472e-11, 1.4002921001551871e-12, 2.7529402910932144e-13, 1.245300520688608e-12, 2.6656990417123216e-12, 9.927351996008582e-11, 1.194444109592352e-11, 1.830052819354333e-12, 1.2885911955529128e-11, 2.44371710367286e-11, 2.0986381035759116e-12, 8.838630348451115e-12, 5.44808555907883e-12, 8.372178644799888e-11, 8.371291398794056e-13, 2.7253407863803147e-12, 7.11698616706613e-11, 1.666610252581968e-11, 5.5927189962501345e-12, 9.945314537185279e-12, 1.8052243727639805e-11, 1.1248106612793407e-11, 3.791180043510867e-12, 1.7312187924542477e-12, 2.581777673593688e-12, 7.444363701869516e-12], [0.9999866485595703, 1.3483134608804903e-08, 1.811509969806835e-10, 1.1312995873424825e-08, 1.0416822959768979e-10, 1.0056221133591947e-10, 7.466167267766721e-11, 1.3816371335906297e-07, 1.3106628102832474e-05, 3.329627684678371e-10, 9.630356408163454e-13, 6.503281940739569e-11, 1.419180661876851e-09, 4.06674971475951e-10, 7.126095269427424e-09, 3.4790992309297053e-10, 1.1039775343890668e-10, 8.880238905328852e-11, 4.183432211757321e-10, 9.065046630007956e-11, 9.873728501474943e-10, 5.637025424221065e-08, 3.807398840649512e-08, 4.025997937806558e-11, 3.2837638164195937e-10, 3.653027436101297e-09, 2.8497979531749706e-09, 1.3954977173824545e-09, 1.641649316486138e-10, 3.354870201088822e-11, 1.726133264101648e-10, 4.0306252779842566e-10, 1.4454610841596605e-09, 2.1911872316593417e-10, 4.990951540939648e-10, 1.6145558501268198e-10, 6.160784327136071e-09, 5.248991241657563e-10, 2.1493469504196838e-10, 3.417089111668048e-10, 3.813007243280708e-09, 8.97153373813353e-09, 2.44385067738051e-09, 3.1120664378825325e-10, 1.2476897293112188e-09, 6.004812758142464e-10, 8.858404010325671e-10, 4.214635029864411e-10, 1.4644705448318973e-09, 4.798918484816284e-10, 2.3153616524052012e-10, 3.4456504316437986e-10, 5.922325407858864e-10, 2.643252838829824e-10, 6.200047697468847e-10, 6.189448953364263e-10, 2.629033657441937e-10, 8.197807016552261e-11, 2.003411603279659e-10, 9.721281557517614e-10, 4.2946801670495915e-10, 1.5026511979154833e-10, 1.762576889996481e-10, 2.4578028501309745e-10, 1.8509102583941228e-10, 1.626570406143557e-10, 8.295294312565815e-11, 3.2072000610838813e-10, 9.874307621560163e-11, 6.307947914008238e-11, 2.1008633721564252e-10, 1.314150177567086e-10, 1.214887218603522e-10, 1.0368178537945028e-10, 1.471738980685089e-10, 1.0859749904890137e-10, 2.1467370936445462e-10, 1.6328992324954328e-10, 2.8398991491762615e-10, 4.1428879771210347e-10, 1.2560150142171267e-10, 6.779674738277564e-11, 2.3666008042155795e-10, 5.841881839385721e-11, 5.557652255072654e-11, 1.49044859787395e-10, 8.787048866309988e-11, 2.9052428865417035e-11, 2.1855774134937889e-10, 6.626679066590313e-11, 1.3157050449130736e-10, 4.5336193132961e-11, 1.4329730457784962e-10, 1.2240071456393053e-10, 2.0302272363270646e-10, 1.2105087765501565e-10, 2.1953873441393768e-10, 6.326346391194448e-11, 3.5586092406170167e-10, 2.7905483479528925e-10, 1.3663462028468132e-10, 2.2418537859447696e-10, 6.317989187376583e-11, 1.4263278058646023e-10, 9.265956751880466e-11, 1.2409583083350384e-10, 1.5199146108368922e-10, 1.7820786513134124e-10, 2.2312827974158012e-10, 6.889801923426475e-11, 8.186774869134439e-11, 8.262449752161061e-11, 7.085766695613671e-11, 1.0823975049589762e-10, 6.677965819212872e-11, 1.2007218830323296e-10, 7.150608577477513e-11], [1.0, 4.512450119511027e-14, 7.64899599294496e-19, 6.83499753742873e-19, 4.4422130066772e-17, 4.350170811268628e-22, 1.9174050734882244e-18, 3.360189760274058e-16, 2.4864498480992037e-12, 1.5944888706359746e-14, 1.0969106445445241e-17, 1.3928429045685872e-18, 3.961065552166368e-14, 3.0610488583820957e-18, 2.1586770186047405e-14, 4.820684532867162e-19, 4.205702372309953e-19, 1.44932521116848e-14, 3.3820132024769967e-12, 1.5646121286440518e-18, 9.577790929877733e-19, 1.657126364162367e-15, 8.368810032715734e-15, 2.4786317500896725e-16, 1.802330072406399e-16, 3.316434155801269e-16, 2.0531398285390415e-18, 8.127674866876587e-17, 4.2603779768239422e-19, 1.21273789711709e-19, 4.857889065411878e-16, 9.556992507350853e-18, 6.085762153996575e-19, 2.595802135320715e-15, 1.3604316417232868e-19, 1.8425530200935457e-16, 8.312335805023448e-15, 4.861172906269265e-15, 2.8990083784604694e-16, 2.8934922583712105e-18, 8.398227910490349e-16, 4.7602984820313294e-15, 3.238091125597653e-15, 1.5388699371091566e-17, 6.977314127254601e-17, 2.7005536212641356e-17, 2.4835047372526714e-17, 4.612444460634898e-17, 6.252042298517005e-16, 1.506407895714003e-17, 1.0014916385737759e-17, 8.374134984747987e-17, 2.861747796157447e-17, 7.893189842733117e-18, 1.7226450508467568e-16, 5.190641061831504e-17, 1.462931158641124e-18, 7.397448921101512e-18, 1.645270344737975e-17, 4.715887697573839e-16, 6.643338962319581e-17, 1.7694994724175165e-17, 2.937266077361088e-17, 7.020053556888481e-18, 1.1662619634093375e-17, 2.0032095937631463e-17, 7.55219042547242e-18, 1.9981497299561594e-17, 1.7106725792813684e-18, 1.6322853255206636e-18, 6.064907276392888e-18, 2.1658457099002598e-17, 3.269039701095798e-18, 5.148123151165666e-18, 1.758107458303375e-18, 1.1417602119210268e-17, 7.152237680518945e-17, 1.0625952222688843e-16, 8.478593006862408e-19, 5.137943370239221e-17, 3.2354437605169568e-18, 2.6584203495831346e-18, 1.2865632239501708e-18, 2.637551203113881e-18, 7.514368212348892e-19, 3.3484145051103146e-18, 3.862805082191571e-17, 8.565133469728318e-18, 1.2231689289847194e-18, 6.272819123358091e-18, 1.816755184118844e-18, 1.0775056491185201e-17, 1.3355449307176515e-18, 1.0133007171527667e-17, 1.0306605912322946e-17, 5.810201822175559e-18, 1.722197314524794e-17, 5.13995970570038e-18, 1.6393937227941533e-17, 4.9383956427559084e-18, 6.742986515581701e-18, 2.0575315372062387e-17, 4.450284221504186e-18, 3.209665297112201e-18, 2.6070017687310727e-18, 4.66613576157898e-18, 4.0694568849296725e-18, 1.8511603141319152e-18, 1.7236892174775947e-17, 3.92358647903809e-19, 4.3071668381273025e-17, 4.543982691800824e-18, 5.326922790062372e-18, 4.653000133451638e-18, 1.1981936579547527e-18, 1.9723999697186593e-18, 6.476335746138494e-18], [1.0, 9.661555158877384e-29, 3.3182698759758196e-23, 4.015899323191622e-25, 3.0825287143764033e-25, 5.359760164780301e-33, 3.913143337057471e-24, 5.993956062208311e-24, 7.592329758899816e-21, 9.448874443670432e-22, 1.244428324505179e-25, 1.64647293537303e-28, 3.3864451160494174e-21, 5.07463620010263e-25, 6.497734417446752e-20, 5.628693149922673e-25, 2.795078631943874e-27, 1.5268881067476474e-25, 2.879243038344219e-19, 1.3878629585969895e-25, 5.542162704487629e-27, 7.411800320457711e-25, 7.00176610053432e-24, 7.033263504564903e-27, 5.126122607309986e-23, 5.085313925492862e-25, 4.769464395952909e-28, 3.683051969651116e-22, 9.751397460407816e-26, 9.128353268571514e-27, 1.4138400594590656e-23, 6.589048964672273e-25, 7.168703218271574e-26, 7.153054436583285e-25, 9.67030379194626e-27, 8.252862616967526e-25, 9.58055287301835e-22, 1.428473366142043e-21, 7.539148601577867e-26, 1.990510905209769e-25, 8.190672570289201e-24, 6.401280051884202e-24, 2.4272895066243184e-24, 1.0331914653881719e-25, 1.5391630289519192e-25, 1.997158414190937e-25, 2.9171673956011354e-24, 2.662754626071475e-25, 2.01399088166751e-24, 4.175811042922204e-25, 3.1408807555356016e-25, 1.3235461922219954e-24, 3.089662728668963e-25, 1.1693846028890864e-25, 1.1688232543993117e-24, 7.259295265070056e-26, 3.047449795554455e-27, 3.79047566351083e-25, 7.405017595787007e-25, 4.061457470278526e-24, 2.044028461615127e-25, 7.23179421805937e-26, 5.111862546220009e-25, 4.7153957231383853e-26, 2.2344673111147732e-26, 1.0805719304699431e-25, 6.60165027807608e-26, 1.4040405236108094e-25, 1.8983654187255835e-26, 7.403008465669023e-26, 2.9807449500041308e-25, 2.335725435279184e-25, 9.817237147412243e-26, 9.846041047511707e-26, 1.7232606385538738e-26, 3.8285478164300264e-26, 7.001442273132727e-25, 6.937052487820193e-25, 2.556850265249708e-26, 1.063259860214899e-24, 1.045147145444862e-25, 9.08156857836246e-27, 1.339887334940084e-26, 8.996023392464645e-27, 2.976516409033113e-26, 7.53934627902736e-27, 2.0260802736476352e-25, 2.042477363860236e-25, 2.5205236442688682e-27, 1.8911890031593683e-25, 6.336208983490909e-27, 7.047528020253804e-26, 1.4031778610701194e-26, 3.987838554716779e-26, 9.817274741564757e-26, 4.0043630336396217e-26, 2.8054753410440606e-25, 6.916411942235085e-26, 2.2152875756887633e-25, 7.766725728270396e-26, 9.965485681918648e-26, 1.526072868305908e-25, 3.800116160070213e-26, 4.343592944407287e-27, 2.5672786366381805e-26, 1.574623805755801e-25, 3.869217293879663e-26, 2.887834576590672e-26, 2.5220844564143986e-25, 6.95652290000085e-27, 1.0692634861340835e-24, 3.0551917257821007e-26, 1.440497298937291e-26, 6.610445460871712e-26, 3.087988001619082e-26, 1.5524357369417792e-26, 6.519936614246827e-26], [1.0, 6.89231423074272e-33, 1.1126696265880015e-22, 3.683108087590359e-37, 6.475258591674084e-30, 9.763254010648303e-37, 1.6095074362970154e-32, 3.983799255501727e-31, 3.363898789802379e-22, 3.1226334783514663e-28, 1.6447583160547285e-29, 7.802689789732457e-33, 3.0570803697227646e-26, 1.6925907422461853e-30, 2.1148825922673974e-25, 5.721675259336504e-32, 4.268057990020503e-33, 4.815251330318568e-31, 8.167837413665768e-23, 2.3091768377835666e-30, 7.04656906467655e-31, 2.2419592496171062e-30, 1.2149873498912706e-28, 3.282235162833161e-33, 4.75871616461464e-31, 6.18995811936793e-32, 8.601449515249328e-32, 1.2674707464351457e-28, 1.9887461055460253e-29, 4.0728579695168466e-33, 8.533321323331037e-29, 8.288528405162128e-29, 2.8278477333607298e-31, 2.543731030885627e-30, 1.827350543099029e-30, 3.1063149394561195e-32, 9.358662712076145e-28, 2.73213469616663e-26, 2.1393973675078616e-31, 9.628620553122147e-30, 4.2228824684702736e-29, 1.0890090751851939e-26, 3.918810028466233e-29, 7.891869403341559e-32, 5.333594615620157e-32, 4.387381260771802e-31, 1.991503814540738e-27, 1.7960714847795806e-30, 5.05783147911358e-29, 2.512898321877118e-29, 4.0610888554242246e-30, 6.493861118914265e-30, 1.3073740964760687e-30, 4.4396887610429976e-32, 2.5591089420226323e-30, 5.104033146694118e-31, 2.889511757241448e-32, 1.931708439517008e-31, 1.0713873989383221e-30, 1.4390012895195644e-29, 1.261930989506048e-30, 3.104314600719325e-31, 8.321695025290352e-30, 1.4087896600042784e-31, 2.828301003982407e-31, 2.965517023791181e-30, 1.612144422774215e-31, 4.7460264679986434e-31, 4.65783288843837e-32, 3.400771454810264e-31, 6.93642242281806e-31, 2.9721082557151116e-30, 4.9358396533965425e-31, 2.2692424734996915e-31, 6.248986743688822e-32, 1.924779370516651e-31, 2.4586312584171697e-30, 2.7301911421576925e-30, 1.435151413865254e-31, 2.498511549960907e-30, 2.0661530198047354e-31, 8.264111436174926e-32, 5.24485948581246e-32, 1.0125743602813709e-32, 1.1628241674125144e-31, 2.299435045900562e-32, 7.315877171438638e-31, 8.478735428187326e-31, 1.1306515923271189e-32, 1.812632037273061e-30, 9.513965796388705e-32, 1.9559257390337787e-31, 2.278409566194579e-32, 5.660541324633289e-32, 3.8259247218134094e-31, 1.428241946233197e-32, 6.521565169774445e-30, 6.401180348278485e-32, 4.314355319919059e-31, 2.800409344223836e-31, 1.5154354680970368e-30, 1.2494142551288313e-31, 3.76716757791284e-32, 2.8676691620248496e-33, 4.021482783202647e-31, 3.601012920792048e-31, 7.284377449319653e-32, 7.078521352120602e-31, 2.463287532600099e-30, 2.002361615635258e-32, 8.31680797805647e-30, 1.5006216296792171e-31, 2.2160160892944583e-31, 9.42931539190068e-31, 3.652016445179876e-32, 4.2443715584462434e-32, 1.740618784803551e-31], [1.0, 7.602933376915655e-37, 1.453512078855377e-20, 1.1424166725463069e-27, 4.9771548003646675e-30, 2.5192554374237564e-34, 5.122629873574974e-28, 7.305876095594497e-28, 6.359007756986576e-23, 1.9752899881179252e-27, 4.280850251457345e-29, 2.0841269180126935e-34, 1.515334468418708e-26, 1.7733017296314974e-27, 3.9549812654191597e-25, 2.871813121680354e-29, 2.3252192793869787e-31, 2.4059637255321525e-34, 5.201680276736211e-25, 1.7070541691834485e-26, 7.159400215897855e-29, 6.851905037270774e-29, 2.1604884900909707e-26, 1.0765483628045692e-32, 1.3231453607486218e-27, 7.985810209881873e-32, 1.097321907622548e-30, 2.5982173237696652e-24, 1.65822914879131e-27, 2.0886928418631085e-29, 2.4744623718655242e-26, 2.7270102973264014e-27, 4.351682042766708e-29, 3.5855784448668812e-31, 1.712865277604648e-27, 2.8662191603557515e-30, 9.404296659143429e-27, 1.1330729656432139e-26, 3.8651213458427084e-31, 1.743353518996276e-27, 3.8963630742231567e-28, 2.067805114484477e-27, 4.688484157542841e-29, 7.27050440605057e-30, 1.5633802527405225e-29, 5.587609547460815e-28, 1.9062254315699794e-25, 1.8815426758470787e-29, 4.086423230043768e-28, 2.544577883347033e-28, 7.852391939605916e-29, 1.6059536563849315e-28, 2.0067156337802659e-29, 4.507131973595155e-30, 2.989746539045245e-29, 9.590277243951997e-30, 1.6502691840346603e-30, 5.825260395172207e-29, 2.674374607872174e-29, 2.82767802959229e-29, 2.3532588915665215e-29, 3.320739943784812e-30, 2.9742307659307755e-29, 3.109959475055251e-29, 3.203372494036e-29, 5.0159831279079216e-29, 3.856831195443421e-30, 2.1771395194630464e-29, 4.917218130167652e-30, 6.441632607161468e-29, 3.871204651359626e-29, 3.264211417272978e-29, 3.188279823656188e-29, 2.4448747771679147e-29, 5.697026788491852e-30, 6.44116286081097e-30, 4.6116070526939785e-29, 4.681799676003048e-29, 1.9820509411135723e-29, 2.4914222469746006e-29, 8.455322966142677e-30, 2.5065878544278925e-30, 1.077425095274428e-29, 5.131599899814122e-31, 1.0731590852159718e-29, 1.0556063402587589e-30, 3.062888844434765e-29, 3.4267677286696596e-29, 2.4076580617835926e-30, 3.5435925326103126e-29, 9.081277281458371e-30, 3.848952938264662e-30, 7.161742590576897e-31, 2.7757677852859665e-30, 1.2312281303055083e-29, 6.7440226796506114e-31, 3.789298943425969e-28, 9.607707662265086e-30, 5.678930946336649e-30, 1.5436110332512183e-29, 1.5737197882028977e-29, 3.370127257479808e-30, 1.398717906856998e-30, 4.121028817005422e-31, 4.865108183477056e-29, 1.470734295545436e-29, 9.680771124897508e-30, 3.3553641769080566e-29, 2.0924729307687992e-29, 1.6126065331134103e-30, 2.3673331061176173e-28, 2.6332222621696604e-30, 2.9799188044192633e-30, 4.683923314693289e-30, 1.3605641814157485e-30, 1.5552244472396021e-30, 8.013343108764573e-30], [1.0, 6.725278513804716e-28, 1.6343788162534587e-18, 2.3901889680441035e-22, 1.4234178563676254e-24, 1.299677952524512e-28, 5.398175963288289e-24, 7.983074830065972e-23, 8.70113871283944e-19, 1.521127548594884e-24, 2.476956928774132e-25, 3.2510407647923534e-28, 8.916029068234654e-23, 1.2659657556357165e-24, 1.4654270985913204e-19, 2.2282389954230687e-24, 9.019359808563588e-26, 4.252370020736922e-28, 8.900087293745405e-24, 5.530407589234603e-24, 7.575708360230335e-25, 2.2106141861925304e-22, 2.0366374137598952e-22, 4.237536989787738e-28, 3.322498722630438e-24, 2.6832398646658675e-25, 6.191677416739973e-26, 7.270205110415067e-21, 8.370280705179847e-22, 5.2116935840290205e-24, 3.228149459530285e-23, 1.3202992999006736e-23, 3.3826456590072855e-23, 1.1467140963277153e-25, 2.766497834157617e-22, 1.1797167085952186e-25, 2.172293973989535e-22, 2.2207143825697457e-22, 5.422730935292717e-26, 2.829533247847804e-22, 4.867069836821906e-24, 1.423147040418863e-23, 9.74396552786402e-25, 2.1711971536198294e-25, 5.694216922786462e-25, 7.539329053509937e-24, 6.099538152396178e-21, 9.801264439714747e-25, 4.4438073069864776e-24, 5.698612534636444e-23, 5.0821555236435834e-24, 4.603814725405624e-24, 1.0476344978347338e-24, 4.850367482090888e-25, 8.752044923106198e-25, 8.782814442714344e-25, 1.2820324856923528e-24, 4.241246561972221e-25, 4.692626855482895e-25, 8.564221085877601e-25, 3.415355786303036e-25, 6.454707431627332e-25, 6.783882324081824e-25, 6.6589666927781425e-25, 2.6464222471050056e-24, 1.3619496174175779e-24, 2.3570370056717954e-25, 2.0078310612890917e-24, 4.069504393853653e-25, 1.1428412330173393e-24, 4.788102197803728e-25, 5.071211064659773e-25, 7.611918061856111e-25, 5.307613942508012e-25, 6.957989349282825e-25, 3.285054453687991e-25, 1.2998590658209241e-24, 4.719267181290274e-25, 1.1160522069293259e-24, 1.3531356745235435e-24, 2.0256242134368043e-25, 2.1312990342240795e-25, 5.658596894687339e-25, 3.1669144596328176e-26, 6.668015913437159e-25, 1.2105710307506754e-25, 2.7044395154175507e-25, 3.3468572682694654e-25, 1.337232756364257e-25, 7.500741922331051e-25, 6.877109905860843e-25, 1.8515563847620317e-25, 4.339173474445303e-26, 2.710460742795683e-25, 6.558180344412909e-25, 1.222530162073826e-25, 1.0552959938323308e-23, 5.8123094002980475e-25, 5.040218691845903e-25, 7.434425344257515e-25, 9.652880689518807e-25, 1.1876999809560552e-25, 1.1067963786688513e-25, 3.3529383381428296e-26, 2.3821765236069918e-24, 4.946881655616284e-25, 6.905369368676189e-25, 1.017026398889319e-24, 7.766255739734208e-25, 4.274723353599472e-25, 4.3709425917539284e-24, 9.868564875248514e-26, 3.943215651536821e-25, 3.3112739715062415e-25, 7.956552162862607e-26, 1.4050906946908848e-25, 1.7732493674481694e-25], [1.0, 1.6736481593335137e-25, 1.4691404559910581e-12, 2.836285960305368e-23, 2.5231134537041605e-18, 4.19275996598991e-26, 1.3973963359312677e-21, 1.3581680943392652e-23, 1.7970310078185966e-15, 4.805273124079534e-22, 5.66591474337398e-19, 3.268666607939123e-25, 1.375685207647934e-20, 1.5139920476939486e-21, 1.9540880521131135e-19, 4.7886317206863575e-25, 4.263135093397997e-22, 3.3721180735688395e-24, 3.1378636624778525e-17, 1.0177037336374314e-20, 8.123496488816381e-23, 7.668036171994025e-21, 8.373574382474874e-21, 2.2833012499492238e-23, 1.950719682185918e-21, 2.62302713334522e-22, 1.7988000791302122e-23, 2.1631247596982255e-21, 3.2184667056249185e-19, 1.1093638576330186e-22, 1.5708421557497686e-20, 1.5516464360493883e-21, 6.566347539693798e-23, 6.832617680645279e-21, 5.170332202595872e-22, 5.094483605212106e-23, 1.0188468390828429e-18, 4.697658373952457e-18, 3.641794039437078e-23, 1.4613790188451537e-20, 4.103869503996903e-22, 6.962972459454399e-20, 1.2108189027194524e-20, 2.560613468266092e-22, 1.0538247682440936e-21, 2.8878860336916967e-21, 1.8078024015540294e-18, 1.4067829981533798e-21, 3.778719365681352e-20, 2.089961644259869e-20, 4.511212031904066e-21, 1.7744710408333444e-21, 4.301359884985897e-22, 2.6756890261317504e-23, 1.2236010646157058e-21, 2.1581040702441644e-22, 2.63729428235043e-22, 3.035601386775809e-21, 7.590357026035137e-22, 1.7832042990339928e-21, 2.9554553907247614e-22, 6.7017381591350695e-22, 2.7378589773673756e-21, 3.917254548773903e-22, 1.9123244209118438e-22, 1.0416466743772027e-21, 1.3665827473975129e-22, 1.3497352028168888e-21, 2.396589217449215e-22, 6.866137276654108e-22, 1.9352502334305044e-22, 1.0381003596441125e-21, 1.9760636247472325e-22, 5.317024989998426e-22, 6.598136109819308e-23, 1.4478824998541007e-22, 7.676490539465685e-22, 4.189013874204725e-21, 2.186085282096716e-22, 4.949645019590055e-22, 2.2883771912210865e-22, 5.318421967998264e-23, 1.6718831510973348e-22, 3.279911356687267e-23, 2.63163644572044e-22, 3.5772592220471195e-23, 1.3148623506350328e-21, 1.0214721310169143e-21, 5.591056714463715e-23, 8.928729097719988e-22, 4.3878513519407977e-23, 1.8924332616322598e-22, 1.8008186164144917e-23, 6.559738147485494e-23, 1.5281432278352038e-22, 1.7749837373128656e-23, 2.1447361469402595e-21, 2.020780552258484e-22, 1.2668366501864714e-22, 4.139039826159787e-22, 3.2911802031639128e-22, 6.630078034504793e-23, 3.1372334295301805e-22, 1.0140130093959427e-23, 1.2653256218324004e-21, 3.4388930823802265e-22, 1.694186836351702e-22, 8.193712682445742e-22, 1.414127255315664e-21, 5.1811096833918735e-23, 1.1575419281431452e-20, 1.0314996890819769e-22, 2.396616732917589e-22, 2.8436327796878725e-22, 6.675861628177648e-23, 6.707438152491834e-23, 1.3643534895882307e-22], [1.0, 8.925405546228777e-34, 9.886923117534548e-32, 7.105483151766634e-34, 2.2065514789793776e-31, 5.554046463351412e-41, 3.194635091546112e-29, 1.1170880802304949e-30, 6.214020644633291e-24, 3.6553045939202427e-25, 1.0961515741621235e-28, 1.8162710151349017e-32, 9.586785608796315e-26, 2.439032852362972e-30, 3.835118603757781e-22, 2.1244033446139705e-29, 2.350544585185155e-33, 1.705144645754775e-29, 6.700471746489731e-26, 4.88671668487116e-31, 2.6369704904764664e-31, 1.9763235191632812e-26, 3.4490624742618185e-29, 1.6571183370515767e-32, 4.406271624260703e-29, 2.0921148281697647e-28, 7.777964735430848e-33, 2.015256886323849e-26, 1.3213886598610354e-29, 2.009195381431122e-31, 2.3416368673171167e-28, 3.3033802432118686e-30, 3.17755683253262e-30, 4.521873613149947e-30, 4.488494110994788e-32, 2.2634252810958902e-30, 2.0837856337538268e-26, 1.2230573430256432e-25, 4.950002573572538e-30, 4.5015648323496605e-30, 5.867011426730363e-28, 2.865325385921443e-28, 6.301753368543561e-30, 1.871533355555759e-31, 3.5826251328598753e-31, 1.527239594288898e-30, 8.047688458204073e-29, 3.862897498610049e-30, 7.945499217207994e-29, 1.669894861557797e-29, 7.58798116800427e-30, 2.457910464089155e-29, 4.429813785650045e-30, 5.906054886666936e-30, 1.7445557928011217e-29, 1.4730187418628692e-30, 4.176242256861285e-32, 7.205124350653316e-30, 6.922495635947258e-30, 8.994024229034123e-29, 2.8466491542450698e-30, 1.2865062505625311e-30, 6.104794305967239e-30, 7.68348669858485e-31, 1.2538312691915941e-30, 1.9045124373152538e-30, 1.491945658524103e-31, 1.1571916216613403e-30, 7.62197354940406e-32, 8.905591281208202e-31, 1.5923848329346328e-30, 4.224862113804516e-30, 2.522799708277145e-30, 1.0291019519132544e-30, 1.3481176945809368e-31, 2.556385415651325e-31, 4.6905745438488854e-30, 1.8107245390800948e-30, 7.281210667538538e-32, 5.772788433837377e-29, 6.934570313918904e-31, 1.995857752328952e-31, 2.817240895184955e-32, 4.047968786816505e-32, 7.754094882656822e-31, 4.679473739437008e-31, 5.887134787872937e-31, 5.014737141511869e-30, 5.42859219158186e-32, 9.602609590285344e-31, 1.1853156061234077e-31, 2.589816710087581e-31, 9.414323254499728e-32, 1.0759664666522893e-30, 1.2026189299872858e-30, 1.8889625278448362e-31, 1.766049471907037e-29, 6.134742798721105e-31, 6.045421120742234e-30, 7.200477010227453e-31, 1.632761089054869e-30, 2.061162105890014e-31, 1.2426131034237307e-30, 2.2173762831951536e-32, 9.953222174415276e-32, 1.629214669618212e-30, 6.992425794877676e-31, 1.0363744063233736e-30, 4.3229077466179014e-30, 2.864588984790031e-31, 4.733895930535446e-30, 3.737325596702102e-31, 1.6319196466886633e-31, 8.753420246110075e-31, 4.327145638851486e-31, 1.5716304222259495e-31, 6.721574969329569e-31], [1.0, 3.092535939316687e-35, 3.1695168204956027e-16, 3.0029286508090387e-27, 5.433708427826933e-25, 1.239535753252826e-30, 1.0794848554906453e-24, 1.3407769604999952e-26, 1.688336860973104e-20, 1.9902984058034252e-25, 7.74350301907537e-26, 2.2249025444680306e-30, 2.931995614036575e-23, 2.595371791550968e-26, 7.629616702156491e-19, 4.71831081070221e-26, 2.217686375360536e-27, 6.901695141158045e-29, 3.7442170572438964e-24, 2.9111866466482023e-24, 2.466047444678112e-26, 1.63564780360353e-22, 1.5385173956048024e-25, 4.342377318491249e-30, 5.302653363268852e-26, 2.6538614519602726e-25, 4.038416633581497e-27, 9.594561023211159e-22, 3.4179416940440254e-22, 7.8094776752503e-26, 1.132555571497002e-24, 4.5255064261927903e-26, 7.319469328401282e-26, 4.878140193075809e-27, 6.415899222179758e-24, 9.560845874672945e-28, 5.240123736622733e-23, 1.0445792679478054e-21, 1.220855851024813e-27, 1.3659931212025145e-23, 6.747127322355314e-26, 4.129917334127741e-25, 7.402924032900261e-26, 8.91128478602754e-27, 1.8546446519464556e-26, 9.488225450557518e-26, 1.0022272570779853e-21, 1.8878157599729333e-25, 6.430204918873101e-25, 1.0412720979758548e-23, 2.8267671899140415e-25, 3.9121860543489855e-25, 6.007547420700074e-26, 2.3290602077425278e-26, 7.411655120747343e-26, 3.4808961992015443e-26, 8.806322374430413e-27, 3.0562658092083657e-25, 2.4427808242803542e-26, 5.54015719511794e-26, 2.864333917186072e-26, 1.0981323594061517e-26, 7.704520964405809e-26, 2.4793568531889922e-26, 1.317656433444099e-25, 3.5582409294705535e-26, 5.7284166931073964e-27, 3.563891762001781e-26, 1.413665242952088e-26, 7.687288051412223e-26, 5.787967987731805e-26, 2.9897852959779636e-26, 1.6815251203614202e-26, 1.7928236874011852e-26, 3.019770638542513e-26, 5.505791902673865e-27, 7.704873486622829e-26, 3.8922372411701434e-26, 3.599113168824735e-26, 1.0133159916216121e-25, 2.190973033697105e-26, 3.6470834615075545e-27, 4.50394201971708e-27, 1.1266719063614496e-27, 2.9942254119089517e-26, 1.036032597242132e-26, 2.2382979087369616e-26, 4.8627037875343474e-26, 6.999726130885322e-27, 3.909394349561118e-26, 5.597532805202773e-27, 6.55812349096095e-27, 2.150004960068891e-27, 2.8461758644844005e-27, 2.893888775889452e-26, 1.619958417087408e-27, 1.0237721457050903e-24, 1.051878147340979e-26, 2.1451642507094703e-26, 1.5643849766887353e-26, 2.7111004596860106e-26, 6.877260097581626e-27, 1.0454536302324921e-26, 2.209620869642934e-28, 4.8185161753367e-26, 4.905855095347519e-26, 1.407090734419532e-26, 5.819672184253121e-26, 5.72158349366471e-26, 4.260197866699387e-27, 1.8568683768825637e-25, 4.809992317551633e-27, 4.526954571436574e-27, 4.7464705257538756e-27, 8.455142145395023e-27, 1.3170727688188727e-26, 1.1023756452968235e-26], [1.0, 3.7812589394088604e-19, 1.994396825466538e-08, 1.0957960054212944e-21, 5.556126045358489e-11, 6.347335533743566e-20, 1.248338205301193e-15, 1.3399724117151673e-21, 8.755775618429773e-12, 2.024478343431506e-20, 5.657918794935157e-13, 1.309196082659688e-22, 4.3215511781073546e-17, 5.78386139294215e-19, 7.916692644591595e-15, 2.7831919484476194e-21, 1.6069124908087886e-17, 1.6253689323769839e-19, 4.100331914145194e-15, 8.388846491203916e-16, 4.497659129931782e-19, 1.0180607577662051e-13, 1.8314651437470276e-18, 9.28501674978964e-21, 2.4859287383389697e-19, 4.2891006179791033e-16, 2.128875968436514e-19, 1.891267820492774e-18, 5.191639083695562e-14, 7.447793614723327e-18, 6.990981797951938e-17, 7.460500142907907e-19, 9.683258655176746e-20, 2.5285503133471246e-16, 2.5527954341183423e-19, 1.6857112087631017e-20, 5.304786930635918e-15, 5.518318346221275e-14, 5.563537183897706e-19, 1.2353480550825419e-16, 5.350727910718306e-19, 3.2033446694309793e-16, 6.084169897491859e-16, 3.729119212159017e-18, 1.4938812379536225e-17, 1.8273565872753135e-16, 4.261071069556685e-14, 9.312520931672031e-18, 1.7421740836599743e-15, 7.773463820133866e-16, 1.5766075710150508e-17, 4.810493998592754e-17, 8.518115696530192e-18, 1.1473263929809574e-18, 4.711045878576321e-18, 8.299586159222258e-18, 1.924799447778989e-18, 5.372641575370157e-16, 8.846464213502504e-18, 2.0568095739676024e-17, 5.634537942262981e-17, 4.386657075196301e-18, 3.4105004071418603e-17, 1.3123995486387746e-17, 9.04068456696873e-18, 1.5302931288122627e-18, 1.5359308816746944e-18, 1.2706585260042463e-17, 1.1967958261171146e-18, 2.0278891063650947e-18, 7.893637761034815e-19, 2.603801613736258e-18, 8.765469583053455e-19, 9.795239135329907e-19, 4.579185017129243e-18, 9.522125810555977e-19, 3.257699054897696e-18, 4.1676165057059314e-17, 5.9195116721729106e-18, 3.0575827648203454e-18, 2.0679802759088554e-18, 5.551685753671352e-19, 4.416913377449536e-19, 3.050509491703616e-19, 1.1098485971849813e-18, 1.1269391826160926e-18, 1.0638316918485286e-17, 1.2636825810263415e-18, 4.0572247448263915e-19, 4.2004934608963415e-18, 6.460515813525841e-19, 1.7032819273033602e-18, 2.397543972899796e-19, 3.138636991047589e-20, 1.6650000085544061e-18, 3.255076168572867e-19, 5.829452796571506e-17, 2.222871706765788e-18, 3.0348880307391874e-18, 1.2974158335868666e-18, 1.3530262555906175e-18, 4.887268436274618e-19, 1.561666435085174e-18, 1.101715395510842e-19, 6.501262006717167e-18, 6.01488363224632e-19, 2.216647793041786e-18, 2.1514762591712337e-17, 8.088729549276365e-18, 9.837215449489677e-19, 2.469033212436056e-17, 3.119375224529588e-18, 4.48604365297516e-18, 9.555165472172877e-19, 1.1273132750481197e-18, 2.349424136631807e-18, 2.1144059945835472e-18], [1.0, 6.633308811086758e-14, 8.074614208431515e-17, 1.1408161341443078e-16, 4.875581995493245e-16, 9.771423830012682e-20, 4.398944909370225e-16, 2.845671984321287e-15, 2.1199800812402025e-13, 3.344728790807827e-12, 1.2858831524464767e-15, 5.498054464680711e-17, 5.090063787127619e-12, 6.45641123165697e-16, 5.866407077996516e-13, 1.3574530160362716e-16, 2.1684662180808278e-17, 4.0461400506106027e-13, 1.7012433128904547e-10, 1.909509254038324e-16, 3.225414443743935e-17, 3.464608064484187e-15, 2.0483495542095165e-13, 8.939428177193696e-15, 1.5974050356667817e-14, 5.464789230910769e-16, 1.0092270180720655e-17, 9.74672934999114e-15, 1.4863269282914208e-17, 4.4575754050135347e-17, 1.4774519227402777e-13, 5.864921242446596e-16, 3.634324562114624e-17, 2.6411408867235697e-14, 4.895649016650699e-18, 4.2608111998484674e-14, 1.1978287285663303e-13, 1.2079905489532222e-13, 1.835143975258309e-14, 1.6817389181480904e-16, 1.2312093144594034e-14, 1.9148470650895075e-14, 3.8510627385591675e-14, 9.731380477712181e-16, 2.841484888704772e-15, 1.3340347520363971e-15, 1.167491769221967e-15, 8.927633031644944e-16, 1.1852128843246532e-14, 5.390378445285662e-16, 6.93795740310492e-16, 3.775443533379861e-15, 8.58296791386888e-16, 5.679404615734551e-16, 6.372486360210067e-15, 1.3463710457593272e-15, 6.778115139117541e-17, 5.177374540644031e-16, 1.0241830060298408e-15, 9.147790658921729e-15, 2.866022374395545e-15, 8.938367056669024e-16, 1.4663358985624801e-15, 3.1030596742452144e-16, 5.922815414995835e-16, 6.261326309014504e-16, 5.678992745963948e-16, 7.937674921244505e-16, 1.4446980713479546e-16, 1.4141254759079947e-16, 2.6506562007431404e-16, 9.620905146775355e-16, 2.5904787450054586e-16, 3.0470019750047407e-16, 9.630814902862638e-17, 5.818258726777948e-16, 6.170302983832254e-15, 3.88356813612982e-15, 4.289671306427316e-17, 1.8203443191423503e-15, 2.5503852345405643e-16, 1.6177566962904608e-16, 7.701588839394602e-17, 2.2879042825652376e-16, 9.026456894996695e-17, 1.4809001271647054e-16, 1.815559218265074e-15, 1.2804400128483022e-15, 5.374955100281795e-17, 4.684153078809365e-16, 1.322688533949689e-16, 7.713470594062212e-16, 4.486901935578745e-17, 5.053853314132713e-16, 5.290839897884665e-16, 5.210283358831637e-16, 6.252662220755276e-16, 5.054412355877901e-16, 1.2162984429174703e-15, 2.122092686230982e-16, 3.2672728929382215e-16, 6.710532762536285e-16, 1.7056113506263708e-16, 1.2906888203425036e-16, 1.462519644558185e-16, 3.632982014893226e-16, 2.6937437079787825e-16, 6.521235192505934e-17, 6.232349311888934e-16, 3.027570046577992e-17, 2.2030958498752296e-15, 4.3055428509742894e-16, 2.678353648722764e-16, 2.960090571264937e-16, 5.605125384914065e-17, 1.1230093840106542e-16, 4.1486792312854894e-16], [1.0, 7.329300507432599e-27, 1.497844759161671e-20, 7.737199760118556e-22, 4.2596381045595887e-23, 1.0959796247292762e-29, 4.5245858621984295e-21, 4.1019913839537527e-22, 7.25435862401228e-21, 1.1157576652883305e-18, 1.184489416665495e-22, 4.4527115128244015e-26, 2.0575855107412078e-18, 1.082901499634718e-21, 6.923990177220554e-18, 5.5385416760233e-22, 1.3169686699942626e-24, 7.830818995559799e-23, 1.0107456224150394e-16, 6.184227734825809e-23, 1.3321979255923937e-24, 1.7862729679553025e-23, 2.1142819255696e-21, 4.933146403965029e-24, 2.9886087230329174e-20, 7.806387657780742e-24, 2.892111989959958e-26, 2.487370617544226e-19, 2.094028433009917e-23, 1.5663279768435544e-23, 4.283565141863511e-20, 3.917807382496282e-22, 1.8644792181492842e-23, 5.710080047843461e-23, 2.9604736899302796e-24, 7.465812423625313e-22, 1.1036839561217475e-19, 2.2784767520955574e-19, 3.433228682427505e-23, 8.93877855456378e-23, 1.0763203044706105e-21, 3.365002690198709e-22, 3.1188808645601396e-22, 6.605666260476185e-23, 5.1041515689221324e-23, 9.721365175689026e-23, 6.626718370572765e-22, 4.6316491302437134e-23, 4.811160929440614e-22, 1.1949093225903783e-22, 1.1122580305220934e-22, 4.6202162006987815e-22, 8.39208153893879e-23, 5.053237855010444e-23, 3.3844288633063194e-22, 1.3260737617268914e-23, 1.3353829514972236e-24, 1.9565839353158118e-22, 3.115872338394244e-22, 5.949631356339136e-22, 4.1902243402430193e-23, 2.3755892983901248e-23, 2.2380890124528023e-22, 1.7124049794234932e-23, 6.009937200856731e-24, 3.6857626219392004e-23, 3.4924197560454964e-23, 3.5196903619946247e-23, 1.004166447576974e-23, 3.750480139514808e-23, 8.842966664459256e-23, 6.999926950219888e-23, 4.3891570745111195e-23, 4.071387178036905e-23, 6.663441802085848e-24, 1.338193505130345e-23, 4.030147233851506e-22, 1.5580216186103755e-22, 9.082968128541887e-24, 3.455540950488521e-22, 4.898382566049387e-23, 4.589191216375089e-24, 5.57255011651332e-24, 4.571421335624081e-24, 3.19769280215715e-23, 1.855722112683471e-24, 6.65320996060077e-23, 1.8890648886758385e-22, 7.376711294355414e-25, 9.756584344119161e-23, 3.570535918324102e-24, 3.255764955467176e-23, 3.666464559842598e-24, 1.0568026392752124e-23, 3.003129410670888e-23, 2.1817021184718182e-23, 8.759535472945634e-23, 4.463347233836621e-23, 8.116898456205113e-23, 1.8063709350097993e-23, 3.158919657576813e-23, 3.920885454639582e-23, 1.0466003800740796e-23, 1.5842767515263445e-24, 1.0583275862910951e-23, 8.806239825067063e-23, 1.5744871651862554e-23, 7.046836090632312e-24, 7.550211705241823e-23, 3.549067068788512e-24, 3.242690122388553e-22, 1.840881390802684e-23, 4.348905367936127e-24, 2.508222848967649e-23, 1.0402517852810419e-23, 4.11959730785422e-24, 3.0110902793820164e-23], [1.0, 8.625143719779982e-31, 3.299568533511475e-20, 6.392563093066194e-33, 1.335732468493159e-27, 2.1538072384758136e-33, 3.112998231395629e-29, 4.8898542767765554e-29, 2.9965738503307566e-22, 5.489754036914491e-25, 1.7631712996054216e-26, 2.5122356816056273e-30, 2.808187050405758e-23, 4.534645965262479e-27, 5.953896758808102e-23, 1.704618686324025e-28, 2.7093373081368168e-30, 3.4030866746294064e-28, 3.577278268304815e-20, 1.4555488073793666e-27, 2.145522309975081e-28, 1.1479948397407328e-28, 4.5677563987919887e-26, 4.191536378760964e-30, 8.240989713379845e-28, 3.9225020211232956e-30, 4.8151618987083574e-30, 1.6763381750203174e-25, 5.081197920460355e-27, 8.293300347989178e-30, 3.936257405314706e-25, 9.408966499998183e-26, 1.201327210278218e-28, 4.524224662036902e-28, 1.0999638802646651e-27, 6.17131810796389e-29, 3.33997001952882e-25, 9.63640296293055e-24, 1.6318536826476726e-28, 4.6235723137706596e-27, 1.0411910850423765e-26, 7.205609829203306e-25, 6.535596273587442e-27, 1.0661699004941183e-28, 3.194635091546112e-29, 4.694714721468866e-28, 6.468239354380267e-25, 5.288487108525714e-28, 1.3309875356298727e-26, 8.911352578761583e-27, 2.7703982248925403e-27, 3.50127014986003e-27, 6.54362624589757e-28, 4.9569777501633115e-29, 1.319596738529591e-27, 1.6727392494370692e-28, 1.7806886459702568e-29, 2.621688507201652e-28, 7.510178744095095e-28, 3.3201244978247555e-27, 6.471734169968511e-28, 2.092266495152885e-28, 7.508005235856357e-27, 1.4586608212800047e-28, 1.3794736838334715e-28, 1.2081570393435013e-27, 1.5104735127207469e-28, 2.5354506605993387e-28, 3.8620889841915984e-29, 2.9380903895977952e-28, 4.931593512013802e-28, 1.2597925693034842e-27, 4.246987528024846e-28, 1.9603582291849667e-28, 4.8008769151989727e-29, 1.0057778531895493e-28, 1.9354003197027712e-27, 1.088630552913924e-27, 9.698703940092184e-29, 1.644107460067085e-27, 2.44745131032164e-28, 8.218695389084862e-29, 4.3224644818041385e-29, 1.0413880872126816e-29, 2.415793114637046e-28, 1.2439749277350906e-29, 4.39185886733657e-28, 1.3038747946145747e-27, 5.097245184035634e-30, 1.4364305823039206e-27, 9.697815604905335e-29, 1.562683427212519e-28, 1.1349789537867332e-29, 3.471502266452914e-29, 2.530860447318135e-28, 1.8124186427305903e-29, 3.009086426620228e-27, 7.215386999381192e-29, 1.9419294870296113e-28, 1.3309557770450898e-28, 7.369696117644143e-28, 6.88097935719373e-29, 2.197079514771638e-29, 2.634528471492294e-30, 3.3340456972417697e-28, 3.020620098833434e-28, 5.068957335661062e-29, 2.7331117396867173e-28, 9.122013107194592e-28, 1.4347150421503644e-29, 4.535337759298503e-27, 8.319191617289203e-29, 9.669445453118296e-29, 4.588621500104892e-28, 2.247603578523653e-29, 2.321587725947458e-29, 1.458093273799518e-28], [1.0, 1.7941093879964255e-34, 3.2848011623789014e-19, 1.234593447688369e-25, 8.561137048035335e-28, 9.309471509395082e-32, 2.448555840774396e-26, 3.4725672455268495e-26, 6.167006585720472e-23, 1.3265638810073053e-24, 1.0970855779627784e-26, 1.8616359282207056e-31, 4.944450386306393e-24, 1.6599025785347803e-24, 4.586060858530991e-23, 1.1689736864761519e-26, 6.049230399523645e-29, 4.164678213635636e-31, 2.698868094555423e-22, 1.5128466784575528e-24, 1.3875923115137646e-26, 2.8420963596761995e-27, 1.401772203381653e-24, 1.417383628673479e-29, 5.694847025434507e-25, 1.0546851288459065e-29, 6.98209067927406e-29, 8.051309783754652e-22, 1.3299529260637479e-25, 6.58517279184388e-27, 3.007015655034369e-23, 1.708156805676697e-24, 4.9614097001513354e-27, 6.732770622029625e-29, 1.8288405186986105e-25, 9.202084607597463e-28, 9.87862704261364e-25, 2.6681857361886955e-24, 1.8007040534732334e-28, 3.71692030055576e-25, 8.883423667154452e-26, 1.53129204601056e-25, 5.940612572892071e-27, 3.2592377633769085e-27, 2.691335526594539e-27, 1.472056357377998e-25, 2.11657959970747e-23, 5.532467187961595e-27, 8.12667618004934e-26, 5.483032572223459e-26, 1.3592752865042413e-26, 5.265844990171723e-26, 4.1486876784773324e-27, 1.470438460668916e-27, 9.265174413308695e-27, 1.4354829284747848e-27, 3.285663448143846e-28, 1.5745568142086154e-26, 5.181000380550479e-27, 4.4839188964572634e-27, 5.540725190377138e-27, 1.0406306972064581e-27, 1.1806119270556884e-26, 1.2071302875715496e-26, 5.397550017567436e-27, 1.1531619557071282e-26, 1.4593014818760051e-27, 4.263921074467876e-27, 1.5291773980427823e-27, 1.659242419053651e-26, 1.0914961440781778e-26, 9.288884922040035e-27, 6.750033165455405e-27, 7.508435103419944e-27, 1.72551594103735e-27, 1.780839819433829e-27, 1.24137902273539e-26, 8.576243079554137e-27, 3.678970313224796e-27, 1.2359970500243988e-26, 3.25851669520573e-27, 1.4618087537741056e-27, 3.1825233514600984e-27, 2.1106641816878873e-28, 7.8353748078033e-27, 2.1216913343257195e-28, 7.456088327531499e-27, 1.1506440719350341e-26, 4.684392699931922e-28, 1.6627274278066186e-26, 2.3537820222876657e-27, 1.277621865763649e-27, 1.8599067788518324e-28, 6.596609060150149e-28, 3.2338990734705834e-27, 2.1358616046327916e-28, 1.016029303357023e-25, 2.7416548760305275e-27, 1.7897137342455876e-27, 2.9160170176156815e-27, 4.629961008582181e-27, 7.454690776467355e-28, 3.8144325699414654e-28, 1.685505035332197e-28, 1.7253062843036041e-26, 4.980086983566014e-27, 2.413887599550069e-27, 7.678052523994106e-27, 4.9410487687792736e-27, 4.502977802890422e-28, 4.857808843987693e-26, 9.995781522908831e-28, 7.7770052637927665e-28, 1.5125962004830776e-27, 5.124760433575953e-28, 3.4273184844484436e-28, 2.6993038691464466e-27], [1.0, 1.4101496103722606e-24, 1.6561839341294282e-16, 1.9343970176312887e-19, 9.69263524017411e-22, 1.3728089040755273e-25, 1.9109471581237493e-21, 8.657195550591128e-21, 8.330031368847884e-19, 1.4885196911990386e-21, 5.49558725310093e-22, 1.161945965027595e-24, 2.789070787300106e-20, 1.8955843381191725e-21, 2.1760898454783616e-17, 1.3512240673349667e-21, 4.2342027046203666e-23, 1.282541103760994e-24, 7.351808416547983e-21, 2.2095951041207297e-21, 2.156515998578646e-22, 7.355117946791763e-21, 2.2726944041846423e-20, 1.4301614338159072e-24, 2.3207206397964418e-21, 3.02377516273797e-23, 6.759912391046231e-24, 3.0023008369173546e-18, 1.1219543079015125e-19, 3.0609507567001515e-21, 7.571393526790415e-20, 1.6166799170299972e-20, 5.088972648171781e-21, 4.6669784236562175e-23, 4.989802901573336e-20, 1.2880730381905107e-22, 3.326830273926206e-20, 8.533718003093561e-20, 4.597499026112334e-23, 1.4153970179456112e-19, 2.0660453405129676e-21, 1.7491675131939263e-21, 1.9051088048750958e-22, 1.5080772569790228e-22, 1.5229696886921471e-22, 3.1991846327922316e-21, 1.0573940760132734e-18, 4.0912242530128273e-22, 1.552173319403429e-21, 1.4268565067332823e-20, 1.8577224477912235e-21, 3.112025322505858e-21, 3.51409765372097e-22, 2.7105268276458656e-22, 5.935870592926205e-22, 2.4997038138344226e-22, 4.981829029910135e-22, 3.087911573816356e-22, 2.432074579103208e-22, 2.178069193122222e-22, 1.231909044746906e-22, 3.2094506792861605e-22, 5.773888292785275e-22, 5.175759060752813e-22, 9.735992550137996e-22, 7.023414684138555e-22, 2.0220220299966845e-22, 7.223840385001441e-22, 2.2317715618883027e-22, 6.11185599455015e-22, 3.689478219911664e-22, 2.601244727377023e-22, 4.924277272362065e-22, 3.7937509903234807e-22, 3.36789206681348e-22, 1.9455537665946495e-22, 5.516359664674954e-22, 1.5131770849590956e-22, 3.5936327558870144e-22, 8.25929996650101e-22, 1.3744930659018347e-22, 2.475808270382192e-22, 2.9913999325344654e-22, 1.7750784006214922e-23, 9.161867408818323e-22, 4.946358561950032e-23, 1.6963919865717205e-22, 3.239166627823729e-22, 5.959827730637916e-23, 6.947761787368157e-22, 5.29086409046189e-22, 1.420186666322622e-22, 2.6232057945630344e-23, 1.0595965794976699e-22, 3.1415687566297856e-22, 7.68973406256028e-23, 5.176215968989117e-21, 5.665624769717253e-22, 2.637948342704167e-22, 1.982746097029796e-22, 4.458482297079687e-22, 5.0618231860141455e-23, 6.655748199449409e-23, 2.676679204339984e-23, 1.6918367881606123e-21, 3.0956249926387345e-22, 2.6251993407338365e-22, 4.853669551288226e-22, 4.2103349290719996e-22, 2.4860387234720773e-22, 2.4381974523922693e-21, 9.829693448460147e-23, 1.6037545989675515e-22, 2.151716947484516e-22, 5.808613823615359e-23, 6.938250018117364e-23, 1.410872049189262e-22], [1.0, 1.74826426903517e-24, 8.982050346550974e-12, 2.8166869067526566e-21, 1.8121047333560402e-17, 1.3062515015587694e-24, 9.104598641551594e-20, 1.7628788244944303e-22, 1.7206287153855975e-16, 7.568015010976019e-20, 3.5774611889575236e-17, 2.1199248432621503e-23, 1.6910070840009562e-18, 3.4082209041688173e-19, 7.180391765283922e-18, 1.282141309054228e-22, 1.0216713733002016e-20, 2.4878792306272665e-22, 1.15688712848058e-15, 4.506142901089279e-19, 2.4988375057209706e-21, 2.6063230024149876e-20, 1.7120361348223738e-19, 3.500159024262017e-21, 2.7098589378662626e-19, 1.1992343755655537e-21, 1.1297260615363281e-22, 1.776660524906874e-19, 4.333649687182678e-18, 1.3257318189234707e-20, 2.885016552224686e-18, 1.8343588283248912e-19, 3.0871359910178915e-21, 9.243002760137908e-20, 1.599137871930191e-20, 6.781334098254125e-21, 1.4707656757358282e-17, 1.0151042024987038e-16, 1.5808924001922879e-21, 7.675623970838808e-19, 1.6560794020229502e-20, 5.040580158956728e-19, 1.1887371223968933e-19, 1.7794813400426506e-20, 4.1618587625408306e-20, 1.1740725026060352e-19, 3.471801438849185e-17, 3.049937703105189e-20, 6.734346200493278e-19, 4.619535921385346e-19, 1.3185605345976768e-19, 9.732363456759133e-20, 1.2892050094132922e-20, 2.8711675341333922e-21, 5.538716078654404e-20, 4.743932511779898e-21, 9.997266109224679e-21, 1.621287959276771e-19, 5.0842016578066825e-20, 4.633158164357416e-20, 8.331357475079126e-21, 2.2518017929278562e-20, 1.745430062385993e-19, 2.428869011891495e-20, 6.33332855485143e-21, 3.480309436058872e-20, 1.1504457039955919e-20, 5.891773566198228e-20, 1.4598245009049222e-20, 3.2457009810583733e-20, 9.294797514298225e-21, 3.9018972217655814e-20, 1.2269296183979865e-20, 3.3149728337157145e-20, 3.637729499887243e-21, 6.868629117859745e-21, 3.812236982595942e-20, 6.721689690886363e-20, 7.652256732457295e-21, 3.0539078469280166e-20, 1.59230797732166e-20, 3.634400582597857e-21, 6.914345386987505e-21, 1.6945818726494876e-21, 2.7948432801295046e-20, 9.213914558078633e-22, 5.008128829550507e-20, 6.115780538426124e-20, 2.147085412581331e-21, 6.428283557734976e-20, 3.525350874440805e-21, 1.3938885125616425e-20, 8.287009305331186e-22, 2.4238419509656746e-21, 7.498725871536345e-21, 1.1195334232827954e-21, 9.82266185284666e-20, 1.379000554005395e-20, 5.706405622099363e-21, 1.0673869154137512e-20, 1.1539619486131525e-20, 1.7992547533124326e-21, 1.0448189402991184e-20, 7.515761833966459e-22, 5.576538265928537e-20, 2.3537185223300586e-20, 8.825215804722395e-21, 1.8570430934014216e-20, 6.161161088547461e-20, 3.0990650825177712e-21, 5.256852216975428e-19, 8.162083525331959e-21, 7.339030737906027e-21, 1.2067794502085807e-20, 3.327285546380537e-21, 2.5363591130088435e-21, 9.232320336449896e-21], [1.0, 3.5540090894012895e-33, 6.1319615790870595e-30, 6.141085178490967e-32, 2.6349907699105855e-30, 6.14038337198806e-39, 3.196356921064643e-27, 1.2004790788789585e-29, 1.1586528651787498e-24, 6.26541351265881e-23, 9.216422193068454e-27, 5.8075928467347155e-31, 5.487976733295028e-24, 6.088752889394901e-28, 4.581152414517412e-21, 2.2541486588466585e-27, 6.709352061520283e-32, 7.395323504449132e-28, 2.8713823030925605e-24, 2.8344603122620714e-29, 7.3673275247391e-30, 4.276188785990436e-26, 8.632760456737152e-28, 1.2029401690834785e-30, 2.8355339459836944e-27, 4.546040151999463e-28, 4.3121975824886894e-32, 1.3696763127689914e-24, 2.81632250589894e-28, 2.3993248788871106e-29, 4.218091029213655e-26, 2.2538638138078837e-28, 1.1686291327942762e-28, 5.0156003493314747e-29, 1.8144308257484634e-30, 1.630354105444724e-28, 2.8452778110550525e-25, 2.0341352337432338e-24, 1.8345604574481027e-28, 2.252454033088592e-28, 9.063156688094118e-27, 1.8737016131903706e-27, 6.93235594587269e-29, 1.1539963082813419e-29, 1.2646930438801978e-29, 6.726455377371358e-29, 2.189743635576405e-27, 7.362695362296296e-29, 1.5321377449602999e-27, 4.828042036693933e-28, 2.6479213582329076e-28, 8.629205190059814e-28, 1.0596500257792598e-28, 3.3414051570417595e-28, 7.559300068809178e-28, 2.829037615762406e-29, 1.463351946519447e-30, 3.83266462650125e-28, 3.68072319836368e-28, 1.7387642205317955e-27, 4.3368668266695093e-29, 5.026901646059828e-29, 3.4918246190407774e-28, 3.618946347243786e-29, 3.7285007656443773e-29, 7.284805940520415e-29, 9.532939450705328e-30, 3.289235867634752e-29, 4.035453674621492e-30, 3.749953819665528e-29, 6.505740796479043e-29, 1.4924091324367453e-28, 1.4069282966731976e-28, 5.0345394629220927e-29, 6.931162320697e-30, 1.013429903877809e-29, 2.776798090097739e-28, 3.7921891624193866e-29, 2.896666156753914e-30, 2.4102897698209593e-27, 4.001379460006975e-29, 1.4126550192701777e-29, 1.1070004579094783e-30, 1.7796487942635646e-30, 7.136115121017106e-29, 1.0435196252249599e-29, 1.9091469695546701e-29, 3.893629216667099e-28, 1.3835829939121947e-30, 6.160921697382844e-29, 6.013633872705038e-30, 1.420392894211584e-29, 3.8452549270765234e-30, 3.6002196878001583e-29, 3.721850288805165e-29, 1.060931611786628e-29, 5.959812361100662e-28, 3.737956780744765e-29, 2.3674322915097532e-28, 1.660468337259683e-29, 5.135873771578796e-29, 5.4550863531265125e-30, 4.960117918752324e-29, 9.04811197788382e-31, 3.665055216598293e-30, 1.0861618959112084e-28, 2.8270740699987926e-29, 2.7210116033286184e-29, 1.9030909430298552e-28, 1.50233007906277e-29, 1.5249241262053489e-28, 2.210884520427695e-29, 6.242464818911815e-30, 3.3036968931781157e-29, 1.7965041419323217e-29, 5.297830411585372e-30, 3.3758292890530477e-29], [1.0, 4.2035872676656856e-33, 1.1397949776928776e-14, 1.1110694656291105e-24, 1.3709577384234324e-23, 2.275027135743026e-28, 1.1554275284816632e-22, 5.742709681744595e-25, 1.16750210360295e-20, 6.251113673257688e-23, 3.6612672286546397e-23, 5.56811865494113e-28, 2.1652215898496264e-21, 1.7566484010649947e-23, 3.2907494698625585e-17, 1.462391766048341e-23, 1.8304458506407353e-25, 1.3623119387661556e-26, 6.31940037622175e-22, 3.389946093368563e-22, 1.9577466768470623e-24, 1.4869250057236907e-21, 9.04393371322974e-24, 2.2732325060725972e-27, 1.3264126563717744e-23, 2.7443587368425153e-24, 6.432188780790216e-26, 1.4035949600620694e-19, 1.0358223817853239e-20, 2.156794466478189e-23, 6.489058229861609e-22, 1.3229057752176144e-23, 5.802343326051938e-24, 2.73660038844728e-25, 4.1076754738746684e-22, 2.9045296466842685e-25, 2.5186765118283886e-21, 7.340574592971174e-20, 1.3894734674388047e-25, 1.6411611714027815e-21, 6.800727265421461e-24, 8.399251337934163e-24, 1.7469977528518377e-24, 1.4735852684199294e-24, 1.8813823774237264e-24, 8.27774309270297e-24, 4.55699712504373e-20, 1.0072202070271751e-23, 4.021498983302004e-23, 6.575249298583801e-22, 2.675637907945092e-23, 5.445188760023659e-23, 4.953814559681819e-24, 4.170702872738058e-24, 9.274771769037323e-24, 2.2536533327761215e-24, 1.061415996456558e-24, 5.68081457043721e-23, 3.608781472731027e-24, 3.2426869038360598e-24, 2.18472424459972e-24, 1.5909083107260849e-24, 1.101574439951031e-23, 3.6660030762130435e-24, 8.457251547129632e-24, 4.8370296191206375e-24, 1.3122847097618997e-24, 3.166470713047679e-24, 1.8420044131873565e-24, 9.476696494946746e-24, 8.052407341709304e-24, 3.2737220723540385e-24, 3.043992168903065e-24, 3.0583316880077198e-24, 5.664344338027553e-24, 5.569508367470401e-25, 1.060781022592423e-23, 3.0091598184178048e-24, 3.829369464366621e-24, 1.5342112405814724e-23, 2.8384818729641866e-24, 7.160862680430775e-25, 5.959753419940644e-25, 1.9420657244249823e-25, 8.034457600671905e-24, 7.912365105332783e-25, 3.0895110208561277e-24, 1.0742436439148343e-23, 7.487734099042022e-25, 8.098893337132168e-24, 9.40340934469945e-25, 1.6163621897320118e-24, 2.5518333872264144e-25, 2.697659748975242e-25, 4.1126257496043294e-24, 2.743687317604559e-25, 9.831755846410757e-23, 1.8901730489210567e-24, 3.0016618927289053e-24, 1.130181889033192e-24, 3.070207988935822e-24, 5.915156154740105e-25, 1.3203892694869141e-24, 3.7941485505817327e-26, 7.535964561749169e-24, 7.830008519865775e-24, 2.588068036578318e-24, 5.816459991950868e-24, 7.117075476772286e-24, 5.088787378666163e-25, 1.8419069099794712e-23, 7.442115258969223e-25, 3.6909505065178185e-25, 6.411980752848299e-25, 1.3842840445814215e-24, 1.6690711144057116e-24, 1.90174504675497e-24], [0.9999998211860657, 8.642458313389775e-18, 1.977994088520063e-07, 6.626724186686447e-20, 2.797011788846504e-10, 1.1765208021228273e-18, 8.122942964962354e-14, 1.872507493447042e-20, 1.4513209427649554e-12, 8.053413900204026e-18, 5.900886723697596e-11, 7.875883072356446e-21, 5.039781661659096e-15, 1.0161112452636504e-16, 3.702515182467392e-13, 8.864092259536621e-19, 3.0164696136297754e-16, 8.263790745394638e-18, 3.894898726458651e-13, 4.8136760419717484e-14, 1.976852476160879e-17, 4.07393194699901e-13, 5.364302668353337e-17, 7.638263841484967e-19, 3.2548557869781675e-17, 1.5886108219710323e-15, 6.555447713513372e-19, 2.581294790274854e-16, 7.562067291799757e-13, 9.802429601327872e-16, 1.7093385761739535e-14, 1.0840489124616106e-16, 4.625462463679135e-18, 2.6679737893497545e-15, 4.785416033089739e-18, 2.002161721363164e-18, 8.732150067044739e-14, 1.6288254382421097e-12, 2.458665826946684e-17, 6.218126464034232e-15, 2.563365716672216e-17, 2.1407535896826027e-15, 4.3164311948134474e-15, 2.1606804632832337e-16, 5.199759503857595e-16, 8.664488905811476e-15, 5.765241799585152e-13, 1.2898814920646518e-16, 3.320842814060962e-14, 1.4105977636771818e-14, 5.446703489300113e-16, 2.8713730815233506e-15, 3.482546845878494e-16, 1.2412194492448923e-16, 1.73941709729578e-16, 2.4896429137061824e-16, 9.480669710283443e-17, 2.654138946112366e-14, 6.192487411995555e-16, 4.917890232417413e-16, 2.5770062624629053e-15, 2.2180707835777548e-16, 1.6111244283134596e-15, 6.016773603461202e-16, 3.4841016807322977e-16, 8.65605600460729e-17, 1.353683190025398e-16, 5.359172163322038e-16, 7.476289986825779e-17, 1.2971101241760792e-16, 4.918750434080019e-17, 1.197038872460598e-16, 7.425271471876978e-17, 6.599741250082116e-17, 3.369469535606821e-16, 5.279787309063079e-17, 2.135165580980668e-16, 1.1903593294572282e-15, 2.78158525977379e-16, 1.9552240192483326e-16, 1.227395474499008e-16, 2.959716090058022e-17, 1.8767940622885047e-17, 2.4473152545812314e-17, 1.330816476823084e-16, 3.309241588764549e-17, 6.66746007837722e-16, 1.3681673210745485e-16, 1.5819572789086763e-17, 3.0595221807563433e-16, 4.196955278544207e-17, 1.06388476375663e-16, 8.692118101464396e-18, 1.637367626601766e-18, 8.769758266375359e-17, 1.6694208753381958e-17, 2.8261127230197643e-15, 1.721744681293605e-16, 1.9001934798053028e-16, 4.772311341517306e-17, 6.993861048228112e-17, 2.0873034218132473e-17, 4.7521466634167336e-17, 7.630725434370042e-18, 3.265316246830064e-16, 3.9497950350023426e-17, 1.4248520893937863e-16, 5.938379116006041e-16, 3.7065579436696946e-16, 6.587039726340242e-17, 1.1505098174207024e-15, 1.6206966947108212e-16, 1.7321664952672832e-16, 5.2895645839034556e-17, 6.317270982296078e-17, 1.3565935422926045e-16, 1.5153766180492215e-16], [1.0, 6.33596877965738e-19, 1.5362403189833618e-12, 3.7622422538463596e-13, 4.861888880720266e-18, 4.869403402995004e-19, 3.818169992821736e-15, 7.643706631185743e-14, 9.844880309193768e-14, 8.137086382302428e-14, 7.560664890848025e-18, 2.897956469419098e-17, 5.20096559407119e-14, 9.773312632007768e-15, 5.03892795544747e-11, 9.153193611041721e-13, 1.4083484465099243e-17, 2.4098055916521568e-17, 1.132012777786684e-14, 2.5941588914030417e-15, 1.8358816562520728e-15, 2.3530153875833204e-15, 1.0248322779597349e-14, 9.01186476724677e-18, 1.1766430115401488e-13, 7.30549902790175e-17, 1.7998831398055693e-17, 2.795362726015771e-11, 4.3043952801494374e-15, 8.352604068973272e-16, 9.378457212216862e-14, 9.976577669459225e-14, 3.9976031653791294e-14, 2.4348934833225226e-17, 1.765200907265143e-14, 1.4187243883555527e-15, 2.3944652413187412e-14, 5.369112814936072e-14, 9.341131620135137e-17, 1.8645411007257168e-14, 2.67664931255377e-15, 1.576988153506164e-15, 1.2936019519365683e-16, 4.905692957976951e-16, 3.115739228070019e-16, 1.9920251920565882e-15, 1.0485878929478859e-13, 5.474533286177745e-16, 1.8691656041561937e-15, 5.232015789038459e-15, 8.406433542166875e-16, 6.115142927757633e-15, 1.6075456082321918e-15, 3.5189259580510005e-15, 5.783407026767578e-16, 2.9627791067790815e-16, 1.4965343701375496e-16, 2.5385339201194966e-16, 1.7931619730737758e-15, 9.35632805295337e-16, 2.870222228445828e-16, 4.834098027505873e-16, 9.398431943179013e-16, 3.0002661380465966e-16, 3.4407013007017634e-16, 4.587687143424533e-16, 4.524148555073027e-16, 3.050002324522593e-16, 9.78173658642645e-16, 8.725083631154799e-16, 1.5250912918608403e-15, 6.932613154603338e-16, 1.3143799877700715e-15, 3.828625449885288e-16, 4.1391628161230873e-16, 1.4079945455566496e-16, 1.0784566421251601e-15, 1.7103675729741017e-16, 1.372177069167732e-15, 7.983289763036517e-15, 4.977968691179384e-16, 7.772897102152593e-17, 4.022633317195761e-16, 1.0887570259849154e-16, 1.3804356404034613e-15, 1.0048712504024838e-16, 2.7103386716022704e-16, 5.949740474806681e-16, 8.74310386006094e-17, 6.120133857641093e-16, 3.2567082745035923e-16, 4.062000761606181e-16, 2.6893902233276915e-16, 1.4626815072604494e-16, 7.082464929675648e-16, 1.7039659891263293e-16, 3.268309237749187e-15, 4.844712938521746e-16, 2.244389553086824e-15, 2.880126161181599e-16, 1.217226791027661e-15, 2.3656772595953513e-16, 1.290880858593514e-16, 7.626714435579772e-17, 8.412496180486848e-16, 1.7246052439053808e-15, 3.0620214573463356e-16, 3.918447205892298e-16, 3.4448382625557126e-16, 3.9343838660970917e-16, 4.664912196016891e-16, 5.445104185216579e-16, 1.354401182797094e-16, 3.210746149203206e-16, 2.8843922955600044e-16, 2.505439548776883e-16, 2.2316250312694977e-16], [1.0, 3.1027597302181366e-26, 7.653619246009223e-16, 6.631961333912824e-27, 4.753534547900396e-28, 8.126795741780287e-27, 3.1447260133365267e-27, 2.1869931663353166e-23, 1.2719332940462517e-18, 1.300881567604749e-23, 1.6647391771893277e-26, 8.401133214927374e-26, 1.0489242279856963e-20, 2.3152712580829347e-23, 2.7188998668651023e-18, 2.2450920778072475e-22, 9.971831235899415e-27, 3.248191399587881e-27, 1.5154597076308941e-21, 1.7680452449566782e-21, 6.474247839682627e-22, 3.5113088726488325e-23, 2.1824938823851704e-22, 1.7357023771062087e-27, 7.537714846882628e-25, 5.2609233917546385e-27, 1.7491639648975746e-25, 3.979948498025922e-20, 6.249921546657718e-23, 1.8758777060270942e-25, 7.891913735692495e-21, 2.5850738310777514e-20, 2.0837502065036114e-22, 1.8962955832957517e-26, 3.654754557104203e-21, 1.6028836383496957e-25, 2.191670164870191e-23, 3.104234052578465e-22, 3.4870913457573745e-25, 1.999563728004894e-21, 3.7036199084785074e-23, 8.683088161689241e-22, 1.752999209403533e-24, 4.887328080690821e-25, 1.0085033238021817e-25, 3.0801557221658854e-24, 9.011717890989253e-20, 3.295637022731531e-24, 1.5483100782239445e-23, 5.816843220578624e-22, 1.5534097484318362e-23, 2.848027997107402e-23, 4.6296858132227994e-24, 5.7301956853822346e-24, 1.316250510747672e-24, 1.4612924489338703e-24, 5.084208534149421e-25, 1.0723633397130528e-25, 1.267342810953393e-24, 2.427280237508682e-24, 1.8045104460078808e-24, 1.2459156724381666e-24, 2.7858327045040574e-24, 1.596129978272969e-24, 1.148049687144061e-24, 7.396777943631974e-24, 5.716481535760194e-25, 8.429387007804963e-25, 2.1296747696202294e-24, 3.102052725957784e-24, 1.4305051799553573e-24, 2.658838128892279e-24, 2.4003928996303554e-24, 7.542604798418867e-25, 1.786299197580401e-24, 3.5309695149389973e-25, 2.967506384900325e-24, 3.8041212315379235e-25, 8.402679727428253e-24, 6.459246103402476e-23, 2.547514866808395e-25, 5.908188047756675e-25, 4.211838813501713e-25, 1.180779205626938e-25, 3.153788985135346e-24, 2.759789940832383e-25, 1.1368103913969247e-24, 1.0263059669326602e-24, 5.265101735287586e-26, 4.648763625354664e-24, 1.883479169709804e-24, 1.0260279920711829e-24, 3.067923447754302e-25, 2.8210469622750576e-25, 3.6728062126596695e-24, 2.0059074979274202e-26, 3.410619928883871e-23, 7.194074217578646e-25, 1.680533578902935e-23, 3.53592997091864e-25, 2.0364576796912497e-23, 1.5374965602896398e-25, 2.352086780232017e-26, 5.983281319698377e-26, 3.545345617468132e-24, 3.553090259405139e-24, 4.0428598772227146e-25, 1.2864219049842289e-24, 1.7201425610553988e-24, 4.292092591618241e-25, 2.1208541214085007e-24, 9.680316285726262e-25, 1.2252807474870086e-24, 1.7093757929904898e-24, 6.809702481066806e-26, 3.1580010093311606e-25, 2.2310275694192184e-25], [1.0, 1.634002257574826e-36, 8.802113514552905e-22, 1.5846785101423934e-28, 2.0939928053649465e-34, 9.830886126336499e-32, 1.2194158038650557e-30, 1.9959388845352718e-26, 1.6997789450910688e-23, 6.467979328800685e-29, 4.6512277856810994e-32, 4.758384969081296e-33, 2.388572213396071e-25, 1.6736281912918503e-26, 3.441713039235338e-23, 2.6019157009085677e-25, 1.3192417934024224e-31, 2.844286513088331e-35, 1.9217669264418213e-28, 5.925929529515096e-25, 2.890490819169971e-26, 1.6226992079912654e-26, 7.458225647546582e-26, 4.4699036678365337e-32, 2.919155513053055e-27, 1.8931961001366815e-32, 9.233722159720466e-30, 4.120861138755031e-21, 1.182779638245294e-27, 6.764435317727782e-29, 8.581225968765772e-25, 1.3168330845261778e-24, 1.6919237245766722e-25, 7.860322073701366e-32, 2.7707406120958216e-24, 6.053267028316459e-30, 6.48750416583564e-28, 7.251206166710635e-28, 3.366144494540126e-30, 3.1916693462469605e-25, 2.7085562291922773e-27, 2.165999808257027e-27, 2.282580121409771e-29, 4.5036797441698407e-29, 1.5389310234863573e-29, 5.229549222588593e-27, 9.644641037363773e-24, 1.115590225832067e-28, 3.4745114718057084e-28, 2.1083326123786132e-26, 5.494875539156084e-29, 1.3433667584962128e-27, 1.407196602788575e-28, 5.88938976971917e-28, 6.122498793139211e-29, 3.7207997542058127e-29, 2.693972449689083e-29, 5.6450210376205125e-30, 1.6480492488472002e-29, 1.5178718823241443e-29, 9.20246582135583e-29, 1.590339961769852e-29, 1.9379692634888097e-29, 1.3884380451302434e-28, 1.1328124932478852e-28, 1.0941547459216585e-28, 1.722548131141298e-29, 5.060417641917027e-29, 6.998623584140409e-29, 1.3924479516450791e-28, 5.63231170554688e-29, 8.38885491079012e-29, 7.61114754735954e-29, 4.066469873596187e-29, 1.0303206405092943e-28, 1.1863029555504148e-29, 5.342501378634134e-29, 4.307598484350984e-30, 9.039811528273228e-28, 1.8853022596173927e-27, 1.3153034735531563e-29, 2.815558212637572e-29, 2.780400361502783e-29, 1.5126170088019572e-30, 1.4449814223675083e-28, 5.3984478379592604e-30, 5.9197688620404654e-30, 1.353694930971916e-29, 1.868060639614899e-30, 1.184896981552029e-28, 9.413511632074214e-29, 2.903028233107118e-29, 5.393630756149139e-30, 8.428979855622105e-30, 6.172966583625664e-29, 7.477036506540893e-31, 1.0693516089846189e-27, 1.780362592049203e-29, 4.829184113150955e-28, 1.9580628818031216e-29, 3.3996741675091953e-28, 3.093003994075713e-30, 5.280858530108652e-31, 5.4052066483578444e-30, 2.399728932970912e-28, 2.14445847442205e-28, 5.286386400438874e-29, 1.9756345851332247e-29, 1.8541535446254617e-29, 5.578342333680288e-29, 3.330472134229959e-29, 1.5885572728650785e-29, 1.97877219584653e-29, 1.1798672650389849e-29, 1.4269255394970699e-30, 7.619539335702377e-30, 3.493966433694868e-30], [1.0, 7.794496840915121e-36, 4.602851289582077e-23, 3.149166052230317e-28, 5.278793284798238e-35, 6.592322312490553e-31, 3.280325131449869e-30, 1.9034994857341332e-26, 3.1640573508803365e-23, 8.187742836076298e-30, 2.5465329215878318e-33, 7.808347590979758e-33, 3.667683507713345e-23, 7.282780825183892e-28, 5.7345996370697066e-21, 1.860272459600012e-24, 7.477549492275592e-31, 1.6023261071273269e-34, 1.3915756972209498e-30, 4.8620545180314956e-26, 3.2513912936718816e-26, 3.410046111461413e-24, 1.7040167157346774e-25, 5.614238161344018e-33, 1.2439998474630116e-27, 4.577111221169663e-31, 6.616335217049603e-30, 4.316432808074136e-22, 8.310287561673815e-27, 7.8399451358578275e-28, 5.456720979546427e-26, 7.651974199951938e-26, 7.872296986411958e-24, 1.5477487263463387e-31, 2.5434779894550624e-23, 7.299239130357551e-30, 7.896522698351605e-28, 7.040668320015083e-28, 4.806316914975482e-30, 9.330481126164031e-25, 8.24048704566436e-28, 4.2987059692689345e-28, 2.1726593249299156e-29, 8.71238706732287e-29, 2.4939706434955448e-29, 3.7362070252420404e-27, 2.1428202688587418e-23, 1.7198701255536276e-28, 4.8201816545524704e-29, 7.533829953443448e-26, 9.411572461361459e-29, 1.1410664993587942e-27, 1.5702844708499077e-28, 2.4679187937678753e-27, 1.2494209309963485e-28, 4.1297514176704445e-29, 4.09046286810212e-28, 1.0086123330620374e-30, 1.5059219384090522e-29, 1.2822590296057785e-29, 1.0234967096044657e-28, 5.809283000724192e-29, 1.730081827415944e-29, 6.145101386595918e-29, 2.476650815690981e-28, 6.208815963981109e-29, 1.9865926751269573e-29, 1.2264894850016373e-28, 8.617062562872317e-29, 3.5555621872146793e-29, 1.3770387065306584e-29, 4.4505309990154906e-29, 6.523285416419303e-29, 2.880414806294474e-29, 3.76026940137422e-28, 1.27442741604286e-29, 8.278985422287689e-29, 8.653948033352532e-31, 1.950691433089228e-27, 5.175212575881607e-27, 6.850516261224938e-30, 3.9132528177970144e-29, 4.7663151995672823e-29, 2.646535252910237e-30, 1.7409733825486292e-28, 2.59351714749606e-29, 2.463550655255587e-30, 3.174794702926832e-30, 1.4672647440353681e-30, 4.55975831025209e-29, 1.7173723147863788e-28, 2.2438341725106226e-29, 2.5795935767778018e-30, 1.5203986121332142e-29, 1.1448548517076525e-28, 2.0601176086296475e-30, 8.58301368627363e-28, 7.437754118443758e-30, 1.7284674286771236e-27, 1.8938851784516165e-29, 3.0249556078794927e-28, 3.405381931733285e-30, 5.8584588382834975e-31, 1.4448758272397761e-29, 1.485524895850533e-28, 1.7574817318081874e-28, 9.548120894418514e-29, 7.110324210722776e-30, 1.4720926780093366e-29, 3.2541797898604615e-28, 1.2117051439688595e-29, 1.9488969599006075e-29, 5.464857513560378e-29, 1.9343945569560947e-29, 1.3088711120417279e-30, 7.605426632645049e-30, 1.3186838567637481e-30], [0.999984622001648, 1.0308948410269513e-20, 1.5405295926029794e-05, 5.835858462059293e-14, 8.50834338477349e-17, 2.4394405944114e-16, 1.5164581732437469e-16, 7.779188174670529e-16, 1.839719132243345e-12, 7.4902743022616e-18, 7.704500515150789e-16, 3.1261769239114583e-18, 1.1443819575637912e-15, 1.7077612314195766e-14, 5.836128021824427e-13, 2.3553847504950275e-16, 2.487326543293238e-16, 8.64973848505722e-20, 1.7906805900547943e-15, 7.771177364807036e-13, 4.039241780406846e-15, 4.189233951190164e-15, 2.2753716889567814e-15, 7.16124253410332e-18, 1.2345618496888123e-15, 1.6029205171726077e-17, 1.1408115019328775e-16, 1.4758576034456378e-13, 8.557822419458239e-13, 9.406679926502902e-16, 2.4819420607266607e-13, 3.315357428694543e-13, 1.2699721679278967e-14, 5.4217004001861464e-17, 1.0325303979874523e-12, 1.4194867974174204e-16, 3.9648141811777365e-14, 6.105937288983579e-14, 3.741831241094671e-17, 8.974680807544155e-13, 5.13394874962508e-16, 5.5909930107660415e-15, 5.337749111899201e-16, 1.7519640904643395e-15, 6.729553416762472e-16, 6.709818925519986e-15, 1.2691265573183674e-11, 2.677537426598966e-15, 9.948599324178468e-15, 8.056057177689008e-14, 8.27222455980622e-15, 6.15067934802674e-15, 8.628762750162184e-16, 6.455006745151304e-16, 1.8386218078364405e-15, 4.459839166739521e-16, 1.032562279460554e-15, 8.049490681820361e-16, 7.073149684838219e-16, 2.0545754253075457e-16, 2.4479982741566287e-16, 4.3344306449426013e-16, 9.964812170063625e-16, 1.0155190236497318e-15, 9.759037162231218e-16, 5.774345891814325e-16, 3.0039761423555705e-16, 1.7397365345960133e-15, 1.108919123281977e-15, 9.229877680631327e-16, 1.3122248977242402e-16, 9.808939049527521e-16, 6.807087106984987e-16, 4.85931578653241e-16, 6.638452376307312e-16, 1.4093646213488335e-16, 3.0492924050336755e-16, 2.0922072462694821e-16, 4.925346239935619e-15, 5.008083571190472e-15, 2.131186511362043e-16, 2.860941129624085e-16, 7.769016367765189e-16, 5.0420076245398106e-17, 2.2436702103563683e-15, 1.1344365202136048e-16, 3.5037073170876825e-16, 5.987535084913168e-16, 1.0599635967808836e-16, 1.5072312845306282e-15, 3.025227669606589e-16, 2.1788153063350503e-16, 8.380173403219624e-17, 1.004235049249757e-16, 4.5995318404007e-16, 2.882608629461544e-17, 6.051788674951274e-15, 6.216937547413642e-16, 3.7664954773250665e-15, 3.726207519859218e-16, 9.764511112652849e-16, 7.050032567520873e-17, 1.3624642747104649e-16, 8.511395350361566e-17, 2.167012881596907e-15, 6.750817120112107e-16, 6.019253292414289e-16, 8.351646921742875e-16, 4.977113187902657e-16, 3.3550789752285625e-16, 2.111668595856258e-15, 2.640493128865069e-16, 4.8700424000182015e-16, 4.0475998780138776e-16, 2.1119816274698278e-16, 2.0907949511788336e-16, 9.265150117788467e-17], [1.0, 1.0062754672070824e-23, 7.691157905754671e-19, 1.4819942337910504e-19, 2.7070935393255536e-24, 8.699647425926738e-26, 6.192499601535857e-20, 2.0978464849550892e-19, 1.6649881798716466e-17, 1.14425045569873e-16, 5.3917425627924965e-21, 1.3527874911992738e-20, 1.4896702268912376e-17, 1.2958824475263464e-18, 2.7935704964565655e-12, 2.344922834805253e-16, 7.343224070042692e-23, 1.9965236776950483e-20, 1.1637492562496308e-20, 1.7517468788325425e-19, 1.8708310309899442e-19, 3.136200367702131e-17, 6.373661849207773e-20, 9.086958187000494e-23, 1.0584151270818935e-18, 1.1149274085978745e-19, 1.1463797356608851e-21, 1.4740706010961564e-14, 2.8429877120960197e-18, 1.3423220731750868e-19, 2.513987500878108e-17, 3.55242350715034e-18, 1.0237913525534092e-17, 1.148318642169948e-21, 1.2322828049738286e-18, 3.40254218001667e-20, 3.5363604868351725e-18, 1.5071207599659013e-17, 3.700476157669505e-20, 7.951365455213972e-18, 2.3346291841956837e-18, 3.2453309469812266e-19, 3.235883300383778e-21, 1.8274225957712073e-20, 4.7951490473049956e-21, 9.890755619365966e-20, 2.6890913795159883e-17, 8.262207599250394e-20, 3.5194826419178523e-19, 2.2731996499801988e-18, 2.1405207327566999e-19, 7.478365693175404e-19, 5.254764361410556e-20, 1.3428759222939793e-18, 1.1599648080119726e-19, 6.293041466287116e-20, 1.0412657795155483e-20, 1.8589284835866743e-20, 7.923561148940891e-20, 1.396870110928984e-19, 2.6820594654298867e-20, 6.122503319607678e-20, 5.61727432615736e-20, 2.9401763288156573e-20, 6.723331127414398e-20, 3.2911335530854216e-20, 7.97757297332505e-21, 9.805959589939051e-21, 3.3191232770626847e-20, 7.657691729134424e-20, 5.456404499121988e-20, 4.6594431207909956e-20, 1.165100177899249e-19, 3.849295966508025e-20, 5.498759377658971e-20, 4.824984498803374e-21, 4.1294865969041704e-20, 1.9422178568422e-21, 5.332895124557884e-20, 4.62086003075089e-18, 1.0870740563305833e-20, 1.057901399453884e-20, 6.600433575697899e-21, 6.1752053875023895e-21, 2.3768541178283133e-19, 1.592374862629003e-20, 8.750059499047276e-21, 4.6252821770796895e-20, 7.530171659510431e-21, 4.5438045636257895e-20, 3.25483874188767e-20, 9.719446514506234e-21, 1.2675920078535034e-20, 2.886488752769271e-20, 5.653583677639316e-20, 6.282148773933629e-21, 1.167209436762471e-18, 2.3957964892322922e-20, 7.013358357010477e-19, 1.5892252755114793e-20, 9.158626460248378e-20, 3.389973558349839e-21, 1.151459888818893e-20, 2.311205639371381e-21, 2.0309759117665953e-20, 1.8450894288212354e-19, 4.394591843996307e-20, 5.3092274192812106e-20, 2.352363206283436e-20, 3.203167095466955e-20, 1.4830679530002355e-20, 3.2084991792436545e-20, 1.0452136282359284e-20, 4.426660602369222e-20, 1.9509290622784706e-20, 1.705211022351759e-20, 9.796836369393959e-21], [1.0, 1.4618856773516277e-36, 8.86805445467075e-18, 9.892639307702145e-28, 2.5080990699653096e-30, 5.809549019797761e-29, 1.1705079978256474e-27, 7.785799522142025e-26, 1.4137058899963056e-22, 1.750984823807916e-27, 2.3337880407553203e-29, 1.169029319971861e-30, 1.3040770695824001e-22, 6.907974212037132e-26, 5.7060664005000336e-18, 2.810105244582893e-23, 7.091285490442847e-29, 5.73533614938515e-31, 2.0737602343172683e-28, 5.960961165986537e-24, 5.052827647339729e-25, 3.973739513942624e-22, 1.9658578925859645e-25, 4.790736630731039e-31, 3.270560613668752e-26, 5.61969505885182e-28, 1.4720716492617563e-27, 2.526309627892277e-19, 2.0180832159424798e-23, 9.036269165326516e-26, 4.5008230177722314e-24, 2.146320523581298e-24, 1.4249451699662238e-23, 3.0717818259529733e-29, 1.427650729368304e-21, 5.8169362852113225e-28, 2.191066094632018e-25, 7.564103230238403e-24, 2.3274324117535317e-28, 2.168171197572233e-22, 2.7809245105593854e-26, 1.497817442239726e-26, 1.3823347731364802e-27, 1.0643463866893487e-26, 2.1090716302168735e-27, 1.1186432205725243e-25, 4.674627054910172e-21, 6.029933197778467e-26, 2.779503328334823e-26, 2.8811929717403416e-23, 3.6087505222664487e-26, 2.806717057412685e-25, 1.2986235925468074e-26, 8.614676629375537e-26, 2.373330249741795e-26, 8.661760532060752e-27, 1.4829785372042112e-26, 2.4785233492276603e-27, 2.5167189696637313e-27, 1.5219494792579942e-27, 1.1070364727994384e-26, 4.6440237638501076e-27, 5.601291835268228e-27, 7.75017783003943e-27, 2.743654530573186e-26, 4.22108299990086e-27, 4.0249747981276405e-27, 6.14402967880424e-27, 1.921636969503999e-26, 7.83435868716464e-27, 4.612632261314562e-27, 6.985241596959574e-27, 8.058417525034763e-27, 4.253037259166155e-27, 6.540438369616422e-26, 7.37172075149818e-28, 8.801620794250175e-27, 2.4577336095534806e-28, 2.278904523833213e-25, 3.3812747765261924e-25, 2.633236383148198e-27, 2.1200823643019298e-27, 2.1668841952874896e-27, 4.399757106038502e-28, 4.886673141250213e-26, 3.279741983936833e-27, 1.2165787458043178e-27, 1.9256791883084766e-27, 5.032775612019588e-28, 1.0587136578995982e-26, 7.866821391935254e-27, 3.6303848785177394e-27, 6.0851538078113275e-28, 6.7468373736021865e-28, 1.3039849192887948e-26, 2.2144477315660545e-28, 2.5635807587003197e-25, 1.699911665391694e-27, 1.685224693117632e-25, 1.7005992223818403e-27, 2.921619085600717e-26, 6.823477348326646e-28, 3.452421055343587e-28, 2.726842356235251e-28, 3.660046818926027e-26, 2.965308113054362e-26, 1.001727778998311e-26, 2.063282260603078e-27, 3.7661282728580405e-27, 7.784637338976384e-27, 3.640147802591827e-27, 1.850142289959665e-27, 3.6930030239855905e-27, 1.6143323905338639e-27, 3.831962865777764e-28, 4.426323961470363e-27, 5.222728156504556e-28], [0.0013127649435773492, 3.833713728418342e-12, 0.9986318945884705, 1.6690241411154716e-09, 5.683185463567497e-06, 3.172337414980575e-08, 7.317389361105597e-08, 4.31819380600218e-12, 9.92656396192615e-07, 1.093967378165174e-13, 4.532458603989653e-07, 3.9265349327001486e-13, 2.0915035328639142e-11, 6.2143284962346e-10, 8.418020058797993e-09, 6.0526323536480575e-12, 6.255931772614076e-09, 1.5492618039153472e-12, 3.6550745069474644e-11, 5.6733674682618584e-06, 6.276138497796069e-10, 2.7139785174767894e-07, 8.878718593674506e-11, 2.2904859432737457e-12, 5.461333208583996e-12, 4.098000605523566e-09, 2.039764745997985e-10, 3.5481952931348815e-09, 3.5259898140793666e-05, 6.720473955112993e-09, 4.294563638040927e-08, 3.0365896463990794e-08, 4.5221457134481113e-10, 2.0923504595593556e-10, 5.4699551554904247e-08, 9.936901128326792e-12, 4.6919982565896134e-08, 1.310945805244046e-07, 3.856531760604298e-11, 3.4706189921962505e-07, 3.955833577373724e-11, 1.2300910290363731e-09, 1.5578157652740288e-09, 3.2710394393120623e-09, 2.061618431525858e-09, 3.320139185802873e-08, 5.808455625810893e-06, 9.254907951117275e-10, 2.235332630107223e-08, 1.3063329618034913e-07, 8.167151399618433e-09, 1.1495560947594186e-08, 2.698701484504795e-09, 2.3927466674678044e-09, 9.862741734423253e-10, 7.625566844637888e-10, 1.604062660476302e-09, 5.293245664006463e-08, 3.809207171912021e-09, 6.658893436650715e-10, 6.816560649269832e-09, 2.886240413335628e-10, 1.3981386048911304e-09, 2.7939435209844987e-09, 5.151793214253075e-09, 1.8434523352262033e-10, 6.728461121596752e-10, 1.8744668039971657e-09, 1.4360581612749002e-09, 5.392247759417046e-10, 1.6876701425250218e-10, 7.489565634344331e-10, 1.1979277569906799e-09, 3.405015158719493e-10, 3.4476259624938166e-09, 1.3907280882463624e-10, 7.779345917446889e-11, 4.991039248558593e-10, 6.112368566846271e-08, 1.396757820515404e-09, 3.6195213493073197e-10, 2.2627154316889886e-10, 7.320941630695188e-10, 8.54069800992896e-11, 3.6354921295611575e-09, 3.703511664010506e-10, 3.512190815957439e-10, 2.6082969117879884e-10, 8.441119470070646e-10, 5.017478654778529e-10, 3.396200543015482e-10, 2.2330379212398555e-10, 2.0197495065321647e-10, 1.64399310137453e-11, 9.759217045601787e-11, 8.25511325963646e-11, 1.397720783558043e-08, 1.3824323907840608e-09, 2.7167414984319294e-09, 7.117930134192818e-10, 8.283302377343205e-10, 5.2908958464437106e-11, 1.4221830657579204e-10, 1.2856099518288033e-10, 3.1550297929783255e-09, 4.1206973944163394e-10, 1.3520682351497726e-09, 2.758866024521467e-09, 5.509582234886068e-10, 5.312548734259792e-10, 9.983226467724649e-10, 5.197220431796268e-10, 1.1429855950595424e-09, 2.5181007279329037e-10, 3.4649419444754415e-10, 6.345482472802644e-10, 4.4777462293588144e-10], [1.0, 7.169068724083294e-12, 1.3585663705129036e-09, 3.230325787271938e-18, 4.250204203296696e-17, 5.7342012946748e-15, 2.0559534833926407e-18, 3.3947738825763907e-14, 4.992915414447907e-09, 2.018408193132839e-14, 1.5866480878135665e-16, 5.982174001631759e-15, 3.1945938407627883e-13, 2.706281277905804e-14, 1.0237177858890556e-12, 8.665514662710601e-15, 6.966171011786777e-17, 8.027045896904898e-16, 1.9184059722732183e-12, 6.363577742009296e-13, 6.167108924232112e-13, 4.494831834208138e-14, 4.105665731436031e-13, 7.331770284156434e-17, 3.1106919704955677e-16, 1.049238505307419e-16, 2.1964048825149837e-14, 4.833669407658739e-14, 9.13607365216236e-15, 1.5447758081594382e-16, 5.393163129627232e-13, 3.1730618566677693e-12, 5.2488903794136593e-14, 1.1272333520301542e-15, 1.0943070722583409e-13, 7.595332791326286e-16, 2.418216892192699e-14, 1.4068953826647333e-14, 6.1989204154717144e-15, 2.1065577938701036e-13, 2.7238118444766757e-13, 6.221577940335177e-12, 7.356870104432978e-14, 4.8657180850642315e-15, 6.0252269922748e-16, 8.350218506556449e-15, 1.6374853946746204e-12, 9.453487390684648e-15, 3.825833692818609e-14, 3.353753635481488e-13, 2.009787600015453e-14, 1.6312802549197335e-14, 6.3297975937343445e-15, 5.328211203275762e-15, 6.477507010724812e-15, 9.308060303970557e-15, 5.499297459061027e-15, 2.718975231290712e-16, 1.3425707265623523e-15, 1.1730189980159803e-14, 9.261838563071837e-15, 2.9538090808072176e-15, 5.88078542839484e-15, 7.766828799299786e-15, 6.070726214069512e-15, 1.2004974244512676e-14, 1.8460788741458305e-15, 2.2033563125065103e-15, 1.4762363372873436e-15, 2.428504657908518e-15, 1.3524039320470275e-15, 6.834333192282842e-15, 2.829068444489208e-15, 1.4614775293352662e-15, 2.635966108338909e-15, 4.201188974207711e-15, 4.260923008197505e-15, 3.716173673445162e-15, 9.691745900286021e-15, 2.9221105244704726e-14, 3.7977008063766254e-16, 3.829080200698845e-15, 2.4936268802340338e-15, 1.1653559756454653e-15, 2.2422158547859327e-15, 7.450869733985289e-16, 2.632800322698546e-15, 1.87186996859854e-15, 5.400525370598177e-16, 7.26074863617197e-15, 1.0524585963476128e-14, 2.4992075568070187e-15, 1.4375959647830233e-15, 2.0496371967552735e-15, 6.798994554206919e-15, 2.624616555059971e-16, 8.70314833655711e-15, 9.726816028917664e-16, 4.302723067704968e-14, 1.9008471774823463e-15, 1.0942543359870448e-14, 8.143692921653656e-16, 2.0380037550901073e-16, 6.044933743188264e-16, 6.2196934749866525e-15, 2.8720964476603057e-15, 1.171560491984103e-15, 5.149564754919778e-15, 5.334455106646447e-15, 1.3513621874010231e-15, 2.2815952635367323e-15, 2.3970915940266452e-15, 6.192515575841051e-15, 9.770032073403052e-15, 2.1754602617705352e-16, 1.0706969732953635e-15, 8.535103140810724e-16], [1.0, 5.559561474377202e-22, 1.0069122456397156e-13, 9.102594072734648e-18, 8.67454170575095e-23, 1.661244194983109e-18, 6.312467932219895e-20, 3.6315132068231277e-16, 3.9908630870486017e-13, 5.01711873184531e-19, 9.605039519413194e-21, 9.6047412416386e-22, 2.8475055988938557e-16, 2.341508233236634e-16, 3.4081350014622037e-16, 7.010904939313645e-17, 3.005059277465066e-20, 1.629699224398312e-23, 2.294798369749724e-18, 9.53533957250962e-15, 8.295953976065313e-16, 3.143004689246543e-16, 2.822600712662211e-15, 1.2811745720055655e-20, 1.1037229731972658e-17, 3.483628336708028e-21, 6.507738003732845e-18, 3.841994403825863e-14, 3.3117406254721636e-18, 2.4198453309008966e-18, 1.108348328954646e-15, 1.0517396347819834e-15, 1.0105802921716472e-15, 2.1156464100732073e-20, 2.5732738117808292e-15, 5.060095934546268e-19, 8.693479640752659e-18, 6.426178512322999e-19, 6.880883313958578e-19, 8.823083754965345e-16, 1.0299300584025122e-16, 9.709609481036479e-17, 7.923690473459785e-18, 5.145413721069248e-18, 3.437903246474517e-18, 2.1969096506240762e-16, 3.630116396553546e-15, 4.211082613507939e-18, 8.572324977973854e-18, 9.43258404691451e-17, 1.842768980407871e-18, 1.1980616812880198e-17, 2.921252026138184e-18, 8.37505646395037e-18, 4.752851586734751e-18, 2.0712724547468165e-18, 5.799727647669107e-18, 6.577617187905559e-19, 6.172761908897605e-19, 1.1440049526288272e-18, 8.422956011681479e-18, 6.314518435410232e-19, 3.8683900092321336e-19, 1.899351939337316e-17, 6.55687749520217e-18, 3.229795978089598e-18, 8.127945458334468e-19, 2.6531117112069224e-18, 7.708723086062234e-19, 1.455255646339668e-18, 1.1379203154404637e-18, 2.670423981042198e-18, 1.6952310817989582e-18, 1.5549017520357153e-18, 3.3465882971129506e-18, 1.1225457161900938e-18, 1.916768764802018e-18, 4.336640668880093e-19, 3.0736406979747454e-17, 1.2182196592256308e-17, 4.831454424442603e-19, 3.915290684674796e-18, 2.596015983015756e-18, 2.143552220454736e-19, 2.0257241679068903e-18, 2.607726689140399e-19, 3.6236753458507973e-19, 4.493920273563043e-19, 3.1078762766417586e-19, 2.4123246047715645e-18, 7.929223484577152e-18, 8.484837186511418e-19, 2.836118752590591e-19, 6.056372943820448e-19, 1.3432089658881085e-18, 1.4484537401626444e-19, 1.1731782686650771e-17, 9.175941418420644e-19, 1.535714904816757e-17, 1.6906264775216052e-18, 3.8077787117388285e-18, 2.4741124632886497e-19, 7.347522263881766e-20, 7.892855041380187e-19, 3.9304495965804425e-18, 3.531103340452092e-18, 2.5556125527907564e-18, 1.4866550088018746e-18, 1.6721671149718718e-18, 2.2755072770940686e-18, 4.834957017348882e-19, 6.824471664133993e-19, 1.4222715092213863e-18, 7.359812616820656e-19, 9.680894728082435e-20, 3.4434797362728316e-19, 1.9462916163458598e-19], [1.0, 1.0117720133363909e-23, 2.007296560820873e-15, 8.429890680346817e-20, 7.027316910823976e-25, 1.1683626299339465e-19, 1.164690194391249e-21, 6.0362173440270984e-18, 4.7345123427213615e-14, 1.8614039669725813e-21, 9.920435487298996e-24, 9.106386253374278e-24, 1.3260823408594528e-14, 4.573072669390359e-19, 1.277171630342203e-15, 5.983762512662661e-18, 9.628333862503225e-21, 7.655335980003344e-25, 1.927279936253837e-21, 2.0290816526542124e-17, 1.4427037388910892e-17, 1.0652785035317777e-15, 2.168748584454729e-16, 1.7020434492055963e-23, 8.421951685170869e-20, 5.032464559912206e-22, 6.857401595072758e-20, 1.1967788068760113e-16, 4.501418148827953e-19, 3.0024368564293313e-19, 2.167927475347872e-18, 1.5183378874190338e-18, 1.006183555900687e-15, 3.6901678736694442e-22, 4.0538120705886e-16, 4.310428882387807e-21, 4.909354675617667e-19, 2.019803803618301e-20, 1.4700342037975567e-20, 3.720155469451086e-17, 9.641796097725555e-19, 5.302146042379418e-19, 2.6679687021889873e-19, 2.359671250060114e-19, 1.9186186766938104e-19, 2.542902509088573e-18, 2.1907501329107614e-16, 1.7998538938010367e-19, 5.902008633808865e-20, 8.73319919940623e-18, 4.852545203617232e-20, 1.8742453482152275e-19, 8.168941046480479e-20, 3.6352222702141547e-19, 1.874130964646148e-19, 3.328963172060371e-20, 1.0710874306686293e-18, 2.5253242489875734e-21, 1.072108307253839e-20, 1.5384977782118113e-20, 8.950700396116396e-20, 3.029795208954669e-20, 6.78211038787196e-21, 1.2466320104573626e-19, 1.2986232846366467e-19, 4.9037932430914403e-20, 1.0404597630944493e-20, 1.1064703915633148e-19, 1.7305452057570428e-20, 8.016284864433818e-21, 1.2289485368598554e-20, 3.27683980747702e-20, 1.914596446341786e-20, 3.048286249936924e-20, 1.930431074335009e-19, 2.0269666707351273e-20, 9.418547288227853e-20, 1.4051525678126945e-21, 1.1049567544399193e-18, 8.3756917386608115e-19, 6.0549115967902284e-21, 4.763138288510187e-20, 9.056726856069795e-20, 5.1013149260811536e-21, 3.618327752437613e-20, 1.227697426183369e-20, 3.8220930334649674e-21, 2.115257942146863e-21, 2.7437661697740623e-21, 1.5406943304790518e-20, 1.4677264022002764e-19, 8.971821451393915e-21, 1.347708044860637e-21, 1.2033363916881854e-20, 4.2378453184440564e-20, 5.4566722019100744e-21, 1.6597104987298592e-19, 3.1909818930166752e-21, 7.609734899145896e-19, 1.7798004185015944e-20, 6.652889589672119e-20, 5.686262077817206e-21, 1.3820700685855953e-21, 1.6499942930831436e-20, 3.2201969994453175e-20, 7.939870177940111e-20, 5.0708756488914825e-20, 7.093207846374325e-21, 3.880315239478763e-20, 1.6096839077523592e-19, 3.2913201533993862e-21, 1.625120067334879e-20, 3.6116812269687784e-20, 1.8742373025913007e-20, 1.738968513566054e-21, 5.696705233050688e-21, 1.454537431424741e-21], [7.617223309352994e-05, 2.7282584524890297e-10, 0.999907374382019, 2.744612288552162e-07, 2.7707376393237837e-09, 1.033946546158404e-06, 1.659836573741913e-10, 1.7486260217580707e-09, 1.2733688890875783e-05, 4.626769453675017e-12, 1.7697006082784128e-09, 6.580523626009693e-11, 7.914877087067396e-10, 1.6010959669188196e-08, 8.84976480985955e-10, 9.881639777276074e-12, 5.0417252595025275e-09, 8.591214545328185e-12, 2.8495650283844043e-10, 5.745571911575098e-07, 1.0536758132673185e-08, 1.241057656642397e-08, 4.191610614157071e-08, 2.214693706203974e-10, 8.72921179784214e-10, 1.3626776096398174e-10, 6.917981743015389e-09, 4.4716713665238217e-10, 5.032005390148697e-08, 7.283159630944169e-10, 1.4343710574848956e-07, 1.549023131985905e-08, 1.1142777367467716e-08, 1.7170037613922773e-09, 1.0687577400858572e-07, 9.454366178829332e-10, 1.6315456718984933e-07, 6.668406271614913e-09, 1.1887260065179817e-09, 1.0236529135454475e-07, 1.6323004059515256e-09, 4.5031129047856666e-08, 2.7306198191467956e-08, 3.0261663397368466e-08, 2.0767952690903257e-08, 6.576919986400753e-08, 6.274534598560422e-07, 1.2808829552568568e-08, 5.7181605228606713e-08, 8.325700662226154e-08, 1.6454235307605813e-08, 6.108347161415395e-09, 2.8951419039913162e-09, 9.078883755897493e-10, 1.4132695902446812e-08, 2.9191289385721575e-09, 3.907763357346994e-08, 3.696838613009845e-09, 2.9043560889618902e-09, 1.092402057700781e-09, 2.1940842476197986e-09, 1.3103075291454047e-09, 2.5371025280662707e-09, 8.522597738647164e-09, 4.784538987223641e-09, 2.333555570999124e-09, 6.53447462806156e-10, 5.758259202792715e-09, 1.3344166882589548e-09, 1.002735117161535e-09, 3.993095576415584e-10, 5.242594358634278e-09, 1.1580197911698065e-09, 1.6192239771228856e-09, 1.1080673045782419e-09, 1.0892062807243974e-09, 1.128874993483464e-09, 2.0298116520933718e-09, 2.5728974506478153e-08, 2.936249909879507e-09, 5.593658314317906e-10, 1.0134391104088536e-09, 4.545827714252937e-09, 8.334001266874225e-10, 2.2471096094989207e-09, 3.2894961754514895e-10, 1.615176992153522e-09, 1.9269918993813917e-09, 1.9059007705379827e-09, 1.309100938762242e-09, 1.2821215200631286e-09, 6.245546857464035e-10, 3.4189107100957017e-10, 6.424412113403832e-10, 9.852986204705871e-10, 3.648293611657749e-10, 4.754899585179828e-09, 9.654674837378252e-10, 9.500720210553482e-09, 2.8518827299706118e-09, 9.769207665044632e-10, 5.552700521604947e-10, 9.831211400523898e-10, 9.217441809816762e-10, 6.144442288302798e-09, 1.3134276999338113e-09, 1.6802937929938366e-09, 3.784846214216486e-09, 2.6581761236599277e-09, 1.6505463662497277e-09, 2.3061268450419448e-09, 1.1546320566324653e-09, 1.636724200615447e-09, 2.01277128297761e-09, 6.885502723541492e-10, 6.481916114964292e-10, 4.0271552759207907e-10], [0.9999997615814209, 2.1992425935923876e-10, 1.2391585153814777e-13, 1.9760932473689152e-11, 1.4510433327986905e-13, 6.161884153962904e-14, 6.229555499920325e-12, 4.3242846803348556e-11, 2.1720399701052884e-08, 2.4110793361842298e-09, 4.0506837467590984e-11, 7.625965137147972e-11, 1.038027219735227e-09, 1.0839880382196299e-10, 1.5210548554023262e-07, 2.2771355634443324e-10, 1.5269175626577564e-13, 1.289560541684054e-10, 3.757782713470492e-12, 2.8542876395754035e-11, 1.367960050790984e-10, 4.3584726938661333e-08, 4.630518884995993e-11, 1.0470572976359338e-12, 1.3950542110396924e-11, 2.2657802023484663e-10, 1.6652278514439622e-11, 1.6669486901932373e-09, 4.505395015397262e-11, 8.585373731384571e-12, 7.075584562699078e-10, 7.511388733227875e-11, 2.7824534343245944e-10, 2.7606179061473446e-12, 1.507041540171894e-11, 2.7710490152488276e-11, 2.911950958139897e-10, 1.464944415774383e-10, 1.3640205631659796e-10, 1.1266662602871236e-10, 6.510171846052515e-10, 3.180044283457306e-10, 2.1364625346631527e-11, 1.9176675872256688e-11, 1.0728372183688162e-11, 4.685164409212739e-11, 1.4096135370067486e-10, 3.122046371428766e-11, 1.4481092713847232e-10, 1.2405201865739457e-10, 5.257905222322279e-11, 6.69012623077947e-11, 2.45634814571849e-11, 7.149162511987939e-11, 6.66101965252075e-11, 5.3387190501741344e-11, 1.9340725201932862e-11, 1.3925739034137408e-11, 1.5014182605521675e-11, 5.6047774060763444e-11, 4.653095270201746e-11, 3.2422748513782906e-11, 2.433911232280206e-11, 3.435948053853721e-11, 4.4777750951574546e-11, 1.0707724637515348e-11, 4.806680661134655e-12, 9.638354350749445e-12, 3.0468908646108517e-12, 1.049136992559152e-11, 9.282029138357739e-12, 1.8945381721757748e-11, 3.0801871470087505e-11, 1.5353473700741027e-11, 1.506167933429392e-11, 1.3895465507396398e-11, 8.718378449734665e-12, 3.1700304273935e-12, 1.0659959026604326e-11, 2.414584920895635e-10, 5.748159326995905e-12, 1.4826445626781037e-11, 6.518949442757549e-12, 5.299686904602918e-12, 2.3509917970732097e-11, 1.2897368936726217e-11, 6.138744894357284e-12, 1.5592964419663957e-11, 1.1052217301077416e-11, 1.0011144691013385e-11, 5.2472453465624014e-11, 3.493837597706717e-12, 7.675122690176117e-12, 1.801382307209387e-11, 2.209188387780614e-11, 9.775600467998302e-12, 8.649167493324228e-11, 1.3150141565942963e-11, 1.8353081554511874e-10, 1.4663189065733384e-11, 1.52190343660763e-11, 2.2203441342460994e-12, 1.7198190788159096e-11, 6.743636031536493e-12, 9.240041891345196e-12, 1.588956397013952e-11, 2.228673842696871e-11, 2.296688707270622e-11, 2.036330132293429e-11, 1.9067442069697904e-11, 4.576656761900999e-12, 1.5708129241787105e-11, 7.85488514509769e-12, 2.3806515786484184e-11, 1.0303372738329486e-11, 9.734907324698838e-12, 8.924550334854509e-12], [1.0, 7.402148193130356e-22, 3.1205645706355867e-11, 9.563083038201081e-18, 1.7029115571840896e-18, 9.908789410932226e-16, 7.61342660621972e-18, 2.8325443500673846e-16, 1.46427271349725e-12, 4.9801856344827e-18, 1.197974248297273e-18, 2.2711789511413083e-19, 5.641560894657782e-13, 7.158000680933827e-16, 8.212294559661881e-12, 2.4653558850700006e-15, 1.1714207580175857e-17, 1.8693471465192065e-19, 1.4353635035714162e-18, 6.01680367313083e-14, 1.0704238263456976e-14, 8.194801608130131e-12, 3.9332601710134404e-15, 8.184411908874635e-20, 6.423586852066294e-17, 4.2718065213018857e-17, 9.299502730104447e-16, 4.530536915677702e-13, 2.7431375449133225e-14, 3.5645899277539535e-16, 4.654427410437541e-15, 1.0448295399982828e-15, 4.1203412887548876e-14, 2.9832126103069278e-18, 4.4786087815759656e-13, 7.878329543028602e-18, 1.314750988200969e-15, 1.3684970286492672e-15, 2.06418240020341e-17, 1.2445071557488918e-13, 5.481847415677286e-16, 5.136280207812397e-16, 7.082518928026036e-16, 7.603392309819411e-16, 2.585246728369387e-16, 2.473353146641502e-15, 1.0186983635113167e-12, 1.2625184897502957e-15, 3.7702892320167e-16, 5.1992298541556764e-14, 5.858950718959637e-16, 7.396807856126784e-16, 1.8204753710211584e-16, 2.323055885178495e-16, 9.668956267081907e-16, 3.075507280657808e-16, 1.1643205837465653e-15, 8.454701714666162e-17, 2.6131662908870935e-17, 4.7416805125622227e-17, 3.6906437827775623e-16, 6.65891775110416e-17, 1.0526501952002817e-16, 3.8179350999975506e-16, 7.080330936044159e-16, 5.578887215883883e-17, 8.540668279623083e-17, 1.9700860064012974e-16, 8.157338225387229e-17, 4.547817170248375e-17, 3.2111488868998456e-17, 9.977893932189478e-17, 7.780343051154551e-17, 6.52773153816468e-17, 8.526674104194359e-16, 7.251413327241603e-17, 1.0965514496353291e-16, 1.2528020954030028e-17, 2.9163575190443687e-15, 7.889284458363459e-16, 6.078830545899503e-17, 1.209408729864063e-16, 7.789637914261687e-17, 2.3773734941951777e-17, 2.1724416481047577e-16, 7.581781322961402e-17, 2.734263712767509e-17, 2.2835434194630825e-17, 3.9494790520083474e-17, 8.751879915487883e-17, 2.5017051922706756e-16, 3.368080600096671e-17, 1.5103436210685304e-17, 2.053830234837309e-17, 1.3435741164977139e-16, 2.2483718652534503e-17, 7.674610840024553e-16, 1.9918178278031885e-17, 1.6025310673053279e-15, 5.541514203192002e-17, 1.5195563285972275e-16, 1.5874767242639976e-17, 1.5179449145895252e-17, 2.4294751194380552e-17, 2.7346927217204036e-16, 2.001606616997692e-16, 2.0346402401961197e-16, 4.985967130656078e-17, 1.0750264233865762e-16, 1.9191046814928371e-16, 3.4656485385807707e-17, 4.947487019432356e-17, 9.851947412122154e-17, 3.994068719236386e-17, 1.3305622015027852e-17, 6.817921717171553e-17, 1.706801498091712e-17], [0.00796157494187355, 3.6157544514026085e-08, 0.9915193915367126, 4.093591243758965e-09, 0.00018990611715707928, 0.00019799970323219895, 4.516801510590085e-08, 6.914417649550586e-11, 2.3601056454936042e-05, 9.16194464045672e-12, 5.914393113926053e-06, 7.397222279159621e-10, 8.74018546426214e-09, 6.412996356175427e-09, 4.071230108593227e-08, 2.8440159949294497e-11, 1.7230348703378695e-07, 5.436870509356595e-09, 6.381025707824506e-10, 6.418629254767438e-06, 8.436742149342535e-08, 1.9344040993019007e-05, 1.3515622399040694e-08, 4.140729148449651e-10, 2.0381837884109189e-10, 4.328570639700047e-07, 3.796128567046253e-08, 2.084661554491163e-09, 1.647594035603106e-05, 2.374215846145944e-08, 7.427573791574105e-07, 2.4800547393510897e-08, 1.97121696743352e-08, 9.420756441613776e-08, 2.32634675967347e-07, 5.160332161580072e-10, 1.1355666629242478e-06, 6.103709893068299e-07, 2.253464437274033e-08, 7.514940989494789e-07, 1.8019746805819636e-09, 1.9063801914853684e-07, 8.711799637239892e-07, 6.816906079620821e-07, 4.374297475351341e-07, 1.0484976883162744e-05, 2.5754292437341064e-05, 1.6745744346735592e-07, 1.4901879694662057e-06, 6.988544555497356e-06, 1.050135765012783e-07, 4.0142302282220044e-07, 1.0286916563018167e-07, 1.9805256101790292e-08, 7.463825824061132e-08, 7.954434977364144e-08, 2.890249959364155e-07, 1.6138409364430117e-06, 5.785512868783371e-08, 3.9532789486429465e-08, 1.2067437182849972e-06, 2.1920913084727545e-08, 7.365061094333214e-08, 3.625261797424173e-07, 4.0194211692323734e-07, 1.3060670767117699e-08, 2.7002350577731704e-08, 6.105768335373796e-08, 1.0317013021676757e-08, 6.487155701506708e-09, 5.432724492493435e-09, 2.6023986521295228e-08, 2.823729339240799e-08, 1.3517452934763696e-08, 8.946534535425599e-08, 9.863827976630546e-09, 1.3245235130909805e-08, 1.8235645882214158e-08, 8.256563432951225e-07, 4.24204209537038e-08, 6.7791354751989275e-09, 1.1561319013253524e-08, 3.341985888027921e-08, 5.641526357180737e-09, 4.916867624160659e-08, 2.1872551769774873e-08, 1.4488618305108503e-08, 8.684863495034278e-09, 2.9064874951245656e-08, 1.2875830179837067e-08, 1.3685978572652857e-08, 6.775812799730829e-09, 1.1643619401979777e-08, 3.623740640890105e-09, 8.891108294051264e-09, 1.1752861794889213e-08, 8.300182798848255e-07, 1.4402708359284588e-08, 3.966594519511091e-08, 2.009999633401094e-08, 2.326598469437613e-08, 4.417152865698881e-09, 1.9915715299134717e-08, 6.017860876283976e-09, 8.07989977147372e-08, 3.6218263943510465e-09, 3.0523757743594615e-08, 1.8088826436724048e-07, 1.836447971470534e-08, 3.277627058650978e-08, 1.1101649377565082e-08, 1.9853969135397165e-08, 5.7116675833412955e-08, 2.6990145229888185e-08, 1.574237273871404e-08, 3.22288187248887e-08, 4.0598543193937076e-08], [1.0, 1.0355474088551353e-17, 1.775506418321207e-14, 1.1168577174203165e-08, 1.7079365884154819e-15, 5.681436563071719e-14, 2.4160215494895e-11, 1.9252268668168426e-09, 1.6888374379520066e-11, 9.052678176307491e-14, 2.040073771264299e-15, 1.1812447255491799e-15, 3.789078772964416e-11, 1.2256821946277086e-10, 3.6460123115089615e-12, 1.4034347468883102e-11, 1.6577910309160775e-14, 9.266246628408467e-17, 7.951654607115874e-14, 8.466324863398711e-12, 1.163201999998531e-11, 2.1327752064426164e-10, 2.458384329440122e-10, 1.6170804929480087e-13, 6.888031811591588e-10, 3.193612908847232e-13, 1.0343360282855096e-12, 2.0186529781085483e-08, 2.1809934229715527e-13, 4.594141039815369e-12, 4.263278965965789e-12, 2.6124952895445475e-12, 7.218977499112711e-11, 4.959758393373835e-14, 2.4294594114238066e-11, 6.921366691586828e-13, 1.1293122686995005e-11, 1.0280906443012328e-13, 1.6140143692042197e-13, 3.00403430429641e-12, 6.568062933809404e-12, 5.534944789824248e-13, 1.2830701128299649e-12, 1.8276366531289057e-11, 5.956909271409572e-11, 1.6997545038144324e-10, 4.830384356391271e-12, 1.0721822735204611e-12, 2.003444068629512e-12, 1.198110404290742e-12, 1.3534117403180002e-13, 2.415905149544262e-12, 1.030853896168138e-12, 1.4156322815372935e-11, 1.3063690754155921e-12, 9.022464849892109e-13, 1.7627567157688095e-12, 1.8553689400818696e-12, 5.152743466282916e-13, 5.425601374425826e-13, 5.635541078935491e-12, 9.1870677460925e-14, 3.0259714005331784e-13, 1.5800826359130271e-12, 1.4622660721164138e-12, 1.5237205215016397e-13, 6.040597709533468e-13, 5.814617992823401e-13, 1.3490818434169077e-13, 4.1131903655636237e-13, 5.128270854845574e-13, 5.042297417275077e-13, 4.597715437537619e-13, 4.992029467749959e-13, 1.454671777999239e-12, 2.968972181820184e-13, 3.0536565030075957e-13, 1.2937569039087743e-13, 4.005735847190106e-12, 5.472634064668247e-12, 6.656886413630714e-13, 5.07571252823108e-13, 1.0104796773630076e-12, 1.0628643961046319e-13, 1.7040660332465207e-13, 3.0416993793483393e-13, 8.685971863639508e-14, 8.570543634598554e-14, 2.4751774523219805e-13, 1.1906786862893315e-13, 7.567421624228576e-13, 1.5236972111549313e-13, 2.850460752851225e-13, 2.607197498259023e-13, 2.284715656681452e-13, 5.150797865484391e-13, 7.610280678208015e-13, 8.463103265063388e-14, 1.1688727243053254e-12, 8.115267897783329e-13, 2.696642009084732e-13, 4.5088992218708657e-13, 6.538432989477982e-14, 9.565222962651387e-13, 4.458877115188359e-13, 1.4180285634948775e-12, 1.229821149431598e-12, 6.147824220190112e-13, 2.7580542016902854e-13, 1.0896670935359176e-12, 7.819943694323261e-14, 8.798053973725628e-14, 3.211829131648247e-13, 1.1245264973109431e-13, 1.9568877497166265e-13, 2.5232835027151623e-13, 6.184373895152043e-14], [1.0, 8.172726773556328e-24, 7.866797818109e-18, 5.2148322010441006e-14, 2.4170209743981226e-19, 4.1594843276678e-17, 3.1707640765104347e-15, 4.191322310921619e-14, 8.587332505239492e-14, 1.6431558229381058e-18, 3.7853846319609393e-20, 3.376192276980308e-20, 3.268721057714252e-11, 1.8230963291879796e-15, 8.803156500199888e-14, 2.86947911585329e-15, 1.6168983805996512e-17, 1.0626416936634384e-20, 4.032383218561717e-19, 3.344076149592627e-17, 2.882875788947064e-15, 2.0379739562592647e-11, 1.7652590814879604e-13, 2.3042282287328286e-18, 7.659698613229904e-15, 2.4681211300054307e-16, 9.505042421596195e-17, 3.094706565662242e-13, 9.162939049089984e-17, 6.815532554864704e-16, 6.263353364736402e-17, 1.4511818438613902e-17, 4.0465257555334644e-13, 1.4900047800899847e-18, 1.298066980238901e-14, 3.610350220984877e-17, 4.506358427960964e-15, 2.3632407825574642e-17, 2.804459583037739e-17, 8.795628770166873e-16, 8.885434909003918e-16, 7.376206426662783e-17, 2.0065911411944876e-16, 1.5017562753178132e-15, 3.5158484332437415e-14, 1.8037246433326264e-14, 3.452246253893721e-15, 3.919583288832803e-16, 7.263095764468812e-17, 4.566263562606103e-16, 1.4331866950714216e-17, 4.492384819550991e-16, 2.2616462612003543e-16, 9.775657007447531e-16, 3.3655649784177747e-16, 1.143691943349134e-16, 9.417884054812708e-16, 3.423861690140307e-17, 3.3980854187641744e-17, 7.063305176757654e-17, 6.262162224654325e-16, 4.137676868870697e-17, 2.192320783457877e-17, 5.860579272149631e-17, 1.4727594787971015e-16, 1.5835815307594854e-17, 8.074090106795402e-17, 1.723847969980756e-16, 1.2605585680069125e-17, 1.1221823357469992e-17, 4.0109858862520754e-17, 2.6715970058688593e-17, 4.497269155631994e-17, 6.880758988712512e-17, 3.8399613976975106e-16, 7.629624787846979e-17, 8.294019564572021e-17, 5.030267284669723e-18, 1.1705018066791536e-15, 1.4680038123147422e-15, 9.55098403281739e-17, 3.950413435228287e-17, 1.096112315991737e-16, 1.1606078530502925e-17, 1.695523055875674e-17, 8.031207740351673e-17, 4.878348947729459e-18, 1.954171183764675e-18, 6.4576365012111204e-18, 4.173771391207816e-18, 9.396168247627476e-17, 7.310234306036371e-18, 2.202807944699947e-17, 1.6372002052457852e-17, 4.40072162715154e-17, 5.5185414123479345e-17, 2.1181055433295784e-16, 1.7098504651500673e-18, 1.2677735350946206e-16, 6.34693367906223e-17, 2.2614638182444496e-17, 4.8296902136321497e-17, 3.1671568990234073e-18, 1.3175368530947087e-16, 3.388622803428813e-17, 9.001493245854334e-17, 2.6843374070995235e-16, 2.5595358704360955e-17, 3.640860612442773e-17, 2.567056695827101e-16, 7.139830963947385e-18, 1.0003614617028447e-17, 1.3627755924058053e-17, 8.462957638923931e-18, 1.7699721234195293e-17, 2.946344880892225e-17, 4.5048388508535896e-18], [0.00010652525088516995, 5.914403899964782e-08, 4.1081048607338744e-07, 0.999555230140686, 2.2921973652501038e-08, 1.4196924666975974e-06, 7.780348596497788e-07, 3.957809894927777e-06, 2.921378552400711e-07, 2.668912424397263e-09, 4.878527359863938e-09, 1.029084089054777e-07, 2.5624506179156015e-06, 2.398484866716899e-06, 3.118455893513783e-08, 2.9457318806436206e-09, 1.1974138658388256e-07, 6.729202972621806e-09, 6.900037874402187e-09, 2.7154518988936616e-07, 4.0994748928824265e-07, 6.008548371028155e-05, 5.719146429328248e-06, 1.5341915968747344e-06, 9.174868864647578e-06, 2.790938651742181e-06, 7.238632804273948e-08, 2.0045261805989867e-07, 2.148115640920878e-07, 1.0062160527013475e-07, 1.6067981505329954e-06, 2.231096907223673e-08, 5.806072067571222e-07, 2.8197860046930145e-07, 3.7952401044094586e-07, 1.373775035062863e-06, 3.243846003897488e-05, 2.473338724939822e-07, 1.289267004267458e-07, 4.7581099238414026e-07, 8.645648108540627e-08, 5.4613810362980075e-08, 1.0483641972314217e-06, 4.3207222915953025e-05, 0.00012371118646115065, 1.5007882211648393e-05, 5.839963819198601e-07, 1.4681064612886985e-06, 3.3088929285440827e-06, 4.868953169534507e-07, 1.7615639080759138e-07, 5.693962634722993e-07, 2.7571516625357617e-07, 1.1839235867228126e-06, 2.020208512476529e-06, 3.724247790160007e-07, 1.8438025790601387e-06, 1.3527784403777332e-06, 3.872737579513341e-07, 3.711009242124419e-07, 8.130340347634046e-07, 1.7483687031472073e-07, 1.9688243924065318e-07, 1.662528461565671e-07, 2.887040579935274e-07, 1.0992573606927181e-07, 2.0251648891189689e-07, 3.284932574842969e-07, 6.84023646613241e-08, 8.358403391639513e-08, 7.019403369667998e-08, 2.2063755977796973e-07, 1.0690234830690315e-07, 1.851032180866241e-07, 2.5956086346923257e-07, 9.400383760294062e-08, 2.031100905242056e-07, 1.49173558838811e-07, 6.679383659502491e-07, 7.782085162943986e-07, 1.585136146786681e-07, 5.763386212720434e-08, 2.640983041146683e-07, 1.1266452304425911e-07, 7.182369898828256e-08, 8.873797696651309e-08, 2.0244523568635486e-07, 9.620389818110198e-08, 3.282264344761643e-07, 3.5475377302418565e-08, 6.438762767402295e-08, 3.3412401734267405e-08, 6.240330208129308e-08, 5.19868805781698e-08, 8.226856351711831e-08, 6.861377954692216e-08, 2.920771180470183e-07, 3.804275650054478e-08, 5.512391680895234e-07, 1.4768585288038594e-07, 3.4626037148655087e-08, 2.193468588984615e-07, 8.265091366865818e-08, 4.785902660842112e-07, 2.2175981939653866e-07, 1.3400045872913324e-07, 3.8478805208796985e-07, 1.321057681025195e-07, 1.5255871232966456e-07, 3.428509387504164e-08, 1.3663724018897483e-07, 8.076757040953453e-08, 8.5182847442411e-08, 2.9376201027275783e-08, 1.3825565758907032e-07, 1.0985741027980112e-07, 5.097990296576427e-08], [1.0, 4.3737745643364e-18, 1.7056669218445064e-27, 4.8195614166246514e-12, 1.8078083986134704e-19, 3.920051735947846e-21, 6.98319643755406e-14, 1.8205041966111446e-15, 3.523487488552316e-18, 2.2152703391294104e-14, 6.686120536805671e-19, 2.5256954152681836e-17, 6.257485120477824e-15, 1.8055161074281574e-16, 2.7914649758375987e-13, 9.496094841997434e-16, 3.2842983270393487e-20, 6.911963550140462e-16, 1.0994702722320082e-17, 3.197444737537496e-18, 9.718571486665124e-18, 3.978653517755504e-11, 8.769596800719788e-16, 6.156545686461187e-16, 6.151243048453138e-15, 3.720986192778941e-13, 1.8183220709941726e-18, 9.786412674163414e-14, 1.8861822313687366e-17, 5.0752182643893246e-17, 8.857548996193531e-16, 1.0411640479324317e-17, 1.781019649895767e-16, 6.017001111216879e-17, 9.416576530418445e-19, 6.155186833855554e-15, 1.3490194001480361e-14, 1.3524909911521375e-16, 1.2932910643751464e-16, 4.6703586840421855e-17, 1.864287753171193e-15, 5.204576987201491e-18, 6.043293543295245e-17, 8.376311462375736e-16, 1.503852448928207e-14, 1.3994650825964764e-15, 2.824083946762192e-17, 5.252330074333341e-16, 1.2385762564632056e-15, 9.696839135867641e-17, 6.445580591937344e-17, 3.4801836239556545e-16, 1.2231142523462296e-16, 7.104928878711543e-15, 9.45510480009743e-16, 1.6396698356826235e-16, 1.587488801100941e-17, 5.804226567215497e-16, 1.8301182455556075e-17, 1.297175266303679e-15, 5.292474671472866e-16, 6.013880324201839e-17, 3.663919099198301e-17, 3.0215703401590224e-17, 1.1400939062078755e-16, 4.089906030442902e-18, 6.689775558419328e-17, 3.318989085102874e-17, 5.640728644685389e-18, 2.9559927846847984e-17, 1.6672443977104462e-17, 1.0571607283624722e-17, 4.9372117818632225e-17, 1.6476696648227464e-17, 4.3442450436488695e-17, 7.959199351923217e-17, 3.4156954322609384e-17, 4.2035571724491154e-17, 1.5041341416462173e-17, 4.732632268391636e-15, 6.977181116612103e-17, 3.4119837074162904e-17, 6.334063162321211e-18, 1.3874663546640844e-17, 1.7045178178565757e-17, 5.747510961603023e-17, 2.9177009397684937e-17, 5.905260260117296e-17, 6.62157708117423e-18, 9.050449434099918e-18, 1.8812241107770937e-17, 4.589047491572713e-18, 7.298814085063342e-17, 1.0195904330944974e-16, 3.23953342418348e-17, 7.103918421345028e-17, 5.767496968691284e-17, 2.228204374738795e-17, 1.0330548291193824e-15, 1.9169306854069253e-17, 8.553477667716834e-18, 4.376664237088293e-17, 2.1787479076587395e-17, 1.8531688575517042e-16, 5.609079473678191e-18, 2.8419156446631203e-17, 9.0187475716877e-17, 4.599565258497447e-17, 2.8270806566853493e-17, 3.069153408587768e-17, 1.6468904606857214e-17, 1.85058931135507e-17, 6.414401424954199e-18, 1.1201123989821465e-17, 5.777339756236175e-17, 3.27665729007486e-17, 3.968674936175498e-17], [1.0, 9.471383516750082e-24, 9.90637007307663e-16, 8.27582100071389e-12, 1.290661235655785e-13, 3.65312265843392e-14, 6.496806998629312e-12, 4.578655163345324e-13, 1.5438171574455595e-14, 1.995804308960102e-16, 1.2815731576432712e-16, 1.130556712268486e-17, 3.944387177989839e-11, 1.7769032772951832e-13, 3.726004227377899e-11, 4.79364811734051e-14, 2.0442093302199292e-16, 2.321948654297756e-16, 2.411580555810573e-17, 1.4927869799118663e-14, 4.2168457853146435e-14, 9.340848983185879e-09, 4.809088511529419e-14, 7.058676009352011e-16, 2.777030992315299e-13, 1.523413231500903e-12, 8.913910462624713e-14, 9.943158102432292e-11, 3.732408804767162e-13, 7.931145567770595e-14, 1.6953767626977714e-14, 4.556050462844585e-16, 4.2754994965428506e-13, 7.56569299091949e-16, 5.242629789493913e-13, 2.9529641654423315e-15, 5.239710575144496e-13, 6.197646562622339e-14, 1.9827002063402656e-15, 2.0384616303964487e-13, 3.913073681814476e-14, 1.4455973556401426e-15, 3.2131019172361094e-14, 4.658233434401415e-13, 1.5778660929915977e-12, 1.871972628991747e-12, 6.624271443878005e-13, 2.7405242788644535e-13, 3.649403844982295e-14, 1.7212747611787538e-13, 7.876838897390333e-15, 1.2338993216932936e-13, 3.2432352837412706e-14, 8.644438788917019e-14, 2.2801010211848105e-13, 3.8527009002791573e-14, 2.876193207212996e-14, 1.2323753400145937e-13, 3.7327822954749245e-15, 1.329902035935096e-14, 2.751019355894113e-13, 5.2203724741455015e-15, 1.739518698897803e-14, 8.552218076784707e-15, 4.369530927947167e-14, 4.929836573347251e-16, 2.3467954128933953e-14, 1.8033256908144696e-14, 3.3221339463824617e-15, 4.533532091941829e-15, 4.31297530038865e-15, 3.156872736175464e-15, 1.0294872322246656e-14, 4.225619521988893e-15, 1.1019519850644435e-13, 2.6382811340870498e-14, 5.233632774934768e-15, 3.862086957070977e-15, 1.8110339616850268e-13, 1.0536179811644966e-13, 1.9655389376640672e-14, 5.144283504493648e-15, 4.435613812689811e-15, 2.699155613237027e-15, 3.056701137525513e-15, 2.4765456138197035e-14, 2.0345557751294107e-15, 2.108320274615762e-15, 2.244774741319588e-15, 1.2479572522331654e-15, 5.662533837007613e-15, 1.2808601411901403e-15, 7.912465950184796e-15, 1.9892079604740204e-15, 8.207005563966481e-15, 1.9835485521885882e-14, 3.2104679835833275e-14, 6.920353411483016e-16, 4.702849912339817e-14, 9.550083027989528e-15, 2.2267875731681692e-15, 1.132323723581621e-14, 4.159567892762003e-15, 1.7973300528006247e-14, 7.897689460419945e-15, 7.0992122533505234e-15, 5.96799966758911e-14, 1.1993118324349957e-14, 4.0863723876579695e-15, 2.655749833371454e-14, 2.6581505365022096e-15, 1.913345572135557e-15, 2.6037062232680186e-15, 1.535165901735483e-15, 8.865903176273181e-15, 1.3257813900532933e-14, 2.6794790378723097e-15], [0.9990461468696594, 9.693659069887062e-12, 2.5763630118191827e-10, 3.95297902286984e-05, 3.4862416669056984e-06, 1.713187174345876e-07, 5.665019671141636e-06, 5.272688397006675e-10, 4.178842341606703e-11, 2.348354583708856e-12, 4.211950788146623e-09, 2.2809500815901274e-11, 9.941972223259654e-08, 4.172545864378208e-09, 4.850128831890288e-08, 1.0510031213384341e-11, 8.913106919195002e-10, 8.901316350673483e-10, 1.7238873523117704e-11, 3.7005227770947613e-09, 1.4873386966485214e-09, 0.0008750663255341351, 4.131224695669289e-09, 9.287595137408289e-10, 4.4483754457758096e-09, 5.228250756772468e-06, 3.212438648425575e-10, 6.248924488971852e-09, 7.651878775050136e-08, 2.8776965255161713e-09, 7.83781104018999e-07, 7.262777185212954e-12, 2.538105725591322e-09, 3.924906621932678e-09, 5.50664458476291e-10, 7.17001458205857e-10, 2.3418031958044594e-07, 3.908642742800339e-09, 4.6812731469003666e-09, 6.9689325421506965e-09, 5.463823282703117e-10, 2.4756705019335357e-10, 2.1588840937170062e-08, 4.992664912606415e-07, 3.0387739116122248e-06, 1.6649559256620705e-05, 6.33451406883978e-08, 1.465651706666904e-07, 8.280458985154837e-08, 3.124385372643701e-08, 7.5135133670301e-09, 6.480863135038817e-08, 1.2923584868929083e-08, 2.852424252353103e-08, 3.910307810883751e-08, 1.0937520222853436e-08, 1.3793973963061035e-08, 1.3233556046543526e-06, 3.441754881094994e-09, 1.856762743557283e-08, 1.0926208915407187e-06, 1.2345368061161821e-09, 5.032302574647929e-09, 1.2318888131801486e-08, 4.322128788203372e-08, 5.36882316382048e-10, 1.3508559604247239e-08, 2.8888382797020995e-09, 1.6567883176499265e-10, 1.2836317564435262e-09, 1.1044279935035206e-09, 5.243834810819692e-10, 3.2231868285492737e-09, 7.62500562689894e-10, 1.1280559597537376e-08, 2.600407222885792e-09, 2.044113989185803e-09, 3.345618670991257e-09, 1.966214924209453e-08, 1.0104869829774543e-08, 1.1958217749352684e-09, 1.1494381002563614e-09, 9.640472864447247e-10, 6.602480784323461e-10, 4.278097320842278e-10, 5.247839496291817e-09, 1.705801722096112e-09, 6.299025745448716e-10, 1.1418773704363616e-09, 3.035882933932754e-10, 4.3613104794282265e-10, 2.2641161168124313e-10, 1.7854976386288968e-09, 2.066950222090469e-10, 1.3804969389852317e-09, 3.1349312035189314e-09, 3.8157644155489834e-08, 9.115586618868576e-10, 4.965617694807634e-09, 6.208611402769293e-10, 6.067982782909098e-10, 3.4604423770900894e-09, 2.644210850277773e-09, 3.0345641555129532e-09, 1.0128231586747916e-09, 3.201507947636628e-10, 6.298704668949995e-09, 1.5193384328426873e-08, 1.0266184569118764e-09, 1.543507988088777e-09, 3.23641141664055e-10, 6.868454138775348e-10, 1.019181183892215e-09, 3.349435451216465e-10, 6.678630093404081e-09, 5.292883908936119e-09, 3.2334885879947706e-09], [0.9999998807907104, 2.0357477856225437e-11, 2.1594954990877824e-11, 1.0873983137538179e-11, 5.934629415497994e-13, 1.9513547028227052e-11, 3.887069160470047e-13, 1.752690353962194e-10, 2.0642469067411184e-08, 1.200883750079873e-11, 2.5997323258443276e-14, 3.482693734097042e-12, 1.0081931378636e-07, 1.2618997860536219e-11, 5.476390452230362e-09, 5.995653279411428e-11, 6.2670732318970135e-12, 4.670176051435604e-11, 2.368598589833071e-12, 2.3620016532943655e-13, 6.802523128124349e-11, 5.0715829758019026e-08, 3.792097302834918e-09, 1.479025777718912e-12, 9.695087614669529e-12, 7.523805883868917e-11, 5.274879057853843e-12, 2.5718215751480145e-11, 3.4327827039271064e-12, 2.2399792524302464e-12, 2.062744246245085e-11, 1.6850813279456478e-12, 6.615972769630218e-10, 2.814417102148248e-12, 1.4181184004868896e-11, 9.650661346449763e-12, 8.741028734160494e-11, 5.945183234601359e-11, 1.1904388932948429e-11, 2.01851504261219e-11, 5.165274458152069e-11, 4.212848472850972e-11, 3.577785637198794e-11, 1.4997839775654498e-11, 9.573299097898058e-11, 3.066096335158086e-11, 9.09471109533655e-11, 1.570459561006654e-11, 1.4068946528611459e-11, 6.6532244991091e-11, 1.0184229327914185e-11, 2.618502636941855e-11, 2.5952674037599266e-11, 7.0569795666830526e-12, 2.386817132826735e-11, 1.9257278063844474e-11, 2.5216401883243478e-11, 1.0450601972342155e-12, 4.14944684515306e-12, 2.2392625947942335e-11, 1.3378340102399022e-11, 1.2995898628076485e-11, 6.106898840785302e-12, 4.9784152494902756e-12, 8.00611313356292e-12, 5.10455957017375e-12, 6.5043196523228985e-12, 1.1925251584832264e-11, 6.272251381472804e-12, 1.6327509006278107e-12, 3.763306073018002e-12, 5.719398045445079e-12, 1.1892112294908941e-11, 6.611639187525942e-12, 1.53369972971662e-11, 1.0546463875826806e-11, 1.3437183657427632e-11, 2.1406752238883886e-12, 1.0936653492554793e-11, 3.8440743643786135e-11, 4.042701069739696e-12, 2.215990628842701e-12, 7.238468505144091e-12, 5.3592854980244464e-12, 4.705896262946485e-12, 9.570483294751853e-12, 3.287601744658697e-12, 1.1252542951242783e-12, 2.876393134093602e-12, 3.0794162792641133e-12, 8.422065128632639e-12, 1.7396894471874425e-12, 2.7618244063248865e-12, 7.00839516629137e-12, 8.39491323678665e-12, 4.694215068740126e-12, 1.3756152467125915e-11, 5.964485632822814e-13, 1.5783995638285475e-11, 4.759379088753457e-12, 6.0165795956468315e-12, 3.186319047152053e-12, 2.68421461273316e-12, 4.354517614546527e-12, 3.5020241914707206e-12, 4.326988854025382e-12, 5.683164876202351e-12, 3.1942296030429418e-12, 6.702180477269337e-12, 4.989899118901242e-12, 2.095042672331515e-12, 7.1546700855518175e-12, 2.8911228879685558e-12, 6.261935414642039e-12, 1.8637960098877304e-12, 7.493412140791023e-12, 1.6462819605808643e-12], [2.2084273950895295e-05, 0.9999247789382935, 4.13338341331837e-09, 8.002150053698642e-09, 6.739723801274522e-08, 5.774273947878328e-09, 6.482888011138943e-12, 1.1310370418016191e-09, 1.0940360795075321e-07, 3.42857142676678e-09, 5.908871170134944e-10, 9.441066595172742e-07, 6.068647451229481e-08, 4.062500114088152e-09, 3.6523925217579745e-08, 8.595500006203238e-11, 7.023522208271515e-09, 3.329741593915969e-05, 4.790699676959775e-07, 1.2215968514528441e-10, 2.233747631308347e-09, 1.29638635826268e-06, 2.359766853032852e-07, 7.2614957389305346e-06, 1.4993275954111596e-08, 2.569922514794598e-07, 2.8129705231805247e-09, 6.94544977086764e-11, 1.4741518006289311e-09, 5.452450990706126e-11, 2.9756728636698426e-08, 8.563315057052989e-10, 1.6642600630945026e-09, 6.370007213263307e-06, 1.0469838190863001e-10, 4.5986087826577204e-08, 4.2406347233736597e-07, 1.4798341396726755e-07, 6.094666105127544e-08, 5.191935326109842e-09, 6.3335070521475245e-09, 6.602888902307313e-08, 5.788135126749694e-07, 4.828667243828022e-08, 1.6386958634484472e-07, 1.2204731447695849e-08, 7.599062712415616e-09, 3.525035197071702e-08, 3.0796101668784104e-07, 4.9519989886448457e-08, 1.4809247161906569e-08, 1.2763520018665986e-08, 1.2786083303240048e-08, 4.37646141548953e-09, 5.480391251921901e-08, 3.1518577969791295e-08, 4.0151341806904384e-08, 2.445219360325268e-09, 7.12062764307575e-09, 7.928909440124698e-08, 1.2969932683404295e-08, 2.3124535175611527e-08, 1.7635255034065267e-08, 4.470241954379617e-09, 3.1728280003306963e-09, 1.1342803141189961e-08, 6.53960396945763e-09, 1.0678222750470923e-08, 6.479238923162711e-09, 3.260626657564103e-09, 2.2291084533776484e-09, 1.6088351983967186e-08, 2.6031756750199975e-09, 3.5619829308330964e-09, 2.1873407529682254e-09, 5.786059187329329e-09, 1.2430217743997218e-08, 2.1471594280342288e-08, 2.9692364122979598e-09, 9.422724822627515e-09, 2.0632011654697635e-09, 1.973856189607659e-09, 1.8260968293049018e-09, 6.200080893137283e-09, 2.792911679705412e-09, 2.6289725951755827e-09, 1.2087761902535021e-08, 5.072379849480058e-09, 1.2360992229787371e-08, 5.010121206794338e-09, 6.289312404206271e-10, 1.339313282500143e-08, 3.0218625379774267e-09, 5.360240251661708e-09, 2.2017858647416233e-09, 1.873367017068972e-09, 4.892447336146688e-09, 1.054210274631373e-09, 9.891444996412702e-09, 1.7598283941211434e-09, 5.073028219726439e-09, 3.4369718182603037e-09, 7.414512559478226e-09, 1.1348406658839849e-08, 9.153204416634253e-09, 4.987524171440327e-09, 3.353559430152586e-09, 3.934769843283448e-09, 5.670349523256846e-09, 7.111272126714141e-10, 9.525690458644931e-09, 1.7162193444164586e-08, 8.895345793291654e-09, 2.9896147779595594e-09, 1.109996761172738e-09, 3.3599616422463896e-09, 4.270036324527382e-09], [1.0, 1.7989567626351677e-13, 7.922186813242487e-31, 3.448768532285544e-24, 7.64930147017972e-23, 1.6104345163268581e-25, 4.689290123737382e-21, 7.0859134704648e-19, 1.4839912287355124e-19, 5.400731305483478e-16, 1.1060473096826267e-21, 1.295062752898337e-17, 5.57837634913757e-17, 7.131140862925844e-20, 9.734653201262135e-15, 8.771022032915217e-19, 4.507543323823809e-23, 6.89374840307129e-14, 4.3503145641115386e-17, 2.920553975467249e-23, 4.9139403419826365e-21, 3.943959891203157e-14, 2.0140813939900533e-18, 9.209541081312242e-18, 8.877116218281269e-20, 3.298870398244359e-16, 6.3092151090845156e-21, 7.228758256470817e-19, 4.810077981189926e-22, 6.041066015052769e-22, 1.4331428544989563e-17, 3.16471418297575e-20, 5.670582239227281e-20, 6.360357993223353e-18, 2.430079392101723e-23, 1.593331177767403e-17, 1.3144788325445492e-17, 1.1338434317144043e-17, 3.6633583534610514e-18, 3.663480181655644e-20, 1.3351585132944974e-17, 2.317600068623843e-19, 4.978625882040155e-19, 8.609675801545804e-20, 5.414089945639868e-19, 7.731277199439258e-20, 1.1704497423287371e-20, 9.649192126377545e-19, 1.0635679039511854e-17, 4.843245884074546e-19, 1.5870512122171427e-19, 1.3252477728622852e-18, 2.1825972133187703e-19, 6.280070498800461e-19, 2.8879013446109646e-18, 3.291273333684246e-19, 1.4782725672694154e-20, 1.0029510643477762e-19, 1.5469841343087226e-20, 1.3668782428079458e-17, 2.834236916697033e-19, 1.3521226124701916e-19, 2.3915060714160416e-19, 3.1018578268270964e-20, 5.040769828886247e-20, 7.986494245478405e-21, 2.734488822216397e-20, 3.552555261512283e-20, 8.072533953880991e-21, 1.0857851409151638e-20, 2.169066929566361e-20, 6.019218834137922e-20, 9.421601394145763e-20, 1.900987386560728e-20, 1.2734370405452135e-20, 7.504682056622867e-20, 4.668303000633263e-20, 1.0182634699558398e-19, 1.3385368615725079e-21, 3.0467313959545685e-18, 4.442223230112583e-20, 3.717666974126403e-20, 9.971399751417491e-22, 1.8808623407512543e-20, 1.4515615805086283e-20, 3.477203954470104e-20, 4.7187390460139766e-20, 1.1960923090061383e-19, 4.765480405178191e-21, 4.6155175684424424e-20, 1.5900985003573483e-20, 2.1361800378688425e-20, 5.734580815479597e-20, 2.210027297912853e-19, 5.1352118828547816e-20, 4.0359053277605736e-20, 4.434756309497158e-20, 2.6150371562977777e-20, 2.625314720312384e-18, 1.1706550834534548e-20, 4.0110714916906564e-20, 1.4593344933272125e-20, 5.767598246617534e-20, 3.1527006770481243e-20, 2.2787353672060153e-21, 3.835517593195335e-20, 3.7894155218600015e-20, 4.2048498592911403e-20, 8.439221665397328e-20, 5.633129455951312e-21, 1.0909999330659424e-20, 1.1818553674413643e-19, 1.1664337158313068e-20, 6.58105283088101e-20, 2.1693150837501268e-20, 6.748924612554672e-20, 3.0569499975011365e-20], [0.9999997615814209, 2.1014516420948294e-14, 4.197870349942345e-12, 3.484729798014334e-14, 7.82478422334254e-12, 5.81353281486896e-12, 2.3483767556432833e-13, 2.3974775615297206e-13, 3.682859139181316e-12, 8.715132023169592e-13, 4.51403042888072e-15, 2.520223884184408e-13, 3.1156113800001606e-10, 8.723763356664749e-13, 7.193888507117663e-08, 1.4082334473877745e-12, 1.1884003709491248e-13, 1.0740866529523885e-10, 6.139912796937486e-13, 4.6861406627959207e-14, 1.6723057400663821e-12, 1.5263105979101965e-07, 1.9753385125526046e-12, 2.346500543783797e-13, 2.9599643591206315e-13, 5.872526909200815e-10, 3.4219242023292296e-12, 5.721175703327086e-12, 3.3677735079840065e-12, 1.6575416982977237e-13, 4.274155682160163e-12, 1.1232073620802072e-14, 1.545990115439655e-12, 9.354091936794595e-13, 7.9117631500078e-13, 4.0562225887136316e-13, 2.136372675987097e-11, 6.724257956003399e-11, 8.353937116720167e-13, 6.1987155859644094e-12, 1.8529284009916047e-12, 1.5001607811884754e-12, 8.431306000589167e-12, 2.435474998757625e-12, 4.196245347726224e-12, 2.8471253132877905e-12, 1.5232277245091908e-11, 1.4600732081704315e-11, 3.02434509727445e-12, 4.7309167000575414e-11, 3.3545733465339955e-12, 5.637840454902898e-12, 1.9300398952648568e-12, 7.309010710034036e-13, 7.1222099398693395e-12, 2.8412448175446636e-12, 1.4986422476256922e-12, 2.39124020064152e-12, 2.2338722668532873e-13, 4.5967426913484655e-12, 4.784809267549539e-12, 1.1311330561439292e-12, 2.4913528271636176e-12, 8.634998098500102e-13, 1.5877166118297148e-12, 1.3995463045857887e-13, 4.1911957303179814e-13, 1.126862925887595e-12, 5.852558021546272e-13, 3.457072139407408e-13, 3.3571832380036026e-13, 3.4735764069780684e-13, 5.970186909946829e-13, 2.61597384379475e-13, 1.897849932763762e-12, 1.290607486333084e-12, 7.054014490581739e-13, 4.832370940031916e-13, 1.0744461960768281e-12, 5.94095128994554e-12, 4.494576098020703e-13, 5.044768856127257e-13, 1.0337849418737624e-13, 6.942943399021462e-13, 4.1690945400824075e-13, 1.638325326097645e-12, 7.558779448711694e-13, 5.478364073149833e-13, 4.1459395053351777e-13, 3.481502738010567e-13, 2.1206307380689654e-13, 2.8720274314157634e-13, 9.445438138230844e-13, 4.158627110208146e-13, 1.4947141831547772e-12, 6.713357625885708e-13, 2.042490525669405e-12, 1.2760623178779962e-13, 2.9309937723404067e-12, 4.655088163899035e-13, 5.623682942934582e-13, 2.5291371102444116e-13, 1.163549508478856e-12, 4.2670665720452583e-13, 2.5143710898067884e-13, 5.111766045173827e-13, 5.378010862165661e-13, 7.41553465768291e-13, 8.161943885511003e-13, 3.662221079777511e-13, 2.90787251049085e-13, 7.638578897010972e-13, 1.7655313517585258e-13, 5.894220116327287e-13, 4.573094290402646e-13, 1.4131681935758422e-12, 5.046269934035064e-13], [0.9999997615814209, 3.4613634625202394e-08, 4.936386890886605e-15, 2.605989771154257e-16, 1.7042284250479156e-09, 5.4678852591527605e-12, 1.4230453024722395e-13, 1.3982907772942268e-15, 3.3095631812342374e-13, 2.6047150818598458e-14, 1.447536209821243e-12, 1.712218040961222e-12, 1.9942906701042595e-11, 2.1232603687943753e-14, 6.298715438113334e-10, 1.3857642187955197e-15, 1.1424899654804976e-13, 3.120138591938826e-09, 6.0507584186131336e-12, 3.5368239759847207e-15, 1.2047550186199824e-13, 1.9001730322543153e-07, 4.481470262159698e-13, 2.1696049904568193e-12, 1.1575849565741755e-14, 1.0929823712757525e-09, 8.030941634363381e-14, 8.399544623206856e-15, 6.406505100725601e-13, 2.38315006698955e-15, 5.132149566433597e-11, 2.1857839787410094e-15, 2.898208948764851e-14, 1.8054834016734134e-10, 6.099947474321246e-16, 5.558246462915306e-14, 1.2741713933950294e-11, 1.9875693105242398e-11, 8.097056879152742e-12, 3.681368090143605e-13, 3.8070542269889873e-13, 1.5050242952938109e-12, 6.786633754973792e-11, 2.8191554993228785e-12, 2.0051686006050673e-11, 2.4086637198661442e-11, 4.6304722209344895e-12, 1.6689226389754452e-11, 8.268675327771646e-11, 3.2950548539689706e-11, 1.0695451685763246e-12, 4.6201501825715585e-12, 1.495218770845852e-12, 2.46919780629018e-13, 3.3582544297500183e-12, 3.393306902826909e-12, 1.5609144836045696e-12, 3.0459905431268197e-12, 1.0406219885360918e-13, 1.60010581173875e-11, 3.8300074917119176e-11, 5.989462398270362e-13, 2.2628715307809744e-12, 1.877371522129856e-12, 1.1487528593298602e-12, 1.356714491185934e-13, 6.194043758803169e-13, 3.411391449274076e-13, 2.753253489995791e-14, 6.948743203017901e-14, 7.530728021428248e-14, 1.4420349679980515e-13, 1.7506060891268188e-13, 4.1791958484355476e-14, 2.0393284500333508e-13, 2.680442131273997e-13, 4.4196981144328795e-13, 1.2843699628145577e-12, 7.8961854687188e-14, 1.6421264304941618e-12, 5.880843365448432e-14, 8.038665897215982e-14, 8.353403350438125e-15, 1.1001645422578296e-13, 4.4498848778950356e-14, 3.457467873200365e-13, 2.1629678842276234e-13, 8.967061441251742e-14, 7.193893511491314e-14, 7.121319728570566e-14, 2.588969416996746e-14, 2.684294843693924e-13, 2.0149620904089116e-13, 4.248839913798333e-14, 5.315263745635235e-13, 1.8133320637148814e-13, 2.014087247675933e-12, 6.13329713080625e-14, 3.104182221599222e-13, 3.9535693105831674e-14, 1.522682940022571e-13, 1.2145514628747467e-13, 5.112691953829129e-13, 1.549747472278512e-13, 1.2511852990303163e-13, 2.359793641688781e-14, 2.4375651237057427e-13, 1.1000455104118179e-12, 1.060545423182957e-13, 5.378017841717146e-14, 7.049290079615134e-14, 1.9996477347225539e-13, 4.144081724912624e-13, 1.4433419737169828e-13, 2.319309024348404e-13, 7.55604021192291e-13, 3.667995269497626e-13], [0.9999999403953552, 2.392705391457417e-12, 2.6253639887063862e-11, 2.5520777440120324e-13, 1.0340095411300564e-14, 2.6203663025493266e-15, 1.4614448973909733e-14, 1.1172468928743323e-13, 1.833778615067949e-11, 4.3923573112003567e-11, 4.3400358854710566e-14, 6.920967298611538e-14, 4.356044858155883e-09, 2.0472892478529126e-11, 1.9779450646795205e-11, 8.783583262854736e-14, 6.572613987624893e-15, 9.040660581272064e-12, 8.406339446764832e-08, 7.566453973789633e-13, 1.5438031983425887e-13, 2.030031524824505e-12, 5.197343597163062e-11, 2.6016312368315475e-11, 4.414016721576708e-11, 1.9012370074556612e-13, 3.574117862564438e-14, 2.0836841095866337e-13, 9.544842265738276e-14, 6.258511300893423e-15, 3.863774925005892e-11, 3.568091189263406e-13, 4.9270964641145304e-14, 3.441884971477904e-11, 9.896630464732627e-15, 4.0748905985599215e-12, 4.340481446485356e-11, 1.0551434725947217e-11, 1.6796007943839508e-12, 1.3558015929567013e-13, 1.1257739532255506e-12, 6.6950511974639415e-12, 4.9447279604208916e-11, 2.5788941294957457e-12, 8.046100244407661e-12, 1.748081497263132e-12, 2.751477214471554e-12, 2.161200472056146e-12, 1.485376405208072e-11, 6.458318038346511e-13, 4.986414926799743e-13, 9.624847576925055e-13, 4.213856910975644e-13, 5.162590732514516e-13, 3.2147234093476973e-12, 8.801481678893941e-13, 1.90142186392607e-13, 5.235984172277663e-13, 1.16658982821094e-12, 4.781006753690198e-12, 2.8345873825247336e-12, 8.886345977641985e-13, 1.618327759127236e-12, 2.774627316098899e-13, 2.626598754034565e-13, 2.0993939280154056e-13, 5.587353496538938e-13, 1.0180961976247183e-12, 2.0382750120975096e-13, 3.919178078858748e-13, 9.418036690149803e-14, 6.408083156987654e-13, 7.275252720140984e-14, 2.8602475748117084e-13, 6.250605772990109e-14, 3.329698712931095e-13, 2.664504901439546e-12, 1.2081339617955877e-12, 1.2937741156182625e-13, 4.893187634594232e-13, 1.683901499141549e-13, 7.354344590997444e-14, 6.610863793237234e-14, 3.048750488177099e-13, 1.0848429359694434e-13, 7.154418388017475e-14, 1.5775500480583182e-12, 8.058259463351869e-13, 1.3979084816789777e-13, 3.1865975786901646e-13, 3.5533248977752396e-14, 9.876689310156506e-13, 8.574221790468711e-14, 1.6137712368670398e-13, 2.674875837320456e-13, 6.73977272104033e-14, 3.835340790618591e-13, 8.167672403214601e-14, 6.363844997844814e-13, 1.1938235502158973e-13, 1.37783285215215e-13, 2.8089032835798555e-13, 9.604743080515385e-14, 2.0507810131065868e-13, 1.3049489874100706e-13, 3.389573777906607e-13, 1.1028076916290777e-13, 9.4035693674107e-14, 4.5228783825818075e-13, 2.86891143437204e-14, 1.4942896095840319e-12, 6.955258309397638e-13, 3.005408151079275e-13, 2.568867969905686e-13, 5.0569920158945875e-14, 1.181511892446238e-13, 2.6527440183735096e-13], [1.0, 3.590033949880905e-27, 1.0921986589759723e-36, 4.9442439678071815e-31, 9.653798784005885e-33, 5.735368377215817e-35, 3.1797929605779406e-27, 2.4307339013666187e-26, 1.0916793385344879e-26, 4.5416904063023776e-20, 2.4509444657582726e-29, 7.319405753453818e-28, 8.726792620938522e-21, 7.890418501911469e-26, 7.542274830523988e-21, 1.1402371045615916e-24, 1.705416137930041e-31, 2.4058028288322705e-23, 3.941945364992792e-21, 3.5959394288693792e-28, 2.6341090701542484e-28, 1.2325946910912878e-23, 5.957480514457476e-25, 8.048898192580041e-26, 1.7506526933371464e-25, 2.1750852518064375e-25, 6.85807643903632e-29, 3.825938313859362e-24, 1.9530348504787788e-29, 3.5013999214270955e-29, 7.827200963904094e-24, 1.1054834799294823e-26, 1.0091603278396902e-27, 8.007798539418026e-26, 2.6779359984048828e-30, 1.0335783770102795e-24, 2.2351089878314122e-24, 5.605081063915211e-25, 5.917274616049173e-26, 4.3601089492383745e-28, 2.292980021053652e-24, 1.4228300502226468e-26, 1.0170957446932687e-25, 5.468804418091908e-27, 2.4515185373264458e-26, 3.1453259405142033e-27, 2.0240928603157033e-27, 4.684808257836023e-26, 3.145713021618146e-25, 5.68535559585282e-27, 2.4485266051578402e-27, 3.663035862199716e-26, 1.3582904429678795e-26, 9.861113837479668e-26, 1.1650611520904094e-25, 8.185100574544689e-27, 7.444712292684241e-29, 9.738344585765528e-27, 5.367981600317247e-27, 1.2241874848799854e-24, 3.7094538553473596e-26, 2.4813140217170774e-27, 1.0866519680448572e-26, 1.6287512502485078e-27, 5.489287453422444e-27, 3.7838100430844653e-28, 1.0452616920542345e-27, 2.5775219261589974e-27, 1.5497420205805874e-28, 8.587992215179871e-28, 1.5417882910221327e-27, 2.543725129715907e-27, 2.4884707773904204e-27, 1.7431339629826157e-27, 3.156550789860827e-28, 1.8320647411296685e-27, 1.1800986282069103e-26, 5.18258195422081e-27, 6.52025027119757e-29, 9.034683431647506e-26, 1.4959950695484485e-27, 7.33066666583865e-28, 2.3825429572974832e-29, 6.962386008530548e-28, 3.8549081543939506e-28, 8.964092629544671e-28, 2.56093909155884e-27, 1.2063247095944113e-26, 7.785282910693743e-29, 1.4047570273280198e-27, 5.763923619044606e-28, 2.3394950887742123e-27, 7.518950392026807e-28, 1.4181916405445846e-26, 5.912217817349992e-27, 1.3989121188362962e-27, 3.481744301711855e-27, 1.5780678037565328e-27, 1.5178287788082827e-25, 7.0777761752185645e-28, 8.650034122408361e-28, 1.7607169330028934e-27, 1.1485823446702682e-27, 4.738326923577029e-28, 3.030232294815249e-29, 2.6614318049410327e-27, 1.0950446700007112e-27, 2.871310694706112e-28, 4.72792959817926e-27, 2.3584365134807635e-28, 5.893750075113263e-28, 4.390403827263586e-27, 4.382620662875831e-28, 3.1014209007579964e-27, 4.605877832406602e-28, 9.862797023213865e-28, 2.2976696681719547e-27], [1.0, 1.6600190112489473e-21, 7.794732605681184e-14, 2.1333015791011166e-16, 2.4735865108359155e-17, 3.6654847866617415e-17, 4.388538686096732e-15, 1.0231989655033681e-15, 1.81654304703331e-15, 1.7821098871780017e-13, 6.488477516759854e-18, 1.6744906653125333e-18, 2.812753936015655e-12, 1.451327935868968e-14, 6.083082648711269e-11, 9.822836107334885e-15, 6.854636045941658e-18, 1.4007201736660705e-15, 1.2806740260287719e-12, 1.2198490779774182e-14, 1.3261550162863272e-15, 6.68201063057372e-13, 1.0440207294127733e-15, 1.2988184837515727e-16, 3.938470270672002e-15, 4.779731958940185e-15, 4.092704117757373e-16, 1.9287403705409156e-13, 1.234406630901228e-15, 1.2564737185315542e-16, 4.199917323643998e-14, 1.574642983973013e-16, 2.8066762285560343e-16, 1.4491745081252955e-16, 3.3153338070632265e-16, 6.143103273588261e-16, 4.535229207154948e-14, 5.759085428599237e-14, 4.475536275438919e-16, 1.3260537958491303e-15, 1.4768841057337563e-15, 7.040120693851222e-16, 5.578169355461085e-15, 1.0100831897107273e-15, 2.44750508922309e-15, 1.2117692518693831e-15, 1.0773100348002856e-14, 7.297540359268908e-15, 3.2887699538648252e-15, 8.380438948048588e-15, 8.258443121996156e-16, 3.1171795017177067e-15, 2.035984507953192e-15, 1.9253971569090913e-15, 3.061567341807489e-15, 1.2588154734631367e-15, 1.5281245962542968e-16, 7.777323537516267e-15, 1.0124518114686056e-15, 6.3345320843930224e-15, 6.298052492937148e-15, 3.927306111729394e-16, 1.3030473222105194e-15, 6.666342524282436e-16, 2.470543114838986e-15, 1.1825741966994547e-16, 3.874362052663468e-16, 5.927403686591993e-16, 1.5469635354435185e-16, 9.221397822038128e-16, 1.108640131804975e-15, 3.478020248868808e-16, 2.7437104462351097e-16, 2.423746397387758e-16, 7.743246978531753e-16, 5.082544437638584e-16, 2.0157217857889745e-15, 7.931682163142681e-16, 6.739085184397043e-16, 1.919193487603401e-15, 3.0237742140086597e-16, 2.386388273946903e-16, 3.605106888518026e-17, 5.164355644244733e-16, 2.1238743670959722e-16, 5.845712123389644e-16, 9.331056824972038e-16, 1.866835416518297e-15, 4.285535138666755e-16, 2.607849802566868e-16, 1.4777794724985633e-16, 5.756992833703045e-16, 3.2467725780322993e-16, 2.73938078438566e-16, 1.8496385301066667e-15, 3.5086031675228124e-16, 2.094108967584966e-15, 1.5423322504555076e-16, 2.499035820876963e-15, 3.821986035067794e-16, 2.9829652254011315e-16, 6.02839966005786e-16, 6.060473092001236e-16, 1.375257780936455e-16, 9.36550102272544e-17, 5.952419216502373e-16, 5.240042273246641e-16, 3.3406225050990957e-16, 9.488708714697376e-16, 1.2733084983582334e-16, 2.9146432831778037e-16, 5.016666979561473e-16, 7.625056765632216e-17, 4.090362865751603e-16, 5.886797985891806e-16, 4.600602807683385e-16, 6.964898874179119e-16], [1.0, 1.3179087534981126e-16, 1.087415769165273e-17, 3.787448382965774e-21, 1.1368193297733495e-16, 1.2770965554298077e-18, 3.9694620812464034e-17, 4.6463972546848126e-20, 3.149578690621196e-18, 2.638921221003422e-17, 3.936964140212665e-17, 1.2785973712537086e-19, 3.7561100063587816e-14, 1.6514073631386285e-17, 9.31492025440378e-14, 3.584410374642612e-19, 5.471161272002964e-20, 8.1891129458678e-16, 8.273602343598224e-14, 2.77889043768699e-17, 1.3836336960138812e-18, 4.711064437862289e-14, 1.1887111489256591e-17, 1.0786324345489399e-17, 7.804327483887771e-18, 6.009663820660187e-16, 2.4234652283577935e-19, 4.404179242112012e-18, 7.710903223964194e-18, 1.6915158517764645e-19, 2.3417249042645416e-14, 3.6282537905412783e-19, 2.1051657409064763e-19, 5.414036075502475e-16, 1.2511000136113707e-20, 1.7260900885260146e-18, 4.353006077475888e-16, 5.726088836622472e-16, 5.2143768440725906e-17, 3.0201054860122522e-18, 1.5400385778785715e-17, 4.092452257804463e-17, 1.6395830412753096e-15, 4.512133260367327e-17, 1.5893739457169492e-16, 9.351582550866377e-16, 2.934882076661261e-16, 9.773712669786889e-17, 3.9016243374664396e-15, 1.694631553698689e-16, 1.062359558512368e-17, 9.182779472390436e-17, 2.0879249653255196e-17, 1.5672711834411648e-17, 5.248001405100626e-17, 6.827160331997036e-17, 6.5510272603198886e-18, 1.9987452338227486e-16, 9.718460644463042e-18, 2.511381749599668e-16, 1.7817545568566285e-15, 1.1070120087488992e-17, 5.567640206531122e-17, 2.870078497542591e-17, 4.951508440698344e-17, 3.0638993227729534e-18, 8.471226136327011e-18, 1.0142791890993557e-17, 5.110571529500019e-19, 3.1552064139187006e-18, 2.058668910548499e-18, 3.1905729345987115e-18, 1.1421822601490666e-18, 1.022062193521413e-18, 4.2990230795605954e-18, 4.7586389558904786e-18, 3.464908377368658e-17, 3.230278265745747e-17, 1.9839455499135214e-18, 1.6884681978673318e-17, 7.27820401156194e-19, 1.7576179741758967e-18, 9.857533331779452e-20, 3.3384151322754673e-18, 9.27426424193176e-19, 3.950607160927747e-18, 1.9606983005422086e-17, 6.233484203689357e-18, 7.648382845315905e-19, 1.7096613509825223e-18, 8.085979483932356e-19, 8.695536011755466e-18, 1.4491066958586784e-18, 1.0552383399393836e-18, 2.0961448245085816e-17, 1.8188353365642617e-18, 7.771799929788103e-17, 1.386751236345017e-18, 1.8059215582772064e-17, 1.174951226910508e-18, 1.2654432349601607e-18, 5.584015487527528e-18, 2.807476641603965e-18, 1.1839541572999586e-18, 1.2293670967121558e-18, 1.1169500461413257e-18, 3.6437765068200836e-18, 4.271136339569595e-18, 2.901671833858441e-18, 8.373710641093747e-19, 4.530758555347939e-18, 4.878646732749978e-18, 1.2501525531829342e-17, 4.486026695772602e-18, 4.084075234305016e-18, 9.361853156224081e-18, 1.0561691042441436e-17], [1.0, 3.01317266493753e-14, 9.344246163477435e-29, 7.477485262810918e-18, 1.0309169575312901e-23, 5.2569618148724946e-23, 6.278040783692893e-17, 1.4207405597040784e-13, 3.9352224287148734e-17, 1.4992272701075393e-10, 5.534806034672957e-21, 4.0706873491780696e-16, 1.511165053768443e-13, 1.0044190142179888e-16, 6.809390551421046e-11, 1.2169384423776908e-12, 9.007034586615847e-22, 3.0616579150405387e-13, 4.2064789067215507e-16, 1.0603543615551446e-19, 3.689359121655431e-18, 7.579060399024937e-14, 1.551296056029165e-15, 2.0414641741928555e-18, 2.9128425440715e-16, 2.3317046739051127e-15, 8.091193823718737e-19, 6.3499409723444256e-12, 1.0102853129477659e-19, 1.7842684927414364e-18, 3.7276829030225694e-14, 1.4134082772296867e-16, 1.3322490212951279e-16, 2.0113405310303588e-18, 1.2201345720039334e-19, 4.1586480149812845e-15, 3.809017695947535e-16, 2.313990515060506e-16, 2.366607142952759e-16, 1.1448611466013656e-17, 4.1749420489744365e-14, 5.82265204844734e-17, 2.3051612884637884e-17, 1.0444140405591525e-17, 4.1242193020489494e-17, 3.176402338088943e-17, 1.857866887743342e-18, 5.004775232552064e-17, 1.9148705755477497e-16, 4.564885545880039e-17, 1.005818041331612e-17, 3.8730322109362786e-16, 4.3749281504186664e-17, 9.187549326674662e-16, 8.495436720239703e-17, 1.179177594580965e-16, 1.0114773836080314e-18, 7.131963649141393e-18, 1.783459468743329e-17, 7.665920811381316e-16, 1.1914173530176876e-16, 1.339075875239426e-17, 1.129323882283537e-17, 4.1889402292808134e-18, 2.827997503676303e-17, 1.0989791337433049e-18, 2.651624233670399e-18, 1.9550583349716382e-18, 1.3393152199496682e-18, 6.657898168281127e-18, 3.1334498267292696e-17, 5.501471547791168e-18, 5.884504644187115e-17, 3.3000502886701048e-18, 1.0555407778508483e-17, 7.155481221136888e-18, 1.6056563343305655e-17, 3.819227718597175e-18, 9.735152735634056e-19, 6.6900599762011485e-16, 1.0784143897394709e-17, 6.5899775410037856e-18, 1.1121456777460411e-18, 5.224947136966222e-18, 4.194713122775821e-18, 4.407473075311198e-18, 3.186741434001366e-18, 2.6941740735078816e-17, 2.6355295736968015e-18, 5.315413399019309e-18, 2.0789520409127894e-17, 1.8264766242678734e-18, 4.636946625713515e-18, 5.310025392663322e-17, 2.706380281498959e-17, 3.941487163802105e-17, 5.840159160675902e-17, 1.0052196588764911e-17, 5.168809978756106e-16, 7.662696792225829e-18, 9.52816195428093e-18, 4.419780695645374e-18, 2.3085568648783186e-18, 4.474592991755588e-18, 4.621633858213933e-19, 1.6631979955899593e-17, 1.0843918449999628e-17, 6.138599142804012e-18, 1.9806495660447426e-17, 7.089674867505232e-18, 8.056298692590305e-19, 1.7944260638684344e-17, 5.932280859288892e-19, 1.0964588384939477e-17, 6.126784935705223e-18, 1.4546459108306398e-17, 1.0502350759658107e-17], [1.0, 1.176178230603576e-21, 7.598741151817184e-19, 1.460443464647659e-19, 7.061835567614831e-21, 3.4165519054069334e-19, 1.9907154028418085e-18, 1.256142978635431e-16, 1.6903831540726166e-16, 3.897977595930714e-16, 2.2495157573282373e-22, 4.403351234318846e-20, 1.1803524737480364e-12, 1.0217976818410339e-17, 1.7330445412078177e-10, 2.155518195575204e-13, 5.873122905207145e-21, 8.475132806962522e-19, 2.382046227135732e-19, 2.6700775991606913e-18, 4.2875444596363196e-17, 3.2577136517900063e-13, 2.4737483404509554e-16, 1.470689768666812e-21, 2.6719945488712523e-17, 2.119704913587562e-17, 8.068754998639588e-19, 1.6635996399894104e-11, 4.925695938811382e-18, 4.159117473066133e-18, 8.478374962052939e-17, 1.8920255179338724e-18, 5.114031299265987e-16, 3.05274300860448e-20, 1.8396524616447917e-16, 1.045944552167044e-18, 7.6513346393318e-18, 4.948543825382954e-17, 6.718847420753449e-19, 9.325999508881337e-17, 7.308398130512626e-17, 5.4328366500548865e-18, 5.98689049614903e-18, 2.770379245492187e-18, 5.167188009923788e-18, 2.866806501911576e-17, 2.2021116240602997e-16, 1.1981257050674314e-17, 2.989740512906043e-18, 2.0810477195383047e-16, 1.4655899239250226e-18, 2.7845146041078606e-17, 9.296052592856713e-18, 3.959329780487119e-17, 7.476943459509696e-18, 1.1327280613764378e-17, 4.286544646429927e-18, 1.344941909271407e-18, 1.688776591479207e-18, 4.319192224436476e-18, 3.421628964230904e-17, 2.9401009907564297e-18, 2.0837068405098667e-18, 1.9921815804775587e-18, 8.034849485716499e-18, 2.7245258841025935e-19, 1.238976040297878e-18, 1.5546111014479795e-18, 1.6559421740517973e-18, 1.70650121084984e-18, 4.873270885948996e-18, 5.586526601072086e-19, 2.0433964681037794e-18, 8.131108390201718e-19, 3.5019290111195915e-17, 1.3751093930063691e-18, 5.231189455458853e-18, 2.1904794690745764e-19, 1.1657904704601823e-17, 5.761273923506925e-17, 1.4505501260275835e-18, 7.536530448910719e-19, 4.809920328158433e-19, 1.0771188181050597e-18, 1.270556038326351e-18, 2.930225281423159e-18, 6.774489275620476e-19, 9.801817289151235e-19, 1.1178409196610453e-18, 6.032761590223005e-19, 3.8758511266585736e-18, 8.3469213629804515e-19, 9.693944665468195e-19, 1.5419365231145591e-18, 6.939617686943212e-18, 2.633017426176478e-18, 2.0727989752082524e-17, 4.043087969663919e-19, 1.4091867113426856e-17, 9.764684117477964e-19, 3.610982104254806e-18, 1.2774133656044155e-18, 1.7561225350259774e-19, 7.173871720900626e-19, 6.536346045217991e-19, 6.465474864695673e-18, 2.4738023222577306e-18, 8.692911367671835e-19, 3.1897089444489e-18, 6.7650151624746e-18, 2.82788675453204e-19, 1.4232484095248114e-18, 3.80349432975611e-19, 7.684823253226163e-19, 2.9031095254618465e-19, 4.864968474140801e-18, 4.692909943646096e-19], [0.9998952150344849, 1.2679288374783937e-06, 2.1146338013977584e-09, 2.6499458272155607e-07, 1.8830440922101843e-06, 1.5513846847170498e-06, 5.353714186639991e-06, 1.30240618290145e-08, 7.387712663842194e-09, 5.705113714782328e-09, 2.5231795319768935e-08, 1.0050914545089995e-09, 4.073603747656307e-07, 7.64152563448306e-09, 1.2564186363306362e-05, 2.4932591546900085e-09, 5.403159586414574e-10, 7.420363203891611e-07, 6.536828855985277e-09, 1.3635125917232926e-08, 1.882726152757641e-08, 5.8910492953145877e-05, 1.2171547325579013e-08, 6.224611381888678e-10, 9.697873615266417e-10, 1.9291760509076994e-06, 3.476461118978591e-09, 1.3286835098824668e-07, 1.2914182612178138e-08, 2.533618870259602e-09, 1.1034866474801674e-05, 1.7850937394925381e-09, 5.204333408670436e-09, 3.168978635059716e-09, 1.3076898452979435e-09, 2.1968298291596966e-09, 1.106091147562438e-07, 5.0292289444087146e-08, 5.8294357785371176e-08, 2.516004471431188e-08, 1.5577922951592882e-08, 2.1578317799253455e-08, 1.0848878417846208e-07, 1.0002846551060429e-07, 1.223328780497468e-07, 2.4050093543337425e-06, 1.1862518789484966e-07, 1.0046939280528022e-07, 4.6763997829657455e-07, 3.293403665338701e-07, 2.9095231113274167e-08, 2.645708718773676e-07, 6.983844258456884e-08, 4.4789281616886e-08, 4.4015820321874344e-08, 4.391661079239384e-08, 1.3928686648512212e-08, 4.2125483901145344e-07, 1.4470372455832603e-08, 1.941243112923985e-07, 1.9044016426050803e-06, 8.309493537694834e-09, 2.211498717485938e-08, 7.186704209516392e-08, 1.0160019314753299e-07, 2.967138978959838e-09, 1.7718315703518783e-08, 8.417294417029098e-09, 1.5260011032580678e-09, 9.810396939258226e-09, 1.380956859975413e-08, 3.4733527165542455e-09, 2.8034779830932166e-08, 1.4282725002701113e-09, 3.951539540025806e-08, 1.3962734080052996e-08, 9.670559464325379e-09, 1.7581301747782163e-08, 5.602842634289118e-08, 5.8925856194491644e-08, 2.826682665713065e-09, 6.1837419629284796e-09, 1.5171841560857047e-09, 6.950923392423647e-09, 2.8560396270194133e-09, 1.3927730080354195e-08, 8.56754311939767e-09, 3.7015914777782655e-09, 3.907967283112157e-09, 3.7206322467397968e-09, 1.0537494432583117e-08, 7.071813801218241e-09, 1.2183067887860943e-08, 2.2899646623386616e-09, 2.0842382042474128e-08, 1.2641786284461887e-08, 5.072675435258134e-07, 9.60889146028876e-09, 2.7339218888755568e-08, 4.411421450356556e-09, 4.6424641908515696e-09, 7.410164926113794e-09, 1.4462645303581212e-08, 4.432904265883053e-09, 5.442621908713363e-09, 1.965038354256876e-09, 2.0722117355376213e-08, 4.1134285311272833e-08, 3.856549302128087e-09, 7.1806853796374526e-09, 2.6550022180771293e-09, 6.858512868745947e-09, 1.1656781317981313e-08, 5.8116591539203455e-09, 3.4111216962173785e-08, 5.699330429820293e-08, 1.1605026273286967e-08], [1.0, 2.8163031240290004e-19, 6.499527582803921e-10, 7.359182334972392e-15, 9.888619968271325e-17, 1.3896938883938698e-13, 3.931593157233685e-16, 1.892636844772963e-13, 5.995204766656714e-12, 2.5141108335074397e-18, 9.648639983318666e-19, 2.5711099883620906e-19, 1.5344130046418547e-12, 3.783676270110699e-15, 2.383275868322876e-13, 6.700253805963117e-15, 4.609316129732671e-16, 1.0712136274108319e-19, 3.4383788422395105e-16, 1.0836600713992617e-13, 2.7260766072897263e-14, 7.81225507461708e-13, 2.9542232375667776e-13, 2.977562139542578e-18, 1.9629827616358432e-15, 2.5247226508678212e-17, 2.8148696311943843e-15, 6.602449706752389e-13, 8.01719564488216e-15, 1.737070921911004e-15, 6.384311787186684e-15, 1.0129312956442225e-14, 7.992694369849881e-14, 4.5966711189702466e-17, 1.9392358812514443e-12, 1.0202207447212628e-16, 7.67968096748858e-15, 4.698131769417021e-15, 3.175094069232129e-17, 9.12190448502069e-14, 8.765550100814281e-16, 1.7230993252042811e-15, 3.772391673670904e-15, 2.3082170855524614e-15, 4.830855903021139e-15, 7.909086288725251e-15, 2.1307033828271704e-12, 3.127374813787333e-15, 1.0962717567091678e-15, 4.553379090335534e-14, 8.844178581121122e-16, 2.5617069416113613e-15, 2.5007523331445737e-15, 6.670564983524499e-16, 2.387117781072726e-15, 8.826080134016257e-16, 3.6675446649103455e-15, 4.454688147629031e-16, 3.528373710605116e-16, 2.49687154581761e-16, 1.2487525102915188e-15, 2.6669144687700946e-16, 8.863666691655075e-16, 1.0633093636876483e-15, 1.4929427916225138e-15, 2.377492575116161e-16, 6.020609074525488e-16, 2.6494748015399574e-15, 6.207175492696536e-16, 2.3203017046109385e-16, 2.5451177483998267e-16, 3.0799097344011623e-16, 3.8246258661874715e-16, 3.5142557889567547e-16, 2.7050515978246275e-15, 4.340354581617461e-16, 1.0437977479894086e-15, 2.6843681120438615e-16, 1.9602488780952852e-14, 1.782808265843013e-15, 7.388713926920177e-16, 2.410468891241751e-16, 8.497677519431885e-16, 2.00350873535987e-16, 4.078147856558808e-16, 2.1136178568959067e-16, 2.1267282063837292e-16, 1.1641068932158408e-16, 1.3931418228265455e-16, 4.3117555729446037e-16, 1.174885837455905e-15, 2.75232715358885e-16, 1.9342449983783137e-16, 1.1754456203549217e-16, 7.661681411480308e-16, 1.3379532587992935e-16, 1.0738383008593744e-15, 2.1579955011893356e-16, 2.0360622232261025e-15, 2.9410013603095814e-16, 9.270104334087618e-16, 3.7843526259190817e-16, 6.052868324321668e-17, 1.7220668185113577e-16, 1.0239096261461145e-15, 7.201411119480609e-16, 3.8643691814682353e-16, 1.9445802561726943e-16, 3.2943684181297025e-16, 7.982981654801953e-16, 2.6901393180904195e-16, 7.829169868352331e-17, 3.768448788240994e-16, 2.335593560984635e-16, 6.162745702937292e-17, 7.90172366658948e-16, 6.856208929876428e-17], [2.006816976063419e-05, 1.4631460487635195e-07, 0.9893682599067688, 4.00528324462357e-06, 8.968650035967585e-06, 0.010581422597169876, 3.1808980338610127e-08, 1.5046108803318248e-09, 5.243663636633755e-08, 1.1889660263275648e-12, 1.2445151575946056e-08, 1.9839917209107938e-10, 2.131837151253535e-09, 5.947266235040161e-09, 1.531678561761396e-09, 1.3719445718374246e-11, 5.390102586488865e-08, 4.673352260731178e-10, 2.2968278390322894e-09, 2.3221266474138247e-06, 9.90708759474046e-09, 1.2879006305865914e-08, 9.084169505513273e-08, 1.042247399496432e-09, 8.882091173667561e-10, 3.892011601891454e-09, 7.685669878298995e-09, 6.174770139644181e-10, 1.7050355438641418e-07, 4.089309335597591e-09, 9.95080540633353e-07, 4.3715013831047145e-09, 6.673669616930056e-09, 9.627351715835175e-08, 8.034079712615494e-08, 7.02186420120654e-10, 2.197594710651174e-07, 9.043991866519718e-08, 7.20234405449105e-09, 2.234651219623629e-07, 2.964037626451699e-10, 1.8178427652060236e-08, 3.517461379942688e-07, 3.1115226306610566e-07, 3.3902279028552584e-07, 2.1022549390181666e-06, 6.26766723144101e-06, 4.01130293425922e-08, 4.2893742602245766e-07, 7.610094030496839e-07, 1.9127943673424852e-08, 1.0287745766390799e-07, 1.899129209448347e-08, 2.636965090729859e-09, 4.4957289446756477e-08, 2.7441354077950564e-08, 1.565209117870836e-07, 1.1497383667347094e-07, 2.1605746525210634e-08, 1.2707178420612308e-08, 4.084445492935629e-07, 4.957823485085555e-09, 5.978944983553447e-08, 3.311991392251912e-08, 1.0372547620818295e-07, 5.955052451156462e-09, 1.2793145209855084e-08, 1.6782884415533772e-08, 6.160538301713814e-09, 2.209098903804829e-09, 4.547749732353168e-09, 7.00529323438559e-09, 7.438117677338596e-09, 3.744853316334229e-09, 9.331768247022865e-09, 2.4936921416696123e-09, 1.5940470277087115e-08, 7.725395434476923e-09, 4.2687497625593096e-07, 9.244042864509083e-09, 1.3991785507982968e-09, 1.3913545870991584e-09, 1.592014164941702e-08, 3.1325546601124188e-09, 8.236780146830824e-09, 2.4695145928177453e-09, 7.235430476981719e-09, 2.534556786670805e-09, 1.294263807238849e-08, 4.592396241065444e-09, 4.006430298630903e-09, 1.7907957339247105e-09, 5.197062780126771e-09, 1.242830394154737e-09, 2.535262666469862e-09, 2.152092726248611e-09, 2.0018545399125287e-07, 3.930543446273305e-09, 6.797058027530056e-09, 2.49093012882895e-09, 1.27436337038489e-08, 5.30697974454597e-09, 2.471606697085349e-09, 1.7456621703715314e-09, 1.1728973348112959e-08, 1.7019551323826931e-09, 5.031653760312338e-09, 1.6360372612211904e-08, 3.4230076551011734e-09, 2.613905314419185e-09, 5.124556334834551e-09, 6.142208963666462e-10, 1.2437107343998832e-08, 1.0775210057545337e-08, 4.707727097041925e-09, 1.504293223320019e-08, 4.2973460345763215e-09], [0.010697061195969582, 0.9891985058784485, 3.6472030728873506e-08, 5.14019262709553e-08, 3.0781375670585476e-08, 8.566146902921901e-07, 4.399909325769613e-09, 8.100780490849502e-09, 5.8615543530038394e-09, 1.768627377884968e-08, 9.254421229343279e-08, 3.7179225387262704e-07, 2.0639137687794573e-07, 3.23805204871519e-09, 3.3273607868977706e-07, 1.4085471677915962e-10, 4.101563255698437e-10, 3.465650661382824e-05, 3.8709532645953004e-07, 2.530431864045113e-09, 3.872182574582439e-09, 4.699036182387317e-08, 7.946218261167814e-07, 7.666085366508923e-08, 1.0194586508305292e-08, 5.447932238666908e-08, 1.4423348626557697e-10, 7.962052683829768e-10, 4.101305406400968e-10, 1.8794665823662626e-10, 5.52753044757992e-05, 7.717075867219592e-09, 1.2956761219484747e-09, 1.4448062302108156e-06, 8.188167505140953e-11, 9.299612457880357e-08, 1.8347465413626196e-07, 8.39811988839756e-08, 5.215597980168241e-07, 9.606291762054298e-09, 1.7740193314352837e-08, 8.540448703797665e-08, 2.1530351546061866e-07, 2.1525937654587324e-07, 3.4364481393822643e-07, 1.5630261032129056e-06, 6.195586621515758e-08, 2.493935902236899e-08, 3.7448519378813216e-06, 6.796142315579345e-08, 2.011554478542621e-08, 3.1385627607960487e-07, 2.3535314142009156e-08, 1.5617461102124253e-08, 4.623026939043484e-08, 1.0103706671316104e-07, 6.305119626404121e-08, 1.1156955359581389e-08, 2.2935152443892548e-08, 1.2036532837100822e-07, 7.842796776458272e-07, 3.999423725531415e-08, 4.286403765263458e-08, 3.731586417643484e-08, 3.897890366033607e-08, 1.4261065217624491e-08, 2.2781293296247895e-08, 1.794386683684479e-08, 4.922761753789473e-09, 2.918882024971481e-09, 4.796423702657648e-09, 1.8642165144910905e-08, 1.564214535676456e-08, 2.5360076261193853e-09, 3.815212146207614e-09, 2.9466440398806526e-09, 3.9818868202701196e-08, 2.2328098481239067e-08, 7.34602334517831e-09, 6.482326853074483e-08, 1.1978315006544449e-09, 1.7904918658828706e-09, 2.6291055998939328e-09, 9.853192040054637e-09, 4.553669885609679e-09, 3.1152813662060908e-09, 1.4123417102496205e-08, 9.441354364980725e-09, 4.718946566839577e-09, 5.573241868006562e-09, 4.037615131124994e-09, 1.6842852446075085e-08, 2.8260467299645597e-09, 3.5504759132720665e-09, 1.6191281204669394e-08, 4.505530615261932e-09, 1.8269051338393183e-07, 6.742864488984424e-09, 1.5817386511685072e-08, 1.8215763342155356e-09, 6.382956385664329e-09, 8.160625952768896e-09, 4.2460737148530825e-09, 6.052940371148452e-09, 6.4935350430062044e-09, 3.4772174029029657e-09, 4.030435984958558e-09, 1.1884854878019269e-08, 2.874489535287239e-09, 1.0804820371745905e-09, 5.886213738648394e-09, 5.966707128379767e-09, 2.1795978355498846e-08, 1.0744775735815892e-08, 5.342353670556577e-09, 2.0417866508637417e-08, 7.457807704724928e-09]], 'spans': [[0, 0], [0, 1], [0, 2], [0, 3], [0, 4], [0, 5], [0, 6], [0, 7], [0, 8], [0, 9], [0, 10], [1, 1], [1, 2], [1, 3], [1, 4], [1, 5], [1, 6], [1, 7], [1, 8], [1, 9], [1, 10], [2, 2], [2, 3], [2, 4], [2, 5], [2, 6], [2, 7], [2, 8], [2, 9], [2, 10], [3, 3], [3, 4], [3, 5], [3, 6], [3, 7], [3, 8], [3, 9], [3, 10], [4, 4], [4, 5], [4, 6], [4, 7], [4, 8], [4, 9], [4, 10], [5, 5], [5, 6], [5, 7], [5, 8], [5, 9], [5, 10], [6, 6], [6, 7], [6, 8], [6, 9], [6, 10], [7, 7], [7, 8], [7, 9], [7, 10], [8, 8], [8, 9], [8, 10], [9, 9], [9, 10], [10, 10]], 'tokens': ['The', 'old', 'woman', 'was', 'sitting', 'under', 'a', 'tree', 'and', 'sipping', 'coffee'], 'pos_tags': ['DT', 'JJ', 'NN', 'VBD', 'VBG', 'IN', 'DT', 'NN', 'CC', 'VBG', 'NN'], 'num_spans': 66, 'hierplane_tree': {'linkNameToLabel': {'.': 'pos', ',': 'pos', '-LRB-': 'pos', '-RRB-': 'pos', '``': 'pos', '\"\"': 'pos', \"''\": 'pos', ':': 'pos', '$': 'pos', '#': 'pos', 'AFX': 'pos', 'CC': 'pos', 'CD': 'pos', 'DT': 'pos', 'EX': 'pos', 'FW': 'pos', 'HYPH': 'pos', 'IN': 'pos', 'JJ': 'pos', 'JJR': 'pos', 'JJS': 'pos', 'LS': 'pos', 'MD': 'pos', 'NIL': 'pos', 'NN': 'pos', 'NNP': 'pos', 'NNPS': 'pos', 'NNS': 'pos', 'PDT': 'pos', 'POS': 'pos', 'PRP': 'pos', 'PRP$': 'pos', 'RB': 'pos', 'RBR': 'pos', 'RBS': 'pos', 'RP': 'pos', 'SP': 'pos', 'SYM': 'pos', 'TO': 'pos', 'UH': 'pos', 'VB': 'pos', 'VBD': 'pos', 'VBG': 'pos', 'VBN': 'pos', 'VBP': 'pos', 'VBZ': 'pos', 'WDT': 'pos', 'WP': 'pos', 'WP$': 'pos', 'WRB': 'pos', 'ADD': 'pos', 'NFP': 'pos', 'GW': 'pos', 'XX': 'pos', 'BES': 'pos', 'HVS': 'pos', '_SP': 'pos'}, 'nodeTypeToStyle': {'.': ['color0'], ',': ['color0'], '-LRB-': ['color0'], '-RRB-': ['color0'], '``': ['color0'], '\"\"': ['color0'], \"''\": ['color0'], ':': ['color0'], '$': ['color0'], '#': ['color0'], 'AFX': ['color0'], 'CC': ['color0'], 'CD': ['color0'], 'DT': ['color0'], 'EX': ['color0'], 'FW': ['color0'], 'HYPH': ['color0'], 'IN': ['color0'], 'JJ': ['color0'], 'JJR': ['color0'], 'JJS': ['color0'], 'LS': ['color0'], 'MD': ['color0'], 'NIL': ['color0'], 'NN': ['color0'], 'NNP': ['color0'], 'NNPS': ['color0'], 'NNS': ['color0'], 'PDT': ['color0'], 'POS': ['color0'], 'PRP': ['color0'], 'PRP$': ['color0'], 'RB': ['color0'], 'RBR': ['color0'], 'RBS': ['color0'], 'RP': ['color0'], 'SP': ['color0'], 'SYM': ['color0'], 'TO': ['color0'], 'UH': ['color0'], 'VB': ['color0'], 'VBD': ['color0'], 'VBG': ['color0'], 'VBN': ['color0'], 'VBP': ['color0'], 'VBZ': ['color0'], 'WDT': ['color0'], 'WP': ['color0'], 'WP$': ['color0'], 'WRB': ['color0'], 'ADD': ['color0'], 'NFP': ['color0'], 'GW': ['color0'], 'XX': ['color0'], 'BES': ['color0'], 'HVS': ['color0'], '_SP': ['color0'], 'NP': ['color1'], 'NX': ['color1'], 'QP': ['color1'], 'NAC': ['color1'], 'VP': ['color2'], 'S': ['color3'], 'SQ': ['color3'], 'SBAR': ['color3'], 'SBARQ': ['color3'], 'SINQ': ['color3'], 'FRAG': ['color3'], 'X': ['color3'], 'WHADVP': ['color4'], 'WHADJP': ['color4'], 'WHNP': ['color4'], 'WHPP': ['color4'], 'PP': ['color6'], 'ADJP': ['color5'], 'ADVP': ['color5'], 'CONJP': ['color5'], 'INTJ': ['color5'], 'LST': ['color5', 'seq'], 'PRN': ['color5'], 'PRT': ['color5'], 'RRC': ['color5'], 'UCP': ['color5']}, 'text': 'The old woman was sitting under a tree and sipping coffee', 'root': {'word': 'The old woman was sitting under a tree and sipping coffee', 'nodeType': 'S', 'attributes': ['S'], 'link': 'S', 'children': [{'word': 'The old woman', 'nodeType': 'NP', 'attributes': ['NP'], 'link': 'NP', 'children': [{'word': 'The', 'nodeType': 'DT', 'attributes': ['DT'], 'link': 'DT'}, {'word': 'old', 'nodeType': 'JJ', 'attributes': ['JJ'], 'link': 'JJ'}, {'word': 'woman', 'nodeType': 'NN', 'attributes': ['NN'], 'link': 'NN'}]}, {'word': 'was sitting under a tree and sipping coffee', 'nodeType': 'VP', 'attributes': ['VP'], 'link': 'VP', 'children': [{'word': 'was', 'nodeType': 'VBD', 'attributes': ['VBD'], 'link': 'VBD'}, {'word': 'sitting under a tree and sipping coffee', 'nodeType': 'VP', 'attributes': ['VP'], 'link': 'VP', 'children': [{'word': 'sitting under a tree', 'nodeType': 'VP', 'attributes': ['VP'], 'link': 'VP', 'children': [{'word': 'sitting', 'nodeType': 'VBG', 'attributes': ['VBG'], 'link': 'VBG'}, {'word': 'under a tree', 'nodeType': 'PP', 'attributes': ['PP'], 'link': 'PP', 'children': [{'word': 'under', 'nodeType': 'IN', 'attributes': ['IN'], 'link': 'IN'}, {'word': 'a tree', 'nodeType': 'NP', 'attributes': ['NP'], 'link': 'NP', 'children': [{'word': 'a', 'nodeType': 'DT', 'attributes': ['DT'], 'link': 'DT'}, {'word': 'tree', 'nodeType': 'NN', 'attributes': ['NN'], 'link': 'NN'}]}]}]}, {'word': 'and', 'nodeType': 'CC', 'attributes': ['CC'], 'link': 'CC'}, {'word': 'sipping coffee', 'nodeType': 'VP', 'attributes': ['VP'], 'link': 'VP', 'children': [{'word': 'sipping', 'nodeType': 'VBG', 'attributes': ['VBG'], 'link': 'VBG'}, {'word': 'coffee', 'nodeType': 'NP', 'attributes': ['NP'], 'link': 'NP', 'children': [{'word': 'coffee', 'nodeType': 'NN', 'attributes': ['NN'], 'link': 'NN'}]}]}]}]}]}}, 'trees': '(S (NP (DT The) (JJ old) (NN woman)) (VP (VBD was) (VP (VP (VBG sitting) (PP (IN under) (NP (DT a) (NN tree)))) (CC and) (VP (VBG sipping) (NP (NN coffee))))))'}\n"
          ]
        }
      ]
    },
    {
      "cell_type": "code",
      "source": [
        "tree_string = parser_output[\"trees\"]\n",
        "print (tree_string)"
      ],
      "metadata": {
        "colab": {
          "base_uri": "https://localhost:8080/"
        },
        "id": "b0L0oSE8hR3s",
        "outputId": "bf0fe3bd-4d77-43ad-8447-73ded7866c2c"
      },
      "execution_count": null,
      "outputs": [
        {
          "output_type": "stream",
          "name": "stdout",
          "text": [
            "(S (NP (DT The) (JJ old) (NN woman)) (VP (VBD was) (VP (VP (VBG sitting) (PP (IN under) (NP (DT a) (NN tree)))) (CC and) (VP (VBG sipping) (NP (NN coffee))))))\n"
          ]
        }
      ]
    },
    {
      "cell_type": "code",
      "source": [
        "from nltk import tokenize\n",
        "from nltk.tree import Tree\n",
        "\n",
        "tree = Tree.fromstring(tree_string)\n",
        "print (tree)\n",
        "print (tree.pretty_print())"
      ],
      "metadata": {
        "colab": {
          "base_uri": "https://localhost:8080/"
        },
        "id": "QsyUDVnQhVFN",
        "outputId": "f79c8a8d-562b-4d2f-a3b3-150e30449540"
      },
      "execution_count": null,
      "outputs": [
        {
          "output_type": "stream",
          "name": "stdout",
          "text": [
            "(S\n",
            "  (NP (DT The) (JJ old) (NN woman))\n",
            "  (VP\n",
            "    (VBD was)\n",
            "    (VP\n",
            "      (VP (VBG sitting) (PP (IN under) (NP (DT a) (NN tree))))\n",
            "      (CC and)\n",
            "      (VP (VBG sipping) (NP (NN coffee))))))\n",
            "                            S                                          \n",
            "      ______________________|________                                   \n",
            "     |                               VP                                \n",
            "     |          _____________________|_______                           \n",
            "     |         |                             VP                        \n",
            "     |         |                  ___________|________________          \n",
            "     |         |                 VP               |           |        \n",
            "     |         |      ___________|___             |           |         \n",
            "     |         |     |               PP           |           VP       \n",
            "     |         |     |       ________|___         |      _____|____     \n",
            "     NP        |     |      |            NP       |     |          NP  \n",
            "  ___|____     |     |      |         ___|___     |     |          |    \n",
            " DT  JJ   NN  VBD   VBG     IN       DT      NN   CC   VBG         NN  \n",
            " |   |    |    |     |      |        |       |    |     |          |    \n",
            "The old woman was sitting under      a      tree and sipping     coffee\n",
            "\n",
            "None\n"
          ]
        }
      ]
    },
    {
      "cell_type": "markdown",
      "source": [
        "Links to understand syntactic parsing and related terms:\n",
        "\n",
        "Reference: http://www.cs.cornell.edu/courses/cs474/2004fa/lec1.pdf\n",
        "\n",
        "Reference: http://sameersingh.org/courses/statnlp/wi17/slides/lecture-0207-syntactic-parsing.pdf\n",
        "\n",
        "S sentence\n",
        "\n",
        "NP noun phrase\n",
        "\n",
        "VP verb phrase\n",
        "\n",
        "PP prepositional phrase\n",
        "\n",
        "Det determiner\n",
        "\n",
        "N noun\n",
        "\n",
        "V verb\n",
        "\n",
        "P preposition\n",
        "\n",
        "VBD - Past Tense Verb\n",
        "\n",
        "JJ - Adjective\n",
        "\n",
        "etc"
      ],
      "metadata": {
        "id": "3r0MqR3Vhbln"
      }
    },
    {
      "cell_type": "code",
      "source": [
        "tree.pretty_print()\n",
        "temp1 = tree[0]\n",
        "temp2 = tree[1]\n",
        "temp3 = tree[-1]\n",
        "temp1.pretty_print()\n",
        "temp2.pretty_print()\n",
        "temp3.pretty_print()"
      ],
      "metadata": {
        "colab": {
          "base_uri": "https://localhost:8080/"
        },
        "id": "P8h7Bj0chb7G",
        "outputId": "cb3e0f65-f2a7-4c45-f56b-2abf13a071ef"
      },
      "execution_count": null,
      "outputs": [
        {
          "output_type": "stream",
          "name": "stdout",
          "text": [
            "                            S                                          \n",
            "      ______________________|________                                   \n",
            "     |                               VP                                \n",
            "     |          _____________________|_______                           \n",
            "     |         |                             VP                        \n",
            "     |         |                  ___________|________________          \n",
            "     |         |                 VP               |           |        \n",
            "     |         |      ___________|___             |           |         \n",
            "     |         |     |               PP           |           VP       \n",
            "     |         |     |       ________|___         |      _____|____     \n",
            "     NP        |     |      |            NP       |     |          NP  \n",
            "  ___|____     |     |      |         ___|___     |     |          |    \n",
            " DT  JJ   NN  VBD   VBG     IN       DT      NN   CC   VBG         NN  \n",
            " |   |    |    |     |      |        |       |    |     |          |    \n",
            "The old woman was sitting under      a      tree and sipping     coffee\n",
            "\n",
            "     NP      \n",
            "  ___|____    \n",
            " DT  JJ   NN \n",
            " |   |    |   \n",
            "The old woman\n",
            "\n",
            "                       VP                                \n",
            "  _____________________|_______                           \n",
            " |                             VP                        \n",
            " |                  ___________|________________          \n",
            " |                 VP               |           |        \n",
            " |      ___________|___             |           |         \n",
            " |     |               PP           |           VP       \n",
            " |     |       ________|___         |      _____|____     \n",
            " |     |      |            NP       |     |          NP  \n",
            " |     |      |         ___|___     |     |          |    \n",
            "VBD   VBG     IN       DT      NN   CC   VBG         NN  \n",
            " |     |      |        |       |    |     |          |    \n",
            "was sitting under      a      tree and sipping     coffee\n",
            "\n",
            "                       VP                                \n",
            "  _____________________|_______                           \n",
            " |                             VP                        \n",
            " |                  ___________|________________          \n",
            " |                 VP               |           |        \n",
            " |      ___________|___             |           |         \n",
            " |     |               PP           |           VP       \n",
            " |     |       ________|___         |      _____|____     \n",
            " |     |      |            NP       |     |          NP  \n",
            " |     |      |         ___|___     |     |          |    \n",
            "VBD   VBG     IN       DT      NN   CC   VBG         NN  \n",
            " |     |      |        |       |    |     |          |    \n",
            "was sitting under      a      tree and sipping     coffee\n",
            "\n"
          ]
        }
      ]
    },
    {
      "cell_type": "code",
      "source": [
        "def get_flattened(t):\n",
        "    sent_str_final = None\n",
        "    if t is not None:\n",
        "        sent_str = [\" \".join(x.leaves()) for x in list(t)]\n",
        "        sent_str_final = [\" \".join(sent_str)]\n",
        "        sent_str_final = sent_str_final[0]\n",
        "    return sent_str_final\n",
        "\n",
        "def get_right_most_VP_or_NP(parse_tree,last_NP = None,last_VP = None):\n",
        "    if len(parse_tree.leaves()) == 1:\n",
        "        return last_NP,last_VP\n",
        "    last_subtree = parse_tree[-1]\n",
        "    if last_subtree.label() == \"NP\":\n",
        "        last_NP = last_subtree\n",
        "    elif last_subtree.label() == \"VP\":\n",
        "        last_VP = last_subtree\n",
        "    \n",
        "    return get_right_most_VP_or_NP(last_subtree,last_NP,last_VP)\n",
        "\n",
        "\n",
        "last_nounphrase, last_verbphrase =  get_right_most_VP_or_NP(tree)\n",
        "last_nounphrase_flattened = get_flattened(last_nounphrase)\n",
        "last_verbphrase_flattened = get_flattened(last_verbphrase)\n",
        "\n",
        "print (\"Original Sentence \",test_sentence)\n",
        "print (\"last_nounphrase \",last_nounphrase )\n",
        "print (\"last_verbphrase \",last_verbphrase)\n",
        "print (\"\\n \")\n",
        "print (\"last_nounphrase \",last_nounphrase_flattened )\n",
        "print (\"last_verbphrase \",last_verbphrase_flattened)"
      ],
      "metadata": {
        "colab": {
          "base_uri": "https://localhost:8080/"
        },
        "id": "r1kJZbsShn2x",
        "outputId": "48bf3727-483a-4f1b-f988-336d356a35f1"
      },
      "execution_count": null,
      "outputs": [
        {
          "output_type": "stream",
          "name": "stdout",
          "text": [
            "Original Sentence  The old woman was sitting under a tree and sipping coffee\n",
            "last_nounphrase  (NP (NN coffee))\n",
            "last_verbphrase  (VP (VBG sipping) (NP (NN coffee)))\n",
            "\n",
            " \n",
            "last_nounphrase  coffee\n",
            "last_verbphrase  sipping coffee\n"
          ]
        }
      ]
    },
    {
      "cell_type": "code",
      "source": [
        "import re\n",
        "\n",
        "# sub_string - sipping coffee\n",
        "# main_string - The old woman was sitting under a tree and sipping coffee\n",
        "# compare like below\n",
        "# Theoldwomanwassittingunderatreeandsippingcoffee  || sippingcoffee\n",
        "# oldwomanwassittingunderatreeandsippingcoffee || sippingcoffee\n",
        "# womanwassittingunderatreeandsippingcoffee || sippingcoffee\n",
        "# ...............\n",
        "# andsippingcoffee || sippingcoffee\n",
        "# sippingcoffee || sippingcoffee\n",
        "def get_termination_portion(main_string, sub_string):\n",
        "    combined_sub_string = sub_string.replace(\" \", \"\")\n",
        "    main_string_list = main_string.split()\n",
        "    last_index = len(main_string_list)\n",
        "    for i in range(last_index):\n",
        "        check_string_list = main_string_list[i:]\n",
        "        check_string = \"\".join(check_string_list)\n",
        "        check_string = check_string.replace(\" \", \"\")\n",
        "        if check_string == combined_sub_string:\n",
        "            return \" \".join(main_string_list[:i])\n",
        "\n",
        "    return None\n",
        "\n",
        "longest_phrase_to_use = max(last_nounphrase_flattened, last_verbphrase_flattened,key = len)\n",
        "print (\"Ending phrase: \", longest_phrase_to_use)\n",
        "\n",
        "longest_phrase_to_use = re.sub(r\"-LRB- \", \"(\", longest_phrase_to_use)\n",
        "longest_phrase_to_use = re.sub(r\" -RRB-\", \")\", longest_phrase_to_use)\n",
        "\n",
        "\n",
        "split_sentence = get_termination_portion(test_sentence, longest_phrase_to_use)\n",
        "print (\"Original sentence : \",test_sentence)\n",
        "print (\"Original sentence after splitting at ending phrase: \",split_sentence)"
      ],
      "metadata": {
        "colab": {
          "base_uri": "https://localhost:8080/"
        },
        "id": "0zGDD56dhsd5",
        "outputId": "91adb3a9-a6dd-4824-c000-9e85cb022e51"
      },
      "execution_count": null,
      "outputs": [
        {
          "output_type": "stream",
          "name": "stdout",
          "text": [
            "Ending phrase:  sipping coffee\n",
            "Original sentence :  The old woman was sitting under a tree and sipping coffee\n",
            "Original sentence after splitting at ending phrase:  The old woman was sitting under a tree and\n"
          ]
        }
      ]
    },
    {
      "cell_type": "code",
      "source": [
        "test_sentence2 = \"They had no ice cream left at home, nor did they have money to go to the store.\"\n",
        "test_sentence2 = test_sentence2.rstrip('?:!.,;')\n",
        "print (test_sentence2)\n",
        "parser_output2 = predictor.predict(sentence=test_sentence2)\n",
        "tree_string2 = parser_output2[\"trees\"]\n",
        "\n",
        "tree2 = Tree.fromstring(tree_string2)\n",
        "print (tree2.pretty_print())\n"
      ],
      "metadata": {
        "colab": {
          "base_uri": "https://localhost:8080/"
        },
        "id": "a1x7d9bIhx4H",
        "outputId": "1b79f107-2181-4025-b693-663fef1c56ba"
      },
      "execution_count": null,
      "outputs": [
        {
          "output_type": "stream",
          "name": "stdout",
          "text": [
            "They had no ice cream left at home, nor did they have money to go to the store\n",
            "                                              S                                                    \n",
            "       _______________________________________|_______                                              \n",
            "      |                                   |   |       SQ                                           \n",
            "      |                                   |   |    ___|__________                                   \n",
            "      |                                   |   |   |   |          VP                                \n",
            "      |                                   |   |   |   |     _____|________                          \n",
            "      |                                   |   |   |   |    |              NP                       \n",
            "      |                                   |   |   |   |    |      ________|___                      \n",
            "      S                                   |   |   |   |    |     |           SBAR                  \n",
            "  ____|___                                |   |   |   |    |     |            |                     \n",
            " |        VP                              |   |   |   |    |     |            S                    \n",
            " |     ___|________                       |   |   |   |    |     |            |                     \n",
            " |    |            NP                     |   |   |   |    |     |            VP                   \n",
            " |    |        ____|_________             |   |   |   |    |     |     _______|____                 \n",
            " |    |       |              VP           |   |   |   |    |     |    |            VP              \n",
            " |    |       |          ____|___         |   |   |   |    |     |    |    ________|___             \n",
            " |    |       |         |        PP       |   |   |   |    |     |    |   |            PP          \n",
            " |    |       |         |     ___|___     |   |   |   |    |     |    |   |    ________|___         \n",
            " NP   |       NP        |    |       NP   |   |   |   NP   |     NP   |   |   |            NP      \n",
            " |    |    ___|____     |    |       |    |   |   |   |    |     |    |   |   |         ___|____    \n",
            "PRP  VBD  DT  NN   NN  VBN   IN      NN   ,   CC VBD PRP   VB    NN   TO  VB  IN       DT       NN \n",
            " |    |   |   |    |    |    |       |    |   |   |   |    |     |    |   |   |        |        |   \n",
            "They had  no ice cream left  at     home  ,  nor did they have money  to  go  to      the     store\n",
            "\n",
            "None\n"
          ]
        }
      ]
    },
    {
      "cell_type": "code",
      "source": [
        "def get_first_VP_and_NP_and_sentence(parse_tree, first_NP=None, first_VP=None, first_sent=None):\n",
        "    if len(parse_tree.leaves()) == 1:\n",
        "        return get_flattened(first_NP), get_flattened(first_VP), get_flattened(first_sent)\n",
        "    last_subtree = parse_tree[-1]\n",
        "\n",
        "    if last_subtree.label() == \"NP\" and not first_NP:\n",
        "        first_NP = last_subtree\n",
        "    elif last_subtree.label() == \"VP\" and not first_VP:\n",
        "        first_VP = last_subtree\n",
        "    elif last_subtree.label() == \"S\" and not first_sent:\n",
        "        first_sent = last_subtree\n",
        "\n",
        "    return get_first_VP_and_NP_and_sentence(last_subtree, first_NP, first_VP, first_sent)\n",
        "\n",
        "\n",
        "first_nounphrase, first_verbphrase, first_sentence = get_first_VP_and_NP_and_sentence(tree2)\n",
        "\n",
        "print(\"first_nounphrase: \",first_nounphrase)\n",
        "print (\"first_verbphrase: \",first_verbphrase)\n",
        "print (\"first_sentence: \",first_sentence)\n"
      ],
      "metadata": {
        "colab": {
          "base_uri": "https://localhost:8080/"
        },
        "id": "CLudkBFMh1em",
        "outputId": "462e0b7b-2b48-47ee-d0f5-99608a4e9350"
      },
      "execution_count": null,
      "outputs": [
        {
          "output_type": "stream",
          "name": "stdout",
          "text": [
            "first_nounphrase:  money to go to the store\n",
            "first_verbphrase:  have money to go to the store\n",
            "first_sentence:  to go to the store\n"
          ]
        }
      ]
    },
    {
      "cell_type": "code",
      "source": [
        "longest_phrase_to_use = max(first_nounphrase, first_verbphrase,key = len)\n",
        "print (\"Ending phrase: \", longest_phrase_to_use)\n",
        "\n",
        "longest_phrase_to_use = re.sub(r\"-LRB- \", \"(\", longest_phrase_to_use)\n",
        "longest_phrase_to_use = re.sub(r\" -RRB-\", \")\", longest_phrase_to_use)\n",
        "\n",
        "\n",
        "split_sentence = get_termination_portion(test_sentence2, longest_phrase_to_use)\n",
        "print (\"Original sentence : \",test_sentence2)\n",
        "print (\"Original sentence after splitting at ending phrase: \",split_sentence)"
      ],
      "metadata": {
        "colab": {
          "base_uri": "https://localhost:8080/"
        },
        "id": "L0ImW5n8h4pQ",
        "outputId": "23d83888-3415-470b-d231-e0a950ec2121"
      },
      "execution_count": null,
      "outputs": [
        {
          "output_type": "stream",
          "name": "stdout",
          "text": [
            "Ending phrase:  have money to go to the store\n",
            "Original sentence :  They had no ice cream left at home, nor did they have money to go to the store\n",
            "Original sentence after splitting at ending phrase:  They had no ice cream left at home, nor did they\n"
          ]
        }
      ]
    },
    {
      "cell_type": "markdown",
      "source": [
        "#Generating endings to the sentence using GPT-2"
      ],
      "metadata": {
        "id": "ruYtcb81iGQ8"
      }
    },
    {
      "cell_type": "code",
      "source": [
        "!pip install transformers==2.8.0"
      ],
      "metadata": {
        "colab": {
          "base_uri": "https://localhost:8080/"
        },
        "id": "ibQNz7LFiN4k",
        "outputId": "672e590b-5b93-4516-ec25-c90b32dce243"
      },
      "execution_count": null,
      "outputs": [
        {
          "output_type": "stream",
          "name": "stdout",
          "text": [
            "Looking in indexes: https://pypi.org/simple, https://us-python.pkg.dev/colab-wheels/public/simple/\n",
            "Collecting transformers==2.8.0\n",
            "  Downloading transformers-2.8.0-py3-none-any.whl (563 kB)\n",
            "\u001b[2K     \u001b[90m━━━━━━━━━━━━━━━━━━━━━━━━━━━━━━━━━━━━━━\u001b[0m \u001b[32m563.8/563.8 KB\u001b[0m \u001b[31m31.6 MB/s\u001b[0m eta \u001b[36m0:00:00\u001b[0m\n",
            "\u001b[?25hRequirement already satisfied: boto3 in /usr/local/lib/python3.8/dist-packages (from transformers==2.8.0) (1.26.82)\n",
            "Requirement already satisfied: sacremoses in /usr/local/lib/python3.8/dist-packages (from transformers==2.8.0) (0.0.53)\n",
            "Requirement already satisfied: tqdm>=4.27 in /usr/local/lib/python3.8/dist-packages (from transformers==2.8.0) (4.64.1)\n",
            "Requirement already satisfied: sentencepiece in /usr/local/lib/python3.8/dist-packages (from transformers==2.8.0) (0.1.95)\n",
            "Requirement already satisfied: numpy in /usr/local/lib/python3.8/dist-packages (from transformers==2.8.0) (1.22.4)\n",
            "Requirement already satisfied: filelock in /usr/local/lib/python3.8/dist-packages (from transformers==2.8.0) (3.9.0)\n",
            "Requirement already satisfied: requests in /usr/local/lib/python3.8/dist-packages (from transformers==2.8.0) (2.25.1)\n",
            "Collecting tokenizers==0.5.2\n",
            "  Downloading tokenizers-0.5.2-cp38-cp38-manylinux1_x86_64.whl (7.4 MB)\n",
            "\u001b[2K     \u001b[90m━━━━━━━━━━━━━━━━━━━━━━━━━━━━━━━━━━━━━━━━\u001b[0m \u001b[32m7.4/7.4 MB\u001b[0m \u001b[31m114.2 MB/s\u001b[0m eta \u001b[36m0:00:00\u001b[0m\n",
            "\u001b[?25hRequirement already satisfied: regex!=2019.12.17 in /usr/local/lib/python3.8/dist-packages (from transformers==2.8.0) (2022.6.2)\n",
            "Requirement already satisfied: botocore<1.30.0,>=1.29.82 in /usr/local/lib/python3.8/dist-packages (from boto3->transformers==2.8.0) (1.29.82)\n",
            "Requirement already satisfied: jmespath<2.0.0,>=0.7.1 in /usr/local/lib/python3.8/dist-packages (from boto3->transformers==2.8.0) (1.0.1)\n",
            "Requirement already satisfied: s3transfer<0.7.0,>=0.6.0 in /usr/local/lib/python3.8/dist-packages (from boto3->transformers==2.8.0) (0.6.0)\n",
            "Requirement already satisfied: idna<3,>=2.5 in /usr/local/lib/python3.8/dist-packages (from requests->transformers==2.8.0) (2.10)\n",
            "Requirement already satisfied: certifi>=2017.4.17 in /usr/local/lib/python3.8/dist-packages (from requests->transformers==2.8.0) (2022.12.7)\n",
            "Requirement already satisfied: urllib3<1.27,>=1.21.1 in /usr/local/lib/python3.8/dist-packages (from requests->transformers==2.8.0) (1.26.14)\n",
            "Requirement already satisfied: chardet<5,>=3.0.2 in /usr/local/lib/python3.8/dist-packages (from requests->transformers==2.8.0) (4.0.0)\n",
            "Requirement already satisfied: click in /usr/local/lib/python3.8/dist-packages (from sacremoses->transformers==2.8.0) (8.1.3)\n",
            "Requirement already satisfied: joblib in /usr/local/lib/python3.8/dist-packages (from sacremoses->transformers==2.8.0) (1.2.0)\n",
            "Requirement already satisfied: six in /usr/local/lib/python3.8/dist-packages (from sacremoses->transformers==2.8.0) (1.15.0)\n",
            "Requirement already satisfied: python-dateutil<3.0.0,>=2.1 in /usr/local/lib/python3.8/dist-packages (from botocore<1.30.0,>=1.29.82->boto3->transformers==2.8.0) (2.8.2)\n",
            "Installing collected packages: tokenizers, transformers\n",
            "  Attempting uninstall: tokenizers\n",
            "    Found existing installation: tokenizers 0.10.3\n",
            "    Uninstalling tokenizers-0.10.3:\n",
            "      Successfully uninstalled tokenizers-0.10.3\n",
            "  Attempting uninstall: transformers\n",
            "    Found existing installation: transformers 4.8.1\n",
            "    Uninstalling transformers-4.8.1:\n",
            "      Successfully uninstalled transformers-4.8.1\n",
            "Successfully installed tokenizers-0.5.2 transformers-2.8.0\n"
          ]
        }
      ]
    },
    {
      "cell_type": "code",
      "source": [
        "import tensorflow as tf\n",
        "from transformers import TFGPT2LMHeadModel, GPT2Tokenizer\n",
        "\n",
        "GPT2tokenizer = GPT2Tokenizer.from_pretrained(\"gpt2\")\n",
        "GPT2model = TFGPT2LMHeadModel.from_pretrained(\"gpt2\",pad_token_id=GPT2tokenizer.eos_token_id)"
      ],
      "metadata": {
        "colab": {
          "base_uri": "https://localhost:8080/",
          "height": 145,
          "referenced_widgets": [
            "b37bbaa87f874d919f2606673ac6c48c",
            "1408c5d6bf59472e8a31d810d9b692ed",
            "12ea010b7e814dd4972f5ba221ce5923",
            "45133d23853e4d049c49c134641a4a88",
            "027baacc8f99404db3394cfe454f307c",
            "13efe85dff424eb39bd8cf92daa9f827",
            "143784b58ea541efb641fef02c4e5004",
            "ecf5d7f16696477292c0acaa018cc2ea",
            "93a228ac43164fd99b836507cb151f7e",
            "c98738479ddd40c5bf982fd1bb5b89d3",
            "1d0d06ce52de4c758328231e12756194",
            "80d0796be865422fb8ccbc1b60d6d291",
            "1c5c98da4cb043a6b2f69035e0642db1",
            "9d46d7dbc92a419e80ef720607b113d1",
            "250d5f9df06e49b1ab899d36f6269a63",
            "4e1befa7096a4da4b936960e99ae3cef",
            "178e5ecb27254ac7bb65b617669f0b15",
            "9b7f559ccd264d08b4be15e456435de4",
            "5dd3e4d82be0404e80727eb6fef3cc3b",
            "a02c899a8cd84f98a594dda21e5a9dc2",
            "1724da678b934aa89ccbfd55fa8ed4b0",
            "66520d0f78fa499590cdbb937da666f1",
            "0fe276a7b483453b8201815f6bb61d6e",
            "093e690e80814de29808cf5405b15cc3",
            "4ac23285f1284149a78060df2b90c495",
            "80c04e86a0f546eb86ac355181ed0eea",
            "19e1663ee03e41e982072a6f7d4ce362",
            "2130a174fffa4f4da5444c3a03981e56",
            "0009a1e78b1d4c99927ab877d0741c60",
            "63dd8546f3c64d55bf34fe72f9964ffd",
            "e95d85fc3db04b00a6235798b8073d18",
            "6b7cd5ef338b4011ae07ea96e8c96278",
            "4e5e358b3b4b4828bd64203f39d95fe0",
            "6c20a0e0725144689913edcc3d221c1b",
            "727a874e3f3743a6afc65d91757efdd8",
            "73439c6d9ef64778b3974f99a4e4188d",
            "3453c2984edc4cd385f7ed6e2ed9c19e",
            "d202dfd0c3954e39a0d7f6c89a419104",
            "167d35cba04d43b6a824c3f39d381223",
            "fc6c113361eb4805b5fd362c4553e63e",
            "f5ad09266ce04f10838295d21a9cb315",
            "76cb1d7a5efe4d04b69ed36184da982f",
            "860fec6829f84abe8b8041cb7dcd42f4",
            "aa44a1bd79c24a709c02fdef356c9dfa"
          ]
        },
        "id": "OZWjvoUDiXnc",
        "outputId": "aab4bae8-1d47-4b30-8d2b-40825b293db3"
      },
      "execution_count": null,
      "outputs": [
        {
          "output_type": "display_data",
          "data": {
            "text/plain": [
              "Downloading:   0%|          | 0.00/1.04M [00:00<?, ?B/s]"
            ],
            "application/vnd.jupyter.widget-view+json": {
              "version_major": 2,
              "version_minor": 0,
              "model_id": "b37bbaa87f874d919f2606673ac6c48c"
            }
          },
          "metadata": {}
        },
        {
          "output_type": "display_data",
          "data": {
            "text/plain": [
              "Downloading:   0%|          | 0.00/456k [00:00<?, ?B/s]"
            ],
            "application/vnd.jupyter.widget-view+json": {
              "version_major": 2,
              "version_minor": 0,
              "model_id": "80d0796be865422fb8ccbc1b60d6d291"
            }
          },
          "metadata": {}
        },
        {
          "output_type": "display_data",
          "data": {
            "text/plain": [
              "Downloading:   0%|          | 0.00/665 [00:00<?, ?B/s]"
            ],
            "application/vnd.jupyter.widget-view+json": {
              "version_major": 2,
              "version_minor": 0,
              "model_id": "0fe276a7b483453b8201815f6bb61d6e"
            }
          },
          "metadata": {}
        },
        {
          "output_type": "display_data",
          "data": {
            "text/plain": [
              "Downloading:   0%|          | 0.00/498M [00:00<?, ?B/s]"
            ],
            "application/vnd.jupyter.widget-view+json": {
              "version_major": 2,
              "version_minor": 0,
              "model_id": "6c20a0e0725144689913edcc3d221c1b"
            }
          },
          "metadata": {}
        }
      ]
    },
    {
      "cell_type": "code",
      "source": [
        "partial_sentence = \"The old woman was sitting under a tree and\"\n",
        "input_ids = GPT2tokenizer.encode(partial_sentence,return_tensors='tf')\n",
        "print (input_ids)\n",
        "maximum_length = len(partial_sentence.split())+40"
      ],
      "metadata": {
        "colab": {
          "base_uri": "https://localhost:8080/"
        },
        "id": "7ZeVq2abieTe",
        "outputId": "43822553-dba4-4fb9-e464-b57623f63b27"
      },
      "execution_count": null,
      "outputs": [
        {
          "output_type": "stream",
          "name": "stdout",
          "text": [
            "tf.Tensor([[ 464 1468 2415  373 5586  739  257 5509  290]], shape=(1, 9), dtype=int32)\n"
          ]
        }
      ]
    },
    {
      "cell_type": "code",
      "source": [
        "sample_outputs = GPT2model.generate(\n",
        "    input_ids, \n",
        "    do_sample=True, \n",
        "    max_length=maximum_length, \n",
        "    top_p=0.80, # 0.85 \n",
        "    top_k=30,   #30\n",
        "    repetition_penalty  = 10.0,\n",
        "    num_return_sequences=10\n",
        ")"
      ],
      "metadata": {
        "id": "skwvXdC9il2P"
      },
      "execution_count": null,
      "outputs": []
    },
    {
      "cell_type": "code",
      "source": [
        "import nltk\n",
        "nltk.download('punkt')\n",
        "from nltk import tokenize\n",
        "generated_sentences=[]\n",
        "\n",
        "for i, sample_output in enumerate(sample_outputs):\n",
        "    decoded_sentence = GPT2tokenizer.decode(sample_output, skip_special_tokens=True)\n",
        "    # final_sentence = decoded_sentence\n",
        "    final_sentence = tokenize.sent_tokenize(decoded_sentence)[0]\n",
        "    generated_sentences.append(final_sentence)\n",
        "    print (i,\": \",final_sentence)"
      ],
      "metadata": {
        "colab": {
          "base_uri": "https://localhost:8080/"
        },
        "id": "HXag4d3uirgY",
        "outputId": "a4a78803-f174-46fb-b6b2-a89b13d7bf37"
      },
      "execution_count": null,
      "outputs": [
        {
          "output_type": "stream",
          "name": "stderr",
          "text": [
            "[nltk_data] Downloading package punkt to /root/nltk_data...\n",
            "[nltk_data]   Unzipping tokenizers/punkt.zip.\n"
          ]
        },
        {
          "output_type": "stream",
          "name": "stdout",
          "text": [
            "0 :  The old woman was sitting under a tree and had just started walking when she noticed something strange.\n",
            "1 :  The old woman was sitting under a tree and her daughter lay next to it.\n",
            "2 :  The old woman was sitting under a tree and her face showed only the faint trace of fear.\n",
            "3 :  The old woman was sitting under a tree and it smelled of burnt wood, the wind whistling in her direction.\n",
            "4 :  The old woman was sitting under a tree and had just sat there in the middle of her life.\n",
            "5 :  The old woman was sitting under a tree and the young man walked over to her.\n",
            "6 :  The old woman was sitting under a tree and had been crying since she got lost.\n",
            "7 :  The old woman was sitting under a tree and looked at me.\n",
            "8 :  The old woman was sitting under a tree and she said, 'It's time to move out of the house.\n",
            "9 :  The old woman was sitting under a tree and looking out of the window.\n"
          ]
        }
      ]
    },
    {
      "cell_type": "code",
      "source": [],
      "metadata": {
        "id": "teE26HBMixMO"
      },
      "execution_count": null,
      "outputs": []
    }
  ]
}